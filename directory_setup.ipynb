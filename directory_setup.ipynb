{
  "nbformat": 4,
  "nbformat_minor": 0,
  "metadata": {
    "colab": {
      "name": "directory_setup.ipynb",
      "provenance": [],
      "collapsed_sections": [],
      "authorship_tag": "ABX9TyPSOkrMDShCUos9yZ93QVkq",
      "include_colab_link": true
    },
    "kernelspec": {
      "name": "python3",
      "display_name": "Python 3"
    },
    "language_info": {
      "name": "python"
    }
  },
  "cells": [
    {
      "cell_type": "markdown",
      "metadata": {
        "id": "view-in-github",
        "colab_type": "text"
      },
      "source": [
        "<a href=\"https://colab.research.google.com/github/adamggibbs/marine-carbonate-system-ml-prediction/blob/master/directory_setup.ipynb\" target=\"_parent\"><img src=\"https://colab.research.google.com/assets/colab-badge.svg\" alt=\"Open In Colab\"/></a>"
      ]
    },
    {
      "cell_type": "markdown",
      "metadata": {
        "id": "R3ayrDocEf5W"
      },
      "source": [
        "# Set Up Directory Structure\n",
        "This notebook allows the user to specify the desired folder for their data to be stored in. It then connects to the user's Google Drive and creates the necessary directory structure for data cleaning, model training, model evaluation, and model storing.\n",
        "\n",
        "## Instructions\n",
        "These following steps will help you set up the necessary directory structure to train your own neural network using our framework. This notebook will run as if off GitHub with an example location currently hardcoded in. Also see this [example](#example) on how to use this notebook.\n",
        "1. Go to your Google Drive and decide where you want all the files to be stored\n",
        "2. Store the path to that folder location in the variable **root_dir_path**.\n",
        "  * This path begins from the My Drive section of your Google Drive. **root_dir_path** gets appended to the end 'content/drive/My Drive/' \n",
        "  * Do not include leading and traing \"/\". For example, '/example/test/' will throw an error, but 'example/test' is acceptable\n",
        "3. Run this notebook by navigating to the toolbar and selecting `Runtime -> Run all` or using `ctrl+F9`\n",
        "4. When prompted, allow access to your Google Drive account by selecting **Connect to Google Drive**, then clicking on the Google Drive account you wish to use, and finally selecting **Continue** to finalize access.\n",
        "  * This allows only this specific Google Colab notebook to access your Google Drive files and will disconnect when the notebook is closed or a certain amount of idle time has passed.\n",
        "5. The directory structure should be set up. Check your Google Drive to confirm. If the notebook does not work or throws an error, see the [Troubleshooting](#troubleshooting) section for help.\n",
        "\n",
        "## Troubleshooting  \n",
        "If any error occurs, first try restarting the runtime by navigating to the toolbar and selecting `Runtime -> Factory reset runtime`. If this does not work, make sure you properly typed in the path to the desired directory location in `root_dir_path`. If neither of these helps, then manually create the file structure using the picture below as reference.  \n",
        "\n",
        "## Example\n",
        "For example, if you have an existing directory **Research** and want a subdirectory named **pH Estimation Framework** to store your files in, then in  you will define \n",
        "```\n",
        "root_dir_path = 'Research/pH Estimation Framework'\n",
        "``` \n",
        "and then run the notebook by navigating to the toolbar and selecting `Runtime -> Run all` or using `ctrl+F9`."
      ]
    },
    {
      "cell_type": "markdown",
      "source": [
        "## Necessary User Defined Variable"
      ],
      "metadata": {
        "id": "PWlCrOc01TjC"
      }
    },
    {
      "cell_type": "code",
      "metadata": {
        "id": "dV-DapY_7A5h"
      },
      "source": [
        "# store name of base level directory that will contain all data\n",
        "# this dir should be created manually within your Google Drive\n",
        "# do NOT include leading '/' and trailing '/'\n",
        "# this is a path from 'My Drive' in your Google Drive\n",
        "\n",
        "# example shows root dir as the folder \"test\" within the foler \"My NN Models\"\n",
        "root_dir_path = 'example_dir/example_dir_2/root_dir'"
      ],
      "execution_count": null,
      "outputs": []
    },
    {
      "cell_type": "code",
      "metadata": {
        "id": "ctGpThnZBnuf",
        "cellView": "form"
      },
      "source": [
        "#@title # Create directory structure.\n",
        "# mount google drive for data storage and access\n",
        "from google.colab import drive\n",
        "drive.mount('/content/drive', force_remount=True)\n",
        "\n",
        "# store base_dir absolute path\n",
        "root_dir = '/content/drive/MyDrive/' + root_dir_path +'/'\n",
        "\n",
        "# move into base_dir to create subdirectories\n",
        "%mkdir -p \"{root_dir}\"\n",
        "%cd \"{root_dir}\"\n",
        "\n",
        "# create all necessary subdirectories\n",
        "%mkdir figs\n",
        "%mkdir models\n",
        "%mkdir data\n",
        "\n",
        "%cd data\n",
        "%mkdir training\n",
        "%mkdir testing\n",
        "%mkdir to_estimate\n",
        "%mkdir estimations\n",
        "%mkdir quality_check\n",
        "\n",
        "print(\"\\n---------------------------------------------------------------------\")\n",
        "print(\"Your root directory to put in the variable root_dir_name \\\n",
        "in the other notebooks is:\\n{}\".format(root_dir[23:]))\n"
      ],
      "execution_count": null,
      "outputs": []
    }
  ]
}