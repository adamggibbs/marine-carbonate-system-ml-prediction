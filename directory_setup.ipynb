{
  "nbformat": 4,
  "nbformat_minor": 0,
  "metadata": {
    "colab": {
      "name": "directory_setup.ipynb",
      "provenance": [],
      "authorship_tag": "ABX9TyNYqMEjCCVJtV8IY7BncuwZ",
      "include_colab_link": true
    },
    "kernelspec": {
      "name": "python3",
      "display_name": "Python 3"
    },
    "language_info": {
      "name": "python"
    }
  },
  "cells": [
    {
      "cell_type": "markdown",
      "metadata": {
        "id": "view-in-github",
        "colab_type": "text"
      },
      "source": [
        "<a href=\"https://colab.research.google.com/github/adamggibbs/marine-carbonate-system-ml-prediction/blob/master/directory_setup.ipynb\" target=\"_parent\"><img src=\"https://colab.research.google.com/assets/colab-badge.svg\" alt=\"Open In Colab\"/></a>"
      ]
    },
    {
      "cell_type": "markdown",
      "metadata": {
        "id": "R3ayrDocEf5W"
      },
      "source": [
        "# Set Up Directory Structure\n",
        "This notebook allows the user to specify the desired folder for their data to be stored in. It then connects to the user's Google Drive and creates the necessary directory structure for data cleaning, model training, model evaluation, and model storing."
      ]
    },
    {
      "cell_type": "code",
      "metadata": {
        "id": "dV-DapY_7A5h"
      },
      "source": [
        "# store base level directory to contain all data\n",
        "# do not include leading '/' and trailing '/'\n",
        "# this is a path from 'My Drive' in your Google Drive\n",
        "root_dir_path = 'pH prediction'"
      ],
      "execution_count": null,
      "outputs": []
    },
    {
      "cell_type": "code",
      "metadata": {
        "colab": {
          "base_uri": "https://localhost:8080/",
          "height": 52
        },
        "id": "_uRXr5F07wuN",
        "outputId": "c3670dae-abee-4973-901b-3d12cb6ece2c"
      },
      "source": [
        "# mount google drive for data storage and access\n",
        "from google.colab import drive\n",
        "drive.mount('/content/drive', force_remount=True)\n",
        "\n",
        "# store base_dir absolute path\n",
        "root_dir = '/content/drive/MyDrive/' + root_dir_path +'/'\n",
        "display(root_dir)"
      ],
      "execution_count": null,
      "outputs": [
        {
          "output_type": "stream",
          "name": "stdout",
          "text": [
            "Mounted at /content/drive\n"
          ]
        },
        {
          "output_type": "display_data",
          "data": {
            "application/vnd.google.colaboratory.intrinsic+json": {
              "type": "string"
            },
            "text/plain": [
              "'/content/drive/MyDrive/pH prediction/'"
            ]
          },
          "metadata": {}
        }
      ]
    },
    {
      "cell_type": "code",
      "metadata": {
        "colab": {
          "base_uri": "https://localhost:8080/"
        },
        "id": "ctGpThnZBnuf",
        "outputId": "a5fbbe03-cb5b-4a8f-f0ee-b825313a206f"
      },
      "source": [
        "# move into base_dir to create subdirectories\n",
        "%cd \"{root_dir}\"\n",
        "\n",
        "# create all necessary subdirectories\n",
        "%mkdir figs\n",
        "%mkdir models\n",
        "%mkdir data\n",
        "\n",
        "%cd data\n",
        "%mkdir training\n",
        "%mkdir testing"
      ],
      "execution_count": null,
      "outputs": [
        {
          "output_type": "stream",
          "name": "stdout",
          "text": [
            "/content/drive/MyDrive/pH prediction\n",
            "/content/drive/MyDrive/pH prediction/data\n"
          ]
        }
      ]
    },
    {
      "cell_type": "code",
      "metadata": {
        "id": "3rljBOmBD3A5"
      },
      "source": [
        ""
      ],
      "execution_count": null,
      "outputs": []
    }
  ]
}