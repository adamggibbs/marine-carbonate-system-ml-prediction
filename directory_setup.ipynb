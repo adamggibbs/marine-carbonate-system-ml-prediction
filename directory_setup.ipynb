{
  "nbformat": 4,
  "nbformat_minor": 0,
  "metadata": {
    "colab": {
      "name": "directory_setup.ipynb",
      "provenance": [],
      "authorship_tag": "ABX9TyPd3g1xYJu4hxR6l7G3jJfH",
      "include_colab_link": true
    },
    "kernelspec": {
      "name": "python3",
      "display_name": "Python 3"
    },
    "language_info": {
      "name": "python"
    }
  },
  "cells": [
    {
      "cell_type": "markdown",
      "metadata": {
        "id": "view-in-github",
        "colab_type": "text"
      },
      "source": [
        "<a href=\"https://colab.research.google.com/github/adamggibbs/marine-carbonate-system-ml-prediction/blob/master/directory_setup.ipynb\" target=\"_parent\"><img src=\"https://colab.research.google.com/assets/colab-badge.svg\" alt=\"Open In Colab\"/></a>"
      ]
    },
    {
      "cell_type": "markdown",
      "metadata": {
        "id": "R3ayrDocEf5W"
      },
      "source": [
        "# Set Up Directory Structure\n",
        "This notebook allows the user to specify the desired folder for their data to be stored in. It then connects to the user's Google Drive and creates the necessary directory structure for data cleaning, model training, model evaluation, and model storing."
      ]
    },
    {
      "cell_type": "code",
      "metadata": {
        "id": "dV-DapY_7A5h"
      },
      "source": [
        "# store base level directory to contain all data\n",
        "# do not include leading '/' and trailing '/'\n",
        "# this is a path from 'My Drive' in your Google Drive\n",
        "root_dir_path = 'pH prediction/test'"
      ],
      "execution_count": 1,
      "outputs": []
    },
    {
      "cell_type": "code",
      "metadata": {
        "colab": {
          "base_uri": "https://localhost:8080/",
          "height": 52
        },
        "id": "_uRXr5F07wuN",
        "outputId": "e3ff79ed-8eb8-492c-f42a-9bfa537c79d7"
      },
      "source": [
        "# mount google drive for data storage and access\n",
        "from google.colab import drive\n",
        "drive.mount('/content/drive', force_remount=True)\n",
        "\n",
        "# store base_dir absolute path\n",
        "root_dir = '/content/drive/MyDrive/' + root_dir_path +'/'\n",
        "display(root_dir)"
      ],
      "execution_count": 2,
      "outputs": [
        {
          "output_type": "stream",
          "name": "stdout",
          "text": [
            "Mounted at /content/drive\n"
          ]
        },
        {
          "output_type": "display_data",
          "data": {
            "application/vnd.google.colaboratory.intrinsic+json": {
              "type": "string"
            },
            "text/plain": [
              "'/content/drive/MyDrive/pH prediction/test/'"
            ]
          },
          "metadata": {}
        }
      ]
    },
    {
      "cell_type": "code",
      "metadata": {
        "colab": {
          "base_uri": "https://localhost:8080/"
        },
        "id": "ctGpThnZBnuf",
        "outputId": "bf7cc0ae-3393-4c4b-b97e-0f1d14ffe160"
      },
      "source": [
        "# move into base_dir to create subdirectories\n",
        "%cd \"{root_dir}\"\n",
        "\n",
        "# create all necessary subdirectories\n",
        "%mkdir figs\n",
        "%mkdir -p glider/raw\n",
        "%mkdir models\n",
        "%mkdir -p ship/raw\n",
        "%mkdir training\n",
        "%mkdir wcoa"
      ],
      "execution_count": 3,
      "outputs": [
        {
          "output_type": "stream",
          "name": "stdout",
          "text": [
            "/content/drive/MyDrive/pH prediction/test\n"
          ]
        }
      ]
    },
    {
      "cell_type": "code",
      "metadata": {
        "id": "3rljBOmBD3A5"
      },
      "source": [
        ""
      ],
      "execution_count": null,
      "outputs": []
    }
  ]
}