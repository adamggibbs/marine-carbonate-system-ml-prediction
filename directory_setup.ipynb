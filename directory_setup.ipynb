{
  "nbformat": 4,
  "nbformat_minor": 0,
  "metadata": {
    "colab": {
      "name": "directory_setup.ipynb",
      "provenance": [],
      "authorship_tag": "ABX9TyPWHC6gdeWeAZPziSx9WLqq",
      "include_colab_link": true
    },
    "kernelspec": {
      "name": "python3",
      "display_name": "Python 3"
    },
    "language_info": {
      "name": "python"
    }
  },
  "cells": [
    {
      "cell_type": "markdown",
      "metadata": {
        "id": "view-in-github",
        "colab_type": "text"
      },
      "source": [
        "<a href=\"https://colab.research.google.com/github/adamggibbs/marine-carbonate-system-ml-prediction/blob/master/directory_setup.ipynb\" target=\"_parent\"><img src=\"https://colab.research.google.com/assets/colab-badge.svg\" alt=\"Open In Colab\"/></a>"
      ]
    },
    {
      "cell_type": "markdown",
      "metadata": {
        "id": "R3ayrDocEf5W"
      },
      "source": [
        "# Set Up Directory Structure\n",
        "This notebook allows the user to specify the desired folder for their data to be stored in. It then connects to the user's Google Drive and creates the necessary directory structure for data cleaning, model training, model evaluation, and model storing.\n",
        "\n",
        "## Instructions\n",
        "1. Go to your Google Drive and create a folder where you want all the files to be stored\n",
        "2. Store the path to that folder in the variable **root_dir_path**.\n",
        "  * This path begins from the My Drive section of your Google Drive. **root_dir_path** gets appended to the end 'content/drive/My Drive/' \n",
        "  * Do not include leading and traing \"/\". For example, '/example/test/' will throw an error, but 'example/test' is acceptable\n"
      ]
    },
    {
      "cell_type": "code",
      "metadata": {
        "id": "dV-DapY_7A5h"
      },
      "source": [
        "# store name of base level directory that will contain all data\n",
        "# this dir should be created manually within your Google Drive\n",
        "# do NOT include leading '/' and trailing '/'\n",
        "# this is a path from 'My Drive' in your Google Drive\n",
        "\n",
        "# example shows root dir as the folder \"test\" within the foler \"My NN Models\"\n",
        "root_dir_path = 'test'"
      ],
      "execution_count": 1,
      "outputs": []
    },
    {
      "cell_type": "code",
      "metadata": {
        "id": "ctGpThnZBnuf",
        "outputId": "b4bdfcac-d67e-40cf-b8c3-d83351533a9f",
        "colab": {
          "base_uri": "https://localhost:8080/"
        },
        "cellView": "form"
      },
      "source": [
        "#@title # Create directory structure.\n",
        "# mount google drive for data storage and access\n",
        "from google.colab import drive\n",
        "drive.mount('/content/drive', force_remount=True)\n",
        "\n",
        "# store base_dir absolute path\n",
        "root_dir = '/content/drive/MyDrive/' + root_dir_path +'/'\n",
        "\n",
        "# move into base_dir to create subdirectories\n",
        "%cd \"{root_dir}\"\n",
        "\n",
        "# create all necessary subdirectories\n",
        "%mkdir figs\n",
        "%mkdir models\n",
        "%mkdir data\n",
        "\n",
        "%cd data\n",
        "%mkdir training\n",
        "%mkdir testing\n",
        "%mkdir to_estimate\n",
        "%mkdir estimations\n",
        "%mkdir quality_check"
      ],
      "execution_count": 2,
      "outputs": [
        {
          "output_type": "stream",
          "name": "stdout",
          "text": [
            "Mounted at /content/drive\n",
            "/content/drive/MyDrive/test\n",
            "/content/drive/MyDrive/test/data\n"
          ]
        }
      ]
    }
  ]
}