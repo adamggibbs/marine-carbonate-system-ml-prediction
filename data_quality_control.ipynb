{
  "nbformat": 4,
  "nbformat_minor": 0,
  "metadata": {
    "colab": {
      "name": "data_quality_control.ipynb",
      "provenance": [],
      "include_colab_link": true
    },
    "kernelspec": {
      "name": "python3",
      "display_name": "Python 3"
    },
    "language_info": {
      "name": "python"
    }
  },
  "cells": [
    {
      "cell_type": "markdown",
      "metadata": {
        "id": "view-in-github",
        "colab_type": "text"
      },
      "source": [
        "<a href=\"https://colab.research.google.com/github/adamggibbs/marine-carbonate-system-ml-prediction/blob/master/data_quality_control.ipynb\" target=\"_parent\"><img src=\"https://colab.research.google.com/assets/colab-badge.svg\" alt=\"Open In Colab\"/></a>"
      ]
    },
    {
      "cell_type": "markdown",
      "source": [
        "# Quality Check Notebook\n",
        "\n",
        "This notebook performs quality checks for pH, pressure, salinity, oxygen, and temperature inputs."
      ],
      "metadata": {
        "id": "L6hQvKwHZ6KA"
      }
    },
    {
      "cell_type": "markdown",
      "source": [
        "# User Defined Variables"
      ],
      "metadata": {
        "id": "HnPp5HNhZPtG"
      }
    },
    {
      "cell_type": "code",
      "metadata": {
        "id": "kTV_GAk4Wi2Q",
        "cellView": "form"
      },
      "source": [
        "#@title # Set up environment. \n",
        "\n",
        "# IMPORTS \n",
        "\n",
        "# mount google drive for data storage and access\n",
        "from google.colab import drive\n",
        "drive.mount('/content/drive', force_remount=True)\n",
        "\n",
        "import os\n",
        "\n",
        "import pandas as pd\n",
        "import numpy as np\n"
      ],
      "execution_count": null,
      "outputs": []
    },
    {
      "cell_type": "code",
      "metadata": {
        "id": "CNd-ru23WnoS"
      },
      "source": [
        "# STORE DIRECTORY WHERE DATA IS STORED\n",
        "\n",
        "# name of folder in Google Drive \n",
        "# should be a relative path from 'My Drive' and end with trailing '/'\n",
        "# exclude beginning '/'\n",
        "root_dir_name = 'Example/'"
      ],
      "execution_count": null,
      "outputs": []
    },
    {
      "cell_type": "markdown",
      "source": [
        "## Store directory variables."
      ],
      "metadata": {
        "id": "kB2yBrTOaOrg"
      }
    },
    {
      "cell_type": "code",
      "source": [
        "# data dirs\n",
        "root_dir = '/content/drive/MyDrive/'+ root_dir_name\n",
        "data_dir = root_dir + 'data/'\n",
        "qc_dir=data_dir + 'quality_check/'"
      ],
      "metadata": {
        "id": "mI4024j2aSom"
      },
      "execution_count": null,
      "outputs": []
    },
    {
      "cell_type": "markdown",
      "source": [
        "# Quality Checking Code"
      ],
      "metadata": {
        "id": "eu79vM5tZ12x"
      }
    },
    {
      "cell_type": "code",
      "metadata": {
        "id": "NmURQsOcXCuv",
        "cellView": "form"
      },
      "source": [
        "#@title # Define quality checking functions.\n",
        "# FUNCTION TO READ GLIDER FILE IN A PANDAS DATAFRAME\n",
        "def read_file(file):\n",
        "  names = [ 'Cruise', 'Station', 'Type',\t'DATE', 'TIME', 'LONGITUDE',\t\n",
        "         'LATITUDE',\t'QF',\t'PRS', 'PRS_QF', 'TMP', 'TMP_QF', \n",
        "         'SAL', 'SAL_QF', 'Sigma_theta', 'ST_QF', 'DEPTH', 'DEPTH_QF', \n",
        "         'OXYGEN', 'OXYGEN_QF',\t'SATOXY',\t'SATOXY_QF',\t'NITRATE', \n",
        "         'NITRATE_QF', 'CHL_A', 'CHL_A_QF', 'BBP700', 'BBP700_QF', 'PH_INSITU', \n",
        "         'PH_INSITU_QF', 'BBP532', 'BBP_532_QF', 'CDOM', 'CDOM_QF', 'TALK_CANYONB',\t\n",
        "         'TALK_QF', 'DIC_CANYONB', 'DIC_QF', 'pCO2_CANYONB', 'pCO2_QF', \n",
        "         'SAT_AR_CANYONB', 'SAT_AR_QF', 'pH25C_1atm', 'pH25C_1atm_QF' ]\n",
        "\n",
        "  df = pd.read_csv(file, skiprows=7, header=None, sep='\\t', names=names)\n",
        "  df = df.dropna(axis=0, how='any').reset_index(drop=True)\n",
        "  \n",
        "  return df\n",
        "\n",
        "def check_qfs(file, save_csv=True):\n",
        "  # read in csv\n",
        "  dataframe = read_file(file)\n",
        "\n",
        "  df = dataframe[[ 'PH_INSITU', 'PH_INSITU_QF', 'PRS', 'PRS_QF', 'TMP', 'TMP_QF', \n",
        "           'SAL', 'SAL_QF', 'OXYGEN', 'OXYGEN_QF']].to_numpy()\n",
        "\n",
        "  for ind in range(0, len(df)):\n",
        "    # check pH QFs\n",
        "    pH = df[ind][0]\n",
        "    qf = df[ind][1]\n",
        "    if pH < 7.3 or pH > 8.5:\n",
        "      df[ind][1] = 8\n",
        "    elif ind > 1 and ind + 2 < len(df):\n",
        "      test = pH - np.median((df[ind-2][0], df[ind-1][0], \n",
        "                              pH, \n",
        "                              df[ind+1][0], df[ind+2][0]))\n",
        "      if abs(test) > 0.04:\n",
        "        df[ind][1] = 8\n",
        "\n",
        "    sal = df[ind][6]\n",
        "    if sal < 32.5 or sal > 34.5:\n",
        "      df[ind][7] = 8\n",
        "\n",
        "    # check inputs QFs\n",
        "    if float(df[ind][2]) == -999:\n",
        "      df[ind][3] = 8\n",
        "    if float(df[ind][4]) == -999:\n",
        "      df[ind][5] = 8\n",
        "    if float(df[ind][6]) == -999:\n",
        "      df[ind][7] = 8\n",
        "    if float(df[ind][8]) == -999:\n",
        "      df[ind][9] = 8\n",
        "\n",
        "  # update pH QFs\n",
        "  dataframe['PH_INSITU_QF'] = df[:,1]\n",
        "  # update inputs QFs\n",
        "  dataframe['PRS_QF'] = df[:,3]\n",
        "  dataframe['TMP_QF'] = df[:,5]\n",
        "  dataframe['SAL_QF'] = df[:,7]\n",
        "  dataframe['OXYGEN_QF'] = df[:,9]\n",
        "\n",
        "  dataframe.to_csv(file[:-3] + 'csv', header=True, index=False)\n"
      ],
      "execution_count": null,
      "outputs": []
    },
    {
      "cell_type": "code",
      "metadata": {
        "id": "Rlg-OKgBG90n",
        "cellView": "form"
      },
      "source": [
        "  #@title # Run quality checks. \n",
        "  # loop through all data files and add them to input array\n",
        "  print('Parsing the following files:\\n')\n",
        "  for file in os.listdir(qc_dir):\n",
        "    print(qc_dir + file)\n",
        "    check_qfs(qc_dir + file)\n",
        "  print('\\nComplete.')\n"
      ],
      "execution_count": null,
      "outputs": []
    }
  ]
}