{
  "nbformat": 4,
  "nbformat_minor": 0,
  "metadata": {
    "colab": {
      "name": "data_quality_control.ipynb",
      "provenance": [],
      "include_colab_link": true
    },
    "kernelspec": {
      "name": "python3",
      "display_name": "Python 3"
    },
    "language_info": {
      "name": "python"
    }
  },
  "cells": [
    {
      "cell_type": "markdown",
      "metadata": {
        "id": "view-in-github",
        "colab_type": "text"
      },
      "source": [
        "<a href=\"https://colab.research.google.com/github/adamggibbs/marine-carbonate-system-ml-prediction/blob/master/data_quality_control.ipynb\" target=\"_parent\"><img src=\"https://colab.research.google.com/assets/colab-badge.svg\" alt=\"Open In Colab\"/></a>"
      ]
    },
    {
      "cell_type": "code",
      "metadata": {
        "colab": {
          "base_uri": "https://localhost:8080/"
        },
        "id": "kTV_GAk4Wi2Q",
        "outputId": "6580a65e-5cc3-433c-b479-a6e0bc194943"
      },
      "source": [
        "# SET UP ENVIRONMENT \n",
        "\n",
        "# mount google drive for data storage and access\n",
        "from google.colab import drive\n",
        "drive.mount('/content/drive', force_remount=True)\n"
      ],
      "execution_count": 1,
      "outputs": [
        {
          "output_type": "stream",
          "name": "stdout",
          "text": [
            "Mounted at /content/drive\n"
          ]
        }
      ]
    },
    {
      "cell_type": "code",
      "metadata": {
        "id": "paz3mGRtWnEC"
      },
      "source": [
        "# IMPORTS\n",
        "\n",
        "import os\n",
        "\n",
        "import pandas as pd\n",
        "import numpy as np\n"
      ],
      "execution_count": 2,
      "outputs": []
    },
    {
      "cell_type": "code",
      "metadata": {
        "id": "CNd-ru23WnoS"
      },
      "source": [
        "# STORE DIRECTORY WHERE DATA IS STORED\n",
        "\n",
        "# name of folder in Google Drive \n",
        "# should be a relative path from 'My Drive' and end with trailing '/'\n",
        "# exclude beginning '/'\n",
        "root_dir_name = 'Example/'\n",
        "\n",
        "# data dirs\n",
        "root_dir = '/content/drive/MyDrive/'+ root_dir_name\n",
        "data_dir = root_dir + 'data/'\n",
        "qc_dir=data_dir + 'quality_check/'\n"
      ],
      "execution_count": 3,
      "outputs": []
    },
    {
      "cell_type": "code",
      "metadata": {
        "id": "PD6VRUqzWpuG"
      },
      "source": [
        "# FUNCTION TO READ GLIDER FILE IN A PANDAS DATAFRAME\n",
        "def read_file(file):\n",
        "  names = [ 'Cruise', 'Station', 'Type',\t'DATE', 'TIME', 'LONGITUDE',\t\n",
        "         'LATITUDE',\t'QF',\t'PRS', 'PRS_QF', 'TMP', 'TMP_QF', \n",
        "         'SAL', 'SAL_QF', 'Sigma_theta', 'ST_QF', 'DEPTH', 'DEPTH_QF', \n",
        "         'OXYGEN', 'OXYGEN_QF',\t'SATOXY',\t'SATOXY_QF',\t'NITRATE', \n",
        "         'NITRATE_QF', 'CHL_A', 'CHL_A_QF', 'BBP700', 'BBP700_QF', 'PH_INSITU', \n",
        "         'PH_INSITU_QF', 'BBP532', 'BBP_532_QF', 'CDOM', 'CDOM_QF', 'TALK_CANYONB',\t\n",
        "         'TALK_QF', 'DIC_CANYONB', 'DIC_QF', 'pCO2_CANYONB', 'pCO2_QF', \n",
        "         'SAT_AR_CANYONB', 'SAT_AR_QF', 'pH25C_1atm', 'pH25C_1atm_QF' ]\n",
        "\n",
        "  df = pd.read_csv(file, skiprows=7, header=None, sep='\\t', names=names)\n",
        "  df = df.dropna(axis=0, how='any').reset_index(drop=True)\n",
        "  \n",
        "  return df"
      ],
      "execution_count": 4,
      "outputs": []
    },
    {
      "cell_type": "code",
      "metadata": {
        "id": "Hh4_Jzk8W-fe"
      },
      "source": [
        "# # READ DATA INTO A PANDAS DATAFRAME TO DISPLAY\n",
        "\n",
        "# print('Files in glider data folder:')\n",
        "# display(os.listdir(raw_glider_dir))\n",
        "\n",
        "# dfs_glider = []\n",
        "# for file in os.listdir(raw_glider_dir):\n",
        "#   if file == '19702901.txt':\n",
        "#     continue\n",
        "#   dfs_glider.append(read_glider_file(raw_glider_dir + file))\n",
        "\n",
        "# print()\n",
        "# print(\"There are {0} dataframes from {0} shipboard data files\".format(len(dfs_glider)))\n",
        "# print(\"Adjust the index below to toggle which one is displayed.\")\n",
        "# print()\n",
        "# display(dfs_glider[0])"
      ],
      "execution_count": 5,
      "outputs": []
    },
    {
      "cell_type": "code",
      "metadata": {
        "id": "NmURQsOcXCuv"
      },
      "source": [
        "def check_qfs(file, save_csv=True):\n",
        "  # read in csv\n",
        "  dataframe = read_file(file)\n",
        "\n",
        "  df = dataframe[[ 'PH_INSITU', 'PH_INSITU_QF', 'PRS', 'PRS_QF', 'TMP', 'TMP_QF', \n",
        "           'SAL', 'SAL_QF', 'OXYGEN', 'OXYGEN_QF']].to_numpy()\n",
        "\n",
        "  for ind in range(0, len(df)):\n",
        "    # check pH QFs\n",
        "    pH = df[ind][0]\n",
        "    qf = df[ind][1]\n",
        "    if pH < 7.3 or pH > 8.5:\n",
        "      df[ind][1] = 8\n",
        "    elif ind > 1 and ind + 2 < len(df):\n",
        "      test = pH - np.median((df[ind-2][0], df[ind-1][0], \n",
        "                              pH, \n",
        "                              df[ind+1][0], df[ind+2][0]))\n",
        "      if abs(test) > 0.04:\n",
        "        df[ind][1] = 8\n",
        "\n",
        "    sal = df[ind][6]\n",
        "    if sal < 32.5 or sal > 34.5:\n",
        "      df[ind][7] = 8\n",
        "\n",
        "    # check inputs QFs\n",
        "    if float(df[ind][2]) == -999:\n",
        "      df[ind][3] = 8\n",
        "    if float(df[ind][4]) == -999:\n",
        "      df[ind][5] = 8\n",
        "    if float(df[ind][6]) == -999:\n",
        "      df[ind][7] = 8\n",
        "    if float(df[ind][8]) == -999:\n",
        "      df[ind][9] = 8\n",
        "\n",
        "  # update pH QFs\n",
        "  dataframe['PH_INSITU_QF'] = df[:,1]\n",
        "  # update inputs QFs\n",
        "  dataframe['PRS_QF'] = df[:,3]\n",
        "  dataframe['TMP_QF'] = df[:,5]\n",
        "  dataframe['SAL_QF'] = df[:,7]\n",
        "  dataframe['OXYGEN_QF'] = df[:,9]\n",
        "\n",
        "  dataframe.to_csv(file[:-3] + 'csv', header=True, index=False)\n"
      ],
      "execution_count": 6,
      "outputs": []
    },
    {
      "cell_type": "code",
      "metadata": {
        "colab": {
          "base_uri": "https://localhost:8080/"
        },
        "id": "Rlg-OKgBG90n",
        "outputId": "168b7c54-11fd-4a20-d253-b293c888587a"
      },
      "source": [
        "  # loop through all data files and add them to input array\n",
        "  print('Parsing the following files:\\n')\n",
        "  for file in os.listdir(qc_dir):\n",
        "    print(qc_dir + file)\n",
        "    check_qfs(qc_dir + file)\n",
        "  print('\\nComplete.')\n"
      ],
      "execution_count": 7,
      "outputs": [
        {
          "output_type": "stream",
          "name": "stdout",
          "text": [
            "Parsing the following files:\n",
            "\n",
            "/content/drive/MyDrive/Example/data/quality_check/Copy of 21202901.txt\n",
            "/content/drive/MyDrive/Example/data/quality_check/Copy of 20202901.txt\n",
            "/content/drive/MyDrive/Example/data/quality_check/Copy of 19702901.txt\n",
            "/content/drive/MyDrive/Example/data/quality_check/Copy of 20A02901.txt\n",
            "/content/drive/MyDrive/Example/data/quality_check/Copy of 19502902.txt\n",
            "/content/drive/MyDrive/Example/data/quality_check/19A02901.txt\n",
            "\n",
            "Complete.\n"
          ]
        }
      ]
    }
  ]
}