{
  "nbformat": 4,
  "nbformat_minor": 0,
  "metadata": {
    "colab": {
      "name": "model_evaluation.ipynb",
      "provenance": [],
      "collapsed_sections": [
        "nPOwjd8FqIgY"
      ],
      "authorship_tag": "ABX9TyPld/G5hN4605o3tfjXVOqZ",
      "include_colab_link": true
    },
    "kernelspec": {
      "name": "python3",
      "display_name": "Python 3"
    },
    "language_info": {
      "name": "python"
    }
  },
  "cells": [
    {
      "cell_type": "markdown",
      "metadata": {
        "id": "view-in-github",
        "colab_type": "text"
      },
      "source": [
        "<a href=\"https://colab.research.google.com/github/adamggibbs/marine-carbonate-system-ml-prediction/blob/master/model_evaluation.ipynb\" target=\"_parent\"><img src=\"https://colab.research.google.com/assets/colab-badge.svg\" alt=\"Open In Colab\"/></a>"
      ]
    },
    {
      "cell_type": "code",
      "metadata": {
        "colab": {
          "base_uri": "https://localhost:8080/"
        },
        "id": "nxuN_EUFodpn",
        "outputId": "ae47bbad-c3e0-4a25-c866-2a87a8a823c8"
      },
      "source": [
        "from google.colab import drive\n",
        "\n",
        "drive.mount('/content/drive', force_remount=True)"
      ],
      "execution_count": 19,
      "outputs": [
        {
          "output_type": "stream",
          "text": [
            "Mounted at /content/drive\n"
          ],
          "name": "stdout"
        }
      ]
    },
    {
      "cell_type": "code",
      "metadata": {
        "id": "gCW8VtQtopBI"
      },
      "source": [
        "# IMPORTS\n",
        "\n",
        "import os\n",
        "import math\n",
        "\n",
        "import numpy as np\n",
        "import pandas as pd\n",
        "import matplotlib.pyplot as plt\n",
        "\n",
        "%tensorflow_version 2.x\n",
        "import tensorflow as tf\n",
        "from tensorflow import keras\n",
        "from tensorflow.keras import layers\n",
        "from tensorflow.keras import metrics\n",
        "from tensorflow.keras.layers.experimental import preprocessing\n",
        "from sklearn import metrics\n",
        "\n",
        "# data dirs\n",
        "data_dir = '/content/drive/MyDrive/Adam Gibbs/data/'\n",
        "model_dir = data_dir + 'models/'\n",
        "training_dir=data_dir + 'training/'\n",
        "# ship_dir = data_dir + 'ship/'\n",
        "# glider_dir = data_dir + 'glider/'\n",
        "# wcoa_dir = data_dir + 'wcoa/'"
      ],
      "execution_count": 20,
      "outputs": []
    },
    {
      "cell_type": "markdown",
      "metadata": {
        "id": "mXnf67kGHCu-"
      },
      "source": [
        "# Load in data files and model"
      ]
    },
    {
      "cell_type": "code",
      "metadata": {
        "colab": {
          "base_uri": "https://localhost:8080/",
          "height": 140
        },
        "id": "-ErO6ngWoqFr",
        "outputId": "84ebefce-a132-43f2-86f0-0669f6397527"
      },
      "source": [
        "# load in txt data\n",
        "\n",
        "train_inputs = np.loadtxt(training_dir+'training_tpso_input.csv', \n",
        "                        delimiter=\",\", \n",
        "                        dtype='float')\n",
        "train_outputs = np.loadtxt(training_dir+'training_ph_output.csv', \n",
        "                        delimiter=\",\", \n",
        "                        dtype='float')\n",
        "\n",
        "val_inputs = np.loadtxt(training_dir+'validation_tpso_input.csv', \n",
        "                        delimiter=\",\", \n",
        "                        dtype='float')\n",
        "val_outputs = np.loadtxt(training_dir+'validation_ph_output.csv', \n",
        "                        delimiter=\",\", \n",
        "                        dtype='float')\n",
        "\n",
        "test_inputs = np.loadtxt(training_dir+'testing_tpso_input.csv', \n",
        "                        delimiter=\",\", \n",
        "                        dtype='float')\n",
        "test_outputs = np.loadtxt(training_dir+'testing_ph_output.csv', \n",
        "                        delimiter=\",\", \n",
        "                        dtype='float')\n",
        "\n",
        "canyonb_pH_outputs = np.loadtxt(training_dir+'canyonb_outputs.csv', \n",
        "                        delimiter=\",\", \n",
        "                        dtype='float')\n",
        "\n",
        "display(train_inputs.shape)\n",
        "display(train_outputs.shape)\n",
        "\n",
        "display(val_inputs.shape)\n",
        "display(val_outputs.shape)\n",
        "\n",
        "display(test_inputs.shape)\n",
        "display(test_outputs.shape)\n",
        "\n",
        "display(canyonb_pH_outputs.shape)\n"
      ],
      "execution_count": 21,
      "outputs": [
        {
          "output_type": "display_data",
          "data": {
            "text/plain": [
              "(385716, 7)"
            ]
          },
          "metadata": {
            "tags": []
          }
        },
        {
          "output_type": "display_data",
          "data": {
            "text/plain": [
              "(385716,)"
            ]
          },
          "metadata": {
            "tags": []
          }
        },
        {
          "output_type": "display_data",
          "data": {
            "text/plain": [
              "(128572, 7)"
            ]
          },
          "metadata": {
            "tags": []
          }
        },
        {
          "output_type": "display_data",
          "data": {
            "text/plain": [
              "(128572,)"
            ]
          },
          "metadata": {
            "tags": []
          }
        },
        {
          "output_type": "display_data",
          "data": {
            "text/plain": [
              "(128572, 7)"
            ]
          },
          "metadata": {
            "tags": []
          }
        },
        {
          "output_type": "display_data",
          "data": {
            "text/plain": [
              "(128572,)"
            ]
          },
          "metadata": {
            "tags": []
          }
        },
        {
          "output_type": "display_data",
          "data": {
            "text/plain": [
              "(128572,)"
            ]
          },
          "metadata": {
            "tags": []
          }
        }
      ]
    },
    {
      "cell_type": "code",
      "metadata": {
        "colab": {
          "base_uri": "https://localhost:8080/"
        },
        "cellView": "code",
        "id": "_cV4E9GOovj5",
        "outputId": "a5907b1f-3c09-44df-b13c-9ea339167688"
      },
      "source": [
        "# LOAD IN MODELS\n",
        "model_name = 'DNN'\n",
        "loaded_model = tf.keras.models.load_model(model_dir+'DNN(64,64,64,64)mse', compile=True)\n",
        "loaded_model.summary()"
      ],
      "execution_count": 22,
      "outputs": [
        {
          "output_type": "stream",
          "text": [
            "Model: \"sequential\"\n",
            "_________________________________________________________________\n",
            "Layer (type)                 Output Shape              Param #   \n",
            "=================================================================\n",
            "normalization (Normalization (None, 7)                 15        \n",
            "_________________________________________________________________\n",
            "dense (Dense)                (None, 64)                512       \n",
            "_________________________________________________________________\n",
            "dense_1 (Dense)              (None, 64)                4160      \n",
            "_________________________________________________________________\n",
            "dense_2 (Dense)              (None, 64)                4160      \n",
            "_________________________________________________________________\n",
            "dense_3 (Dense)              (None, 64)                4160      \n",
            "_________________________________________________________________\n",
            "dense_4 (Dense)              (None, 1)                 65        \n",
            "=================================================================\n",
            "Total params: 13,072\n",
            "Trainable params: 13,057\n",
            "Non-trainable params: 15\n",
            "_________________________________________________________________\n"
          ],
          "name": "stdout"
        }
      ]
    },
    {
      "cell_type": "code",
      "metadata": {
        "colab": {
          "base_uri": "https://localhost:8080/"
        },
        "id": "V9A209-Bq4ww",
        "outputId": "575479bb-3b99-4cad-81be-8ad8724300b3"
      },
      "source": [
        "test_results = {}\n",
        "train_performance = loaded_model.evaluate(train_inputs, train_outputs)\n",
        "val_performance = loaded_model.evaluate(val_inputs, val_outputs) \n",
        "test_performance = loaded_model.evaluate(test_inputs, test_outputs) "
      ],
      "execution_count": 23,
      "outputs": [
        {
          "output_type": "stream",
          "text": [
            "12054/12054 [==============================] - 19s 2ms/step - loss: 6.0728e-05 - mean_absolute_error: 0.0045 - mean_squared_error: 6.0728e-05 - root_mean_squared_error: 0.0078\n",
            "4018/4018 [==============================] - 6s 2ms/step - loss: 6.2268e-05 - mean_absolute_error: 0.0045 - mean_squared_error: 6.2268e-05 - root_mean_squared_error: 0.0079\n",
            "4018/4018 [==============================] - 6s 2ms/step - loss: 6.5538e-05 - mean_absolute_error: 0.0045 - mean_squared_error: 6.5538e-05 - root_mean_squared_error: 0.0081\n"
          ],
          "name": "stdout"
        }
      ]
    },
    {
      "cell_type": "markdown",
      "metadata": {
        "id": "knTl-3r_9FFb"
      },
      "source": [
        "# Calculate Prediction and Depth Arrays\n",
        "### Run these cells before running the following analyses "
      ]
    },
    {
      "cell_type": "code",
      "metadata": {
        "colab": {
          "base_uri": "https://localhost:8080/"
        },
        "id": "rKO0GsOJ97QP",
        "outputId": "32a4541a-f599-4149-b50c-d40a673fb05d"
      },
      "source": [
        "# make predictions on testing dataset with neural network\n",
        "test_predictions = loaded_model.predict(test_inputs, verbose=1).flatten()\n",
        "print('Calculated {} pH estimates with model {}'.format(len(test_predictions), model_name))"
      ],
      "execution_count": 24,
      "outputs": [
        {
          "output_type": "stream",
          "text": [
            "4018/4018 [==============================] - 5s 1ms/step\n",
            "Calculated 128572 pH estimates with model DNN\n"
          ],
          "name": "stdout"
        }
      ]
    },
    {
      "cell_type": "code",
      "metadata": {
        "id": "U6ulQ7Nt9Dna"
      },
      "source": [
        "# FUNCTION: CONVERT PRESSURE TO DEPTH\n",
        "# Python version of the following MATLAB function\n",
        "'''\n",
        "% SW_DPTH    Depth from pressure\n",
        "%===========================================================================\n",
        "% SW_DPTH   $Id: sw_dpth.m,v 1.1 2003/12/12 04:23:22 pen078 Exp $\n",
        "%           Copyright (C) CSIRO, Phil Morgan 1992.\n",
        "%\n",
        "% USAGE:  dpth = sw_dpth(P,LAT)\n",
        "%\n",
        "% DESCRIPTION:\n",
        "%    Calculates depth in metres from pressure in dbars.\n",
        "%\n",
        "% INPUT:  (all must have same dimensions)\n",
        "%   P   = Pressure    [db]\n",
        "%   LAT = Latitude in decimal degress north [-90..+90]\n",
        "%         (lat may have dimensions 1x1 or 1xn where P(mxn).\n",
        "%\n",
        "% OUTPUT:\n",
        "%  dpth = depth [metres]\n",
        "%\n",
        "% AUTHOR:  Phil Morgan 92-04-06  (morgan@ml.csiro.au)\n",
        "%\n",
        "% DISCLAIMER:\n",
        "%   This software is provided \"as is\" without warranty of any kind.\n",
        "%   See the file sw_copy.m for conditions of use and licence.\n",
        "%\n",
        "% REFERENCES:\n",
        "%    Unesco 1983. Algorithms for computation of fundamental properties of\n",
        "%    seawater, 1983. _Unesco Tech. Pap. in Mar. Sci._, No. 44, 53 pp.\n",
        "%=========================================================================\n",
        "'''\n",
        "def pres_to_depth(pres, lat):\n",
        "\n",
        "  # define constants\n",
        "  DEG2RAD = math.pi/180\n",
        "  c1 = 9.72659\n",
        "  c2 = -2.2512E-5\n",
        "  c3 = 2.279E-10\n",
        "  c4 = -1.82E-15\n",
        "  gam_dash = 2.184E-6\n",
        "\n",
        "  # convert latitude\n",
        "  LAT = abs(lat)\n",
        "  X = math.sin(LAT*DEG2RAD)\n",
        "  X = X*X\n",
        "\n",
        "  # calculate denomenator and numerator\n",
        "  denom = 9.780318*(1.0+(5.2788E-3 + 2.36E-5*X)*X) + gam_dash*0.5*pres \n",
        "  numer = (((c4 * pres + c3) * pres + c2) * pres + c1) * pres\n",
        "\n",
        "  # return quotient\n",
        "  return numer / denom\n",
        "\n",
        "################################################################################\n",
        "\n",
        "# FUNCTION: CONVERT ARRAY OF INPUTS TO AN ARRAY OF DEPTHS\n",
        "def get_depths(input_arr):\n",
        "  # create numpy array to store depths\n",
        "  depths = np.zeros(len(input_arr))\n",
        "  # loop through inputs and calculate depth\n",
        "  ind = 0\n",
        "  for input in input_arr:\n",
        "    depths[ind] = pres_to_depth(input[3], input[1])\n",
        "    ind += 1\n",
        "  # return depth array\n",
        "  return depths\n",
        "\n",
        "################################################################################\n",
        "\n",
        "# get depths from inputs\n",
        "test_depths = get_depths(test_inputs)"
      ],
      "execution_count": 25,
      "outputs": []
    },
    {
      "cell_type": "code",
      "metadata": {
        "colab": {
          "base_uri": "https://localhost:8080/",
          "height": 123
        },
        "id": "dyiPdkfw73LN",
        "outputId": "1ea9ff3f-63cd-4796-b45d-18b1c809c751"
      },
      "source": [
        "# GET DATAPOINTS FROM SHALLOW DEPTHS (<200m)\n",
        "\n",
        "# loop through depths and get indices of deep datapoints \n",
        "ind = 0\n",
        "inds = []\n",
        "for depth in test_depths:\n",
        "  if depth > 200:\n",
        "    inds.append(ind)\n",
        "  ind += 1\n",
        "\n",
        "# delete deep datapoints and store resulting array of shallow datapoints\n",
        "shallow_test_depths = np.delete(test_depths, inds, axis=0)\n",
        "shallow_test_predictions = np.delete(test_predictions, inds, axis =0)\n",
        "shallow_canyonb_pH_outputs = np.delete(canyonb_pH_outputs, inds, axis=0)\n",
        "shallow_test_outputs = np.delete(test_outputs, inds, axis=0)\n",
        "\n",
        "# ensure there are no deep datapoints\n",
        "count = 0\n",
        "for depth in shallow_test_depths:\n",
        "  if depth > 200:\n",
        "    count += 1\n",
        "print('Number of datapoints of depth greater than 200m: {}'.format(count))\n",
        "\n",
        "print('Shape of each shallow data array (all should be equal):')\n",
        "display(shallow_test_depths.shape)\n",
        "display(shallow_test_predictions.shape)\n",
        "display(shallow_canyonb_pH_outputs.shape)\n",
        "display(shallow_test_outputs.shape)"
      ],
      "execution_count": 26,
      "outputs": [
        {
          "output_type": "stream",
          "text": [
            "Number of datapoints of depth greater than 200m: 0\n",
            "Shape of each shallow data array (all should be equal):\n"
          ],
          "name": "stdout"
        },
        {
          "output_type": "display_data",
          "data": {
            "text/plain": [
              "(63588,)"
            ]
          },
          "metadata": {
            "tags": []
          }
        },
        {
          "output_type": "display_data",
          "data": {
            "text/plain": [
              "(63588,)"
            ]
          },
          "metadata": {
            "tags": []
          }
        },
        {
          "output_type": "display_data",
          "data": {
            "text/plain": [
              "(63588,)"
            ]
          },
          "metadata": {
            "tags": []
          }
        },
        {
          "output_type": "display_data",
          "data": {
            "text/plain": [
              "(63588,)"
            ]
          },
          "metadata": {
            "tags": []
          }
        }
      ]
    },
    {
      "cell_type": "markdown",
      "metadata": {
        "id": "l7SVc8MQqBmq"
      },
      "source": [
        "# Estimates vs Observations 1-1 Plot"
      ]
    },
    {
      "cell_type": "markdown",
      "metadata": {
        "id": "0yc9PpG19Ybt"
      },
      "source": [
        "## Overall Dataset"
      ]
    },
    {
      "cell_type": "code",
      "metadata": {
        "colab": {
          "base_uri": "https://localhost:8080/",
          "height": 0
        },
        "id": "MkL8GEE1q06n",
        "outputId": "6ce0611a-e722-4ae3-a409-10c9ecf422c5"
      },
      "source": [
        "# count how many estimations are outside range test\n",
        "count = 0\n",
        "ind = 0\n",
        "for o in test_predictions:\n",
        "  if float(o) < 7.3 or float(o) > 8.5:\n",
        "    count += 1\n",
        "  ind += 1\n",
        "# print number of estimations outside range test\n",
        "print('Number of estimations not in range [7.3,8.5]: {}\\n'.format(count))\n",
        "\n",
        "ax = plt.axes(aspect='equal')\n",
        "\n",
        "# plot scatter plots of estimations vs observations\n",
        "# (x=observations, y=estimations, blue=our DNN, red=CANYON-B)\n",
        "plt.scatter(test_outputs, canyonb_pH_outputs, color='red', label='CANYON-B')\n",
        "plt.scatter(test_outputs, test_predictions, label='DNN')\n",
        "\n",
        "# get axis limits from min and max ofdata\n",
        "lims = [\n",
        "    np.min([ax.get_xlim(), ax.get_ylim()]),  # min of both axes\n",
        "    np.max([ax.get_xlim(), ax.get_ylim()]),  # max of both axes\n",
        "]\n",
        "plt.ylim(lims)\n",
        "plt.xlim(lims)\n",
        "# plot a y=x line to show where perfect (estimate=observation) estimates lie\n",
        "plt.plot(lims,lims, color='black')\n",
        "\n",
        "# title, label, and legend plot\n",
        "plt.title('pH Predictions vs Observations', fontsize=16)\n",
        "plt.xlabel('True Values pH')\n",
        "plt.ylabel('Predictions pH')\n",
        "plt.legend()\n",
        "\n",
        "# show plot\n",
        "plt.show()"
      ],
      "execution_count": 27,
      "outputs": [
        {
          "output_type": "stream",
          "text": [
            "Number of estimations not in range [7.3,8.5]: 1\n",
            "\n"
          ],
          "name": "stdout"
        },
        {
          "output_type": "display_data",
          "data": {
            "image/png": "[encoded data removed]",
            "text/plain": [
              "<Figure size 432x288 with 1 Axes>"
            ]
          },
          "metadata": {
            "tags": [],
            "needs_background": "light"
          }
        }
      ]
    },
    {
      "cell_type": "markdown",
      "metadata": {
        "id": "QwQ_ABKY9cBz"
      },
      "source": [
        "## Shallow Test Dataset"
      ]
    },
    {
      "cell_type": "code",
      "metadata": {
        "colab": {
          "base_uri": "https://localhost:8080/",
          "height": 0
        },
        "id": "0GahJKAa9d-Z",
        "outputId": "af181300-62a0-4079-bb6e-80e349702206"
      },
      "source": [
        "# count how many estimations are outside range test\n",
        "count = 0\n",
        "ind = 0\n",
        "for o in shallow_test_predictions:\n",
        "  if float(o) < 7.3 or float(o) > 8.5:\n",
        "    count += 1\n",
        "  ind += 1\n",
        "# print number of estimations outside range test\n",
        "print('Number of estimations not in range [7.3,8.5]: {}\\n'.format(count))\n",
        "\n",
        "ax = plt.axes(aspect='equal')\n",
        "\n",
        "# plot scatter plots of estimations vs observations\n",
        "# (x=observations, y=estimations, blue=our DNN, red=CANYON-B)\n",
        "plt.scatter(shallow_test_outputs, shallow_canyonb_pH_outputs, \n",
        "            color='red', label='CANYON-B')\n",
        "plt.scatter(shallow_test_outputs, shallow_test_predictions, \n",
        "            label='DNN')\n",
        "\n",
        "# get axis limits from min and max ofdata\n",
        "lims = [\n",
        "    np.min([ax.get_xlim(), ax.get_ylim()]),  # min of both axes\n",
        "    np.max([ax.get_xlim(), ax.get_ylim()]),  # max of both axes\n",
        "]\n",
        "plt.ylim(lims)\n",
        "plt.xlim(lims)\n",
        "# plot a y=x line to show where perfect (estimate=observation) estimates lie\n",
        "plt.plot(lims,lims, color='black')\n",
        "\n",
        "# title, label, and legend plot\n",
        "plt.title('pH Predictions vs Observations (For Depths <200m)')\n",
        "plt.xlabel('True Values pH')\n",
        "plt.ylabel('Predictions pH')\n",
        "plt.legend()\n",
        "\n",
        "# show plot\n",
        "plt.show()"
      ],
      "execution_count": 28,
      "outputs": [
        {
          "output_type": "stream",
          "text": [
            "Number of estimations not in range [7.3,8.5]: 1\n",
            "\n"
          ],
          "name": "stdout"
        },
        {
          "output_type": "display_data",
          "data": {
            "image/png": "[encoded data removed]",
            "text/plain": [
              "<Figure size 432x288 with 1 Axes>"
            ]
          },
          "metadata": {
            "tags": [],
            "needs_background": "light"
          }
        }
      ]
    },
    {
      "cell_type": "markdown",
      "metadata": {
        "id": "nPOwjd8FqIgY"
      },
      "source": [
        "# Depth vs Error Plot"
      ]
    },
    {
      "cell_type": "markdown",
      "metadata": {
        "id": "cc9p6jNDqVkC"
      },
      "source": [
        "## DNN Error only "
      ]
    },
    {
      "cell_type": "markdown",
      "metadata": {
        "id": "X-EbdVo0-tES"
      },
      "source": [
        "### Overall Test Dataset"
      ]
    },
    {
      "cell_type": "code",
      "metadata": {
        "colab": {
          "base_uri": "https://localhost:8080/",
          "height": 0
        },
        "id": "ZPRPo2MiqSpu",
        "outputId": "66bff5e4-51b6-478e-a9e7-70a1ad392519"
      },
      "source": [
        "\n",
        "# get errors (estimations - observations)\n",
        "error = test_predictions - test_outputs\n",
        "\n",
        "# plot the scatter plots (x=error, y= depth)\n",
        "plt.scatter(error, test_depths)\n",
        "\n",
        "# place a vertical line at x=0 to represent error=0\n",
        "plt.axvline(x=0, color='black')\n",
        "#invert y-axis to better represent depth\n",
        "plt.gca().invert_yaxis()\n",
        "\n",
        "# label plot\n",
        "plt.title(model_name+' - pH Error vs Depth', fontsize=18)\n",
        "plt.xlabel('pH Error (Pred - Obs)')\n",
        "plt.ylabel('Depth')\n",
        "\n",
        "# show plot\n",
        "plt.show()"
      ],
      "execution_count": 29,
      "outputs": [
        {
          "output_type": "display_data",
          "data": {
            "image/png": "[encoded data removed]",
            "text/plain": [
              "<Figure size 432x288 with 1 Axes>"
            ]
          },
          "metadata": {
            "tags": [],
            "needs_background": "light"
          }
        }
      ]
    },
    {
      "cell_type": "markdown",
      "metadata": {
        "id": "dxR4_A_2-oxm"
      },
      "source": [
        "### Shallow Test Dataset"
      ]
    },
    {
      "cell_type": "code",
      "metadata": {
        "colab": {
          "base_uri": "https://localhost:8080/",
          "height": 0
        },
        "id": "pmnswp-t-jps",
        "outputId": "8ec03360-90d8-4aed-b1ac-a655172ac62e"
      },
      "source": [
        "\n",
        "# get errors (estimations - observations)\n",
        "shallow_error = shallow_test_predictions - shallow_test_outputs\n",
        "\n",
        "# plot the scatter plots\n",
        "plt.scatter(shallow_error, shallow_test_depths, label='DNN')\n",
        "\n",
        "plt.axvline(x=0, color='black')\n",
        "plt.gca().invert_yaxis()\n",
        "\n",
        "plt.title('pH Error vs Depth (For Depths < 200m)', fontsize=18)\n",
        "plt.xlabel('pH Error (Pred - Obs)')\n",
        "plt.ylabel('Depth')\n",
        "\n",
        "plt.show()"
      ],
      "execution_count": 30,
      "outputs": [
        {
          "output_type": "display_data",
          "data": {
            "image/png": "[encoded data removed]",
            "text/plain": [
              "<Figure size 432x288 with 1 Axes>"
            ]
          },
          "metadata": {
            "tags": [],
            "needs_background": "light"
          }
        }
      ]
    },
    {
      "cell_type": "markdown",
      "metadata": {
        "id": "kPjSCrdJqd_O"
      },
      "source": [
        "## DNN & CANYON-B"
      ]
    },
    {
      "cell_type": "markdown",
      "metadata": {
        "id": "M2Fj8Fgt41A8"
      },
      "source": [
        "### Overall Test Dataset"
      ]
    },
    {
      "cell_type": "code",
      "metadata": {
        "colab": {
          "base_uri": "https://localhost:8080/",
          "height": 0
        },
        "id": "Sb1oh1E4P71h",
        "outputId": "a8de6d3c-1017-4108-885e-b4e3b4191ed5"
      },
      "source": [
        "# convert inputs to depths\n",
        "test_depths = get_depths(test_inputs)\n",
        "\n",
        "# get errors (estimations - observations)\n",
        "error = test_predictions - test_outputs\n",
        "error2 = canyonb_pH_outputs - test_outputs\n",
        "\n",
        "# plot the scatter plots\n",
        "plt.scatter(error2, test_depths, color='red', label='CANYON-B')\n",
        "plt.scatter(error, test_depths, label='DNN')\n",
        "\n",
        "plt.axvline(x=0, color='black')\n",
        "plt.gca().invert_yaxis()\n",
        "\n",
        "plt.title('pH Error vs Depth', fontsize=20)\n",
        "plt.xlabel('pH Error (Pred - Obs)')\n",
        "plt.ylabel('Depth')\n",
        "plt.legend()\n",
        "\n",
        "plt.show()"
      ],
      "execution_count": 31,
      "outputs": [
        {
          "output_type": "display_data",
          "data": {
            "image/png": "[encoded data removed]",
            "text/plain": [
              "<Figure size 432x288 with 1 Axes>"
            ]
          },
          "metadata": {
            "tags": [],
            "needs_background": "light"
          }
        }
      ]
    },
    {
      "cell_type": "markdown",
      "metadata": {
        "id": "WIriQQWX47Oq"
      },
      "source": [
        "### Shallow (<200m) Test Dataset"
      ]
    },
    {
      "cell_type": "code",
      "metadata": {
        "colab": {
          "base_uri": "https://localhost:8080/",
          "height": 0
        },
        "id": "iuRLJPu44SfP",
        "outputId": "8a433eb2-bfee-407b-8305-04f460923b5c"
      },
      "source": [
        "\n",
        "# get errors (estimations - observations)\n",
        "shallow_error = shallow_test_predictions - shallow_test_outputs\n",
        "shallow_error2 = shallow_canyonb_pH_outputs - shallow_test_outputs\n",
        "\n",
        "# plot the scatter plots\n",
        "plt.scatter(shallow_error2, shallow_test_depths, \n",
        "            color='red', label='CANYON-B')\n",
        "plt.scatter(shallow_error, shallow_test_depths, \n",
        "            label='DNN')\n",
        "\n",
        "plt.axvline(x=0, color='black')\n",
        "plt.gca().invert_yaxis()\n",
        "\n",
        "plt.title('pH Error vs Depth (For Depths < 200m)', fontsize=18)\n",
        "plt.xlabel('pH Error (Pred - Obs)')\n",
        "plt.ylabel('Depth')\n",
        "plt.legend()\n",
        "\n",
        "plt.show()"
      ],
      "execution_count": 32,
      "outputs": [
        {
          "output_type": "display_data",
          "data": {
            "image/png": "[encoded data removed]",
            "text/plain": [
              "<Figure size 432x288 with 1 Axes>"
            ]
          },
          "metadata": {
            "tags": [],
            "needs_background": "light"
          }
        }
      ]
    },
    {
      "cell_type": "markdown",
      "metadata": {
        "id": "78-QT5YMqrmD"
      },
      "source": [
        "# Error Metrics\n",
        "### MAE, MSE, RMSE"
      ]
    },
    {
      "cell_type": "markdown",
      "metadata": {
        "id": "5lTtbJUQ_Td_"
      },
      "source": [
        "## Overall Test Dataset"
      ]
    },
    {
      "cell_type": "code",
      "metadata": {
        "colab": {
          "base_uri": "https://localhost:8080/",
          "height": 0
        },
        "id": "sRozhAxiQ-le",
        "outputId": "63275de3-1be4-4fcf-ead5-63c15c6e9b17"
      },
      "source": [
        "# create numpy array to hold metrics\n",
        "model_metrics = np.zeros(shape=(2,3))\n",
        "\n",
        "# get metrics for DNN\n",
        "mae = metrics.mean_absolute_error(test_outputs, test_predictions)\n",
        "mse = metrics.mean_squared_error(test_outputs, test_predictions)\n",
        "rmse = math.sqrt(mse)\n",
        "# round metrics to 5 decimal places\n",
        "model_metrics[0][0] = np.round(mae, 5)\n",
        "model_metrics[0][1] = np.round(mse, 5)\n",
        "model_metrics[0][2] = np.round(rmse, 5)\n",
        "\n",
        "# get metrics for CANYON-B\n",
        "c_mae = metrics.mean_absolute_error(test_outputs, canyonb_pH_outputs)\n",
        "c_mse = metrics.mean_squared_error(test_outputs, canyonb_pH_outputs)\n",
        "c_rmse = math.sqrt(c_mse)\n",
        "# round metrics to 5 decimal places\n",
        "model_metrics[1][0] = np.round(c_mae, 5)\n",
        "model_metrics[1][1] = np.round(c_mse, 5)\n",
        "model_metrics[1][2] = np.round(c_rmse, 5)\n",
        "\n",
        "# create table\n",
        "# labels for columns and rows\n",
        "col_labels = np.array(('MAE', 'MSE', 'RMSE'))\n",
        "row_labels = np.array(('DNN Model', 'CANYON-B'))\n",
        "# add data to table\n",
        "fig, ax = plt.subplots()\n",
        "table = plt.table(cellText=model_metrics, cellLoc='center', loc='center', \n",
        "          rowLabels=row_labels, colLabels=col_labels)\n",
        "# title plot\n",
        "plt.title('Error Metrics of Models on Testing Dataset', fontsize=20)\n",
        "# scale plot\n",
        "table.set_fontsize(18)\n",
        "table.scale(1,5)\n",
        "ax.axis('off')\n",
        "# show plot\n",
        "plt.show()\n"
      ],
      "execution_count": 33,
      "outputs": [
        {
          "output_type": "display_data",
          "data": {
            "image/png": "[encoded data removed]",
            "text/plain": [
              "<Figure size 432x288 with 1 Axes>"
            ]
          },
          "metadata": {
            "tags": [],
            "needs_background": "light"
          }
        }
      ]
    },
    {
      "cell_type": "markdown",
      "metadata": {
        "id": "DlsPgIHT_dse"
      },
      "source": [
        "## Shallow Test Dataset"
      ]
    },
    {
      "cell_type": "code",
      "metadata": {
        "colab": {
          "base_uri": "https://localhost:8080/",
          "height": 0
        },
        "id": "C8SLEFguVBlO",
        "outputId": "d278f5f9-ab68-4d5f-86c4-b69ae6ed3552"
      },
      "source": [
        "# create numpy array to hold metrics\n",
        "model_metrics = np.zeros(shape=(2,3))\n",
        "\n",
        "# get metrics for DNN\n",
        "mae = metrics.mean_absolute_error(shallow_test_outputs, shallow_test_predictions)\n",
        "mse = metrics.mean_squared_error(shallow_test_outputs, shallow_test_predictions)\n",
        "rmse = math.sqrt(mse)\n",
        "# round metrics to 5 decimal places\n",
        "model_metrics[0][0] = np.round(mae, 5)\n",
        "model_metrics[0][1] = np.round(mse, 5)\n",
        "model_metrics[0][2] = np.round(rmse, 5)\n",
        "\n",
        "# get metrics for CANYON-B\n",
        "c_mae = metrics.mean_absolute_error(shallow_test_outputs, shallow_canyonb_pH_outputs)\n",
        "c_mse = metrics.mean_squared_error(shallow_test_outputs, shallow_canyonb_pH_outputs)\n",
        "c_rmse = math.sqrt(c_mse)\n",
        "# round metrics to 5 decimal places\n",
        "model_metrics[1][0] = np.round(c_mae, 5)\n",
        "model_metrics[1][1] = np.round(c_mse, 5)\n",
        "model_metrics[1][2] = np.round(c_rmse, 5)\n",
        "\n",
        "# create table\n",
        "# labels for columns and rows\n",
        "col_labels = np.array(('MAE', 'MSE', 'RMSE'))\n",
        "row_labels = np.array(('DNN Model', 'CANYON-B'))\n",
        "# add data to table\n",
        "fig, ax = plt.subplots()\n",
        "table = plt.table(cellText=model_metrics, cellLoc='center', loc='center', \n",
        "          rowLabels=row_labels, colLabels=col_labels)\n",
        "# title plot\n",
        "plt.title('Error Metrics of Models on Testing Dataset (For Depths <200m)', \n",
        "          fontsize=18)\n",
        "# scale plot\n",
        "table.set_fontsize(18)\n",
        "table.scale(1,5)\n",
        "ax.axis('off')\n",
        "# show plot\n",
        "plt.show()\n"
      ],
      "execution_count": 34,
      "outputs": [
        {
          "output_type": "display_data",
          "data": {
            "image/png": "[encoded data removed]",
            "text/plain": [
              "<Figure size 432x288 with 1 Axes>"
            ]
          },
          "metadata": {
            "tags": [],
            "needs_background": "light"
          }
        }
      ]
    },
    {
      "cell_type": "code",
      "metadata": {
        "id": "EpeqF9ZMBhJK"
      },
      "source": [
        ""
      ],
      "execution_count": 34,
      "outputs": []
    }
  ]
}