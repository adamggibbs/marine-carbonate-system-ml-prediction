{
  "nbformat": 4,
  "nbformat_minor": 0,
  "metadata": {
    "accelerator": "GPU",
    "colab": {
      "name": "DNN_training_testing.ipynb",
      "provenance": [],
      "collapsed_sections": [],
      "authorship_tag": "ABX9TyNjgvm0Lv/NfYISJu0p46qt",
      "include_colab_link": true
    },
    "kernelspec": {
      "display_name": "Python 3",
      "name": "python3"
    },
    "language_info": {
      "name": "python"
    }
  },
  "cells": [
    {
      "cell_type": "markdown",
      "metadata": {
        "id": "view-in-github",
        "colab_type": "text"
      },
      "source": [
        "<a href=\"https://colab.research.google.com/github/adamggibbs/marine-carbonate-system-ml-prediction/blob/master/DNN_training_testing.ipynb\" target=\"_parent\"><img src=\"https://colab.research.google.com/assets/colab-badge.svg\" alt=\"Open In Colab\"/></a>"
      ]
    },
    {
      "cell_type": "code",
      "metadata": {
        "colab": {
          "base_uri": "https://localhost:8080/"
        },
        "id": "DJABzQunoBQh",
        "outputId": "9d590dac-3701-4082-8a18-0b0db9a049f7"
      },
      "source": [
        "from google.colab import drive\n",
        "\n",
        "drive.mount('/content/drive', force_remount=True)"
      ],
      "execution_count": 1,
      "outputs": [
        {
          "output_type": "stream",
          "text": [
            "Mounted at /content/drive\n"
          ],
          "name": "stdout"
        }
      ]
    },
    {
      "cell_type": "code",
      "metadata": {
        "colab": {
          "base_uri": "https://localhost:8080/",
          "height": 35
        },
        "id": "ZK4h55FUoLfP",
        "outputId": "58ba022f-bc0c-4e4e-968c-42a9b2fe92bd"
      },
      "source": [
        "# IMPORTS\n",
        "\n",
        "import os\n",
        "import math\n",
        "\n",
        "import numpy as np\n",
        "import pandas as pd\n",
        "import matplotlib.pyplot as plt\n",
        "\n",
        "%tensorflow_version 2.x\n",
        "import tensorflow as tf\n",
        "from tensorflow import keras\n",
        "from tensorflow.keras import layers\n",
        "from tensorflow.keras import metrics\n",
        "from tensorflow.keras.layers.experimental import preprocessing\n",
        "device_name = tf.test.gpu_device_name()\n",
        "display(device_name)\n",
        "\n",
        "# data dirs\n",
        "data_dir = '/content/drive/MyDrive/Adam Gibbs/data/'\n",
        "model_dir = data_dir + 'models/'\n",
        "training_dir=data_dir + 'training/'\n",
        "# ship_dir = data_dir + 'ship/'\n",
        "# glider_dir = data_dir + 'glider/'\n",
        "# wcoa_dir = data_dir + 'wcoa/'"
      ],
      "execution_count": 2,
      "outputs": [
        {
          "output_type": "display_data",
          "data": {
            "application/vnd.google.colaboratory.intrinsic+json": {
              "type": "string"
            },
            "text/plain": [
              "'/device:GPU:0'"
            ]
          },
          "metadata": {
            "tags": []
          }
        }
      ]
    },
    {
      "cell_type": "code",
      "metadata": {
        "colab": {
          "base_uri": "https://localhost:8080/",
          "height": 123
        },
        "id": "oBDz9QYmoTQV",
        "outputId": "e0451b43-03b3-466a-931b-73cbd239b740"
      },
      "source": [
        "# load in txt data\n",
        "\n",
        "train_inputs = np.loadtxt(training_dir+'training_tpso_input.csv', \n",
        "                        delimiter=\",\", \n",
        "                        dtype='float')\n",
        "train_outputs = np.loadtxt(training_dir+'training_ph_output.csv', \n",
        "                        delimiter=\",\", \n",
        "                        dtype='float')\n",
        "\n",
        "val_inputs = np.loadtxt(training_dir+'validation_tpso_input.csv', \n",
        "                        delimiter=\",\", \n",
        "                        dtype='float')\n",
        "val_outputs = np.loadtxt(training_dir+'validation_ph_output.csv', \n",
        "                        delimiter=\",\", \n",
        "                        dtype='float')\n",
        "\n",
        "test_inputs = np.loadtxt(training_dir+'testing_tpso_input.csv', \n",
        "                        delimiter=\",\", \n",
        "                        dtype='float')\n",
        "test_outputs = np.loadtxt(training_dir+'testing_ph_output.csv', \n",
        "                        delimiter=\",\", \n",
        "                        dtype='float')\n",
        "\n",
        "display(train_inputs.shape)\n",
        "display(train_outputs.shape)\n",
        "\n",
        "display(val_inputs.shape)\n",
        "display(val_outputs.shape)\n",
        "\n",
        "display(test_inputs.shape)\n",
        "display(test_outputs.shape)\n"
      ],
      "execution_count": 3,
      "outputs": [
        {
          "output_type": "display_data",
          "data": {
            "text/plain": [
              "(385716, 7)"
            ]
          },
          "metadata": {
            "tags": []
          }
        },
        {
          "output_type": "display_data",
          "data": {
            "text/plain": [
              "(385716,)"
            ]
          },
          "metadata": {
            "tags": []
          }
        },
        {
          "output_type": "display_data",
          "data": {
            "text/plain": [
              "(128572, 7)"
            ]
          },
          "metadata": {
            "tags": []
          }
        },
        {
          "output_type": "display_data",
          "data": {
            "text/plain": [
              "(128572,)"
            ]
          },
          "metadata": {
            "tags": []
          }
        },
        {
          "output_type": "display_data",
          "data": {
            "text/plain": [
              "(128572, 7)"
            ]
          },
          "metadata": {
            "tags": []
          }
        },
        {
          "output_type": "display_data",
          "data": {
            "text/plain": [
              "(128572,)"
            ]
          },
          "metadata": {
            "tags": []
          }
        }
      ]
    },
    {
      "cell_type": "code",
      "metadata": {
        "id": "TOSwo3dDBkJc"
      },
      "source": [
        "test_results = {}"
      ],
      "execution_count": 4,
      "outputs": []
    },
    {
      "cell_type": "code",
      "metadata": {
        "id": "2YUeVF-Lo8OS"
      },
      "source": [
        "# CREATE NORMALIZER\n",
        "\n",
        "normalizer = preprocessing.Normalization(axis=-1)\n",
        "normalizer.adapt(train_inputs)\n"
      ],
      "execution_count": 5,
      "outputs": []
    },
    {
      "cell_type": "code",
      "metadata": {
        "colab": {
          "base_uri": "https://localhost:8080/"
        },
        "id": "uF2bFgjjFIf-",
        "outputId": "a4d5d2df-3981-4780-fd9f-e2844df6bf84"
      },
      "source": [
        "# METHOD TO BUILD AND COMPILE MODEL\n",
        "\n",
        "def build_and_compile_model(norm):\n",
        "  model = keras.Sequential([\n",
        "      norm,\n",
        "      layers.Dense(64, activation='relu'),\n",
        "      layers.Dense(64, activation='relu'),\n",
        "      layers.Dense(64, activation='relu'),\n",
        "      layers.Dense(64, activation='relu'),\n",
        "      layers.Dense(1)\n",
        "  ])\n",
        "\n",
        "  model.compile(loss='mean_squared_error',\n",
        "                optimizer=tf.keras.optimizers.Adam(0.00001),\n",
        "                metrics=[\n",
        "                         metrics.MeanAbsoluteError(),\n",
        "                         metrics.MeanSquaredError(),\n",
        "                         metrics.RootMeanSquaredError()\n",
        "                ])\n",
        "  return model\n",
        "\n",
        "tf.config.list_physical_devices('GPU')\n",
        "\n",
        "dnn_model = build_and_compile_model(normalizer)\n",
        "dnn_model.summary()"
      ],
      "execution_count": 6,
      "outputs": [
        {
          "output_type": "stream",
          "text": [
            "Model: \"sequential\"\n",
            "_________________________________________________________________\n",
            "Layer (type)                 Output Shape              Param #   \n",
            "=================================================================\n",
            "normalization (Normalization (None, 7)                 15        \n",
            "_________________________________________________________________\n",
            "dense (Dense)                (None, 64)                512       \n",
            "_________________________________________________________________\n",
            "dense_1 (Dense)              (None, 64)                4160      \n",
            "_________________________________________________________________\n",
            "dense_2 (Dense)              (None, 64)                4160      \n",
            "_________________________________________________________________\n",
            "dense_3 (Dense)              (None, 64)                4160      \n",
            "_________________________________________________________________\n",
            "dense_4 (Dense)              (None, 1)                 65        \n",
            "=================================================================\n",
            "Total params: 13,072\n",
            "Trainable params: 13,057\n",
            "Non-trainable params: 15\n",
            "_________________________________________________________________\n"
          ],
          "name": "stdout"
        }
      ]
    },
    {
      "cell_type": "code",
      "metadata": {
        "colab": {
          "base_uri": "https://localhost:8080/"
        },
        "id": "sMjkSInfoiJn",
        "outputId": "e86abb72-ced1-473b-a89f-93e1671af860"
      },
      "source": [
        "# LOAD IN MODELS\n",
        "\n",
        "dnn_model = tf.keras.models.load_model(model_dir+'DNN(64,64,64,64)mse', compile=True)\n",
        "dnn_model.summary()"
      ],
      "execution_count": 5,
      "outputs": [
        {
          "output_type": "stream",
          "text": [
            "Model: \"sequential\"\n",
            "_________________________________________________________________\n",
            "Layer (type)                 Output Shape              Param #   \n",
            "=================================================================\n",
            "normalization (Normalization (None, 7)                 15        \n",
            "_________________________________________________________________\n",
            "dense (Dense)                (None, 64)                512       \n",
            "_________________________________________________________________\n",
            "dense_1 (Dense)              (None, 64)                4160      \n",
            "_________________________________________________________________\n",
            "dense_2 (Dense)              (None, 64)                4160      \n",
            "_________________________________________________________________\n",
            "dense_3 (Dense)              (None, 64)                4160      \n",
            "_________________________________________________________________\n",
            "dense_4 (Dense)              (None, 1)                 65        \n",
            "=================================================================\n",
            "Total params: 13,072\n",
            "Trainable params: 13,057\n",
            "Non-trainable params: 15\n",
            "_________________________________________________________________\n"
          ],
          "name": "stdout"
        }
      ]
    },
    {
      "cell_type": "code",
      "metadata": {
        "colab": {
          "base_uri": "https://localhost:8080/"
        },
        "id": "tl7PZsY_F4zO",
        "outputId": "1361268b-570a-40eb-b5f4-a810d57b988f"
      },
      "source": [
        "%%time\n",
        "history = dnn_model.fit(\n",
        "    train_inputs, train_outputs,\n",
        "    validation_split=0.2, epochs=300)"
      ],
      "execution_count": 7,
      "outputs": [
        {
          "output_type": "stream",
          "text": [
            "Epoch 1/300\n",
            "9643/9643 [==============================] - 34s 3ms/step - loss: 6.2585e-05 - mean_absolute_error: 0.0047 - mean_squared_error: 6.2585e-05 - root_mean_squared_error: 0.0079 - val_loss: 7.8533e-05 - val_mean_absolute_error: 0.0057 - val_mean_squared_error: 7.8533e-05 - val_root_mean_squared_error: 0.0089\n",
            "Epoch 2/300\n",
            "9643/9643 [==============================] - 28s 3ms/step - loss: 6.2226e-05 - mean_absolute_error: 0.0047 - mean_squared_error: 6.2226e-05 - root_mean_squared_error: 0.0079 - val_loss: 8.7012e-05 - val_mean_absolute_error: 0.0060 - val_mean_squared_error: 8.7012e-05 - val_root_mean_squared_error: 0.0093\n",
            "Epoch 3/300\n",
            "9643/9643 [==============================] - 27s 3ms/step - loss: 6.2556e-05 - mean_absolute_error: 0.0047 - mean_squared_error: 6.2556e-05 - root_mean_squared_error: 0.0079 - val_loss: 6.2565e-05 - val_mean_absolute_error: 0.0042 - val_mean_squared_error: 6.2565e-05 - val_root_mean_squared_error: 0.0079\n",
            "Epoch 4/300\n",
            "9643/9643 [==============================] - 28s 3ms/step - loss: 6.2295e-05 - mean_absolute_error: 0.0046 - mean_squared_error: 6.2295e-05 - root_mean_squared_error: 0.0079 - val_loss: 6.7038e-05 - val_mean_absolute_error: 0.0045 - val_mean_squared_error: 6.7038e-05 - val_root_mean_squared_error: 0.0082\n",
            "Epoch 5/300\n",
            "9643/9643 [==============================] - 27s 3ms/step - loss: 6.2276e-05 - mean_absolute_error: 0.0046 - mean_squared_error: 6.2276e-05 - root_mean_squared_error: 0.0079 - val_loss: 6.9698e-05 - val_mean_absolute_error: 0.0047 - val_mean_squared_error: 6.9698e-05 - val_root_mean_squared_error: 0.0083\n",
            "Epoch 6/300\n",
            "9643/9643 [==============================] - 29s 3ms/step - loss: 6.2007e-05 - mean_absolute_error: 0.0046 - mean_squared_error: 6.2007e-05 - root_mean_squared_error: 0.0079 - val_loss: 6.5826e-05 - val_mean_absolute_error: 0.0045 - val_mean_squared_error: 6.5826e-05 - val_root_mean_squared_error: 0.0081\n",
            "Epoch 7/300\n",
            "9643/9643 [==============================] - 31s 3ms/step - loss: 6.2184e-05 - mean_absolute_error: 0.0046 - mean_squared_error: 6.2184e-05 - root_mean_squared_error: 0.0079 - val_loss: 8.5289e-05 - val_mean_absolute_error: 0.0061 - val_mean_squared_error: 8.5289e-05 - val_root_mean_squared_error: 0.0092\n",
            "Epoch 8/300\n",
            "9643/9643 [==============================] - 27s 3ms/step - loss: 6.1955e-05 - mean_absolute_error: 0.0046 - mean_squared_error: 6.1955e-05 - root_mean_squared_error: 0.0079 - val_loss: 6.8550e-05 - val_mean_absolute_error: 0.0045 - val_mean_squared_error: 6.8550e-05 - val_root_mean_squared_error: 0.0083\n",
            "Epoch 9/300\n",
            "9643/9643 [==============================] - 29s 3ms/step - loss: 6.2318e-05 - mean_absolute_error: 0.0047 - mean_squared_error: 6.2318e-05 - root_mean_squared_error: 0.0079 - val_loss: 6.5915e-05 - val_mean_absolute_error: 0.0046 - val_mean_squared_error: 6.5915e-05 - val_root_mean_squared_error: 0.0081\n",
            "Epoch 10/300\n",
            "9643/9643 [==============================] - 29s 3ms/step - loss: 6.1950e-05 - mean_absolute_error: 0.0046 - mean_squared_error: 6.1950e-05 - root_mean_squared_error: 0.0079 - val_loss: 6.4614e-05 - val_mean_absolute_error: 0.0044 - val_mean_squared_error: 6.4614e-05 - val_root_mean_squared_error: 0.0080\n",
            "Epoch 11/300\n",
            "9643/9643 [==============================] - 28s 3ms/step - loss: 6.1740e-05 - mean_absolute_error: 0.0046 - mean_squared_error: 6.1740e-05 - root_mean_squared_error: 0.0079 - val_loss: 6.8038e-05 - val_mean_absolute_error: 0.0048 - val_mean_squared_error: 6.8038e-05 - val_root_mean_squared_error: 0.0082\n",
            "Epoch 12/300\n",
            "9643/9643 [==============================] - 30s 3ms/step - loss: 6.2088e-05 - mean_absolute_error: 0.0046 - mean_squared_error: 6.2088e-05 - root_mean_squared_error: 0.0079 - val_loss: 6.8647e-05 - val_mean_absolute_error: 0.0047 - val_mean_squared_error: 6.8647e-05 - val_root_mean_squared_error: 0.0083\n",
            "Epoch 13/300\n",
            "9643/9643 [==============================] - 27s 3ms/step - loss: 6.2196e-05 - mean_absolute_error: 0.0046 - mean_squared_error: 6.2196e-05 - root_mean_squared_error: 0.0079 - val_loss: 7.6228e-05 - val_mean_absolute_error: 0.0054 - val_mean_squared_error: 7.6228e-05 - val_root_mean_squared_error: 0.0087\n",
            "Epoch 14/300\n",
            "9643/9643 [==============================] - 29s 3ms/step - loss: 6.2068e-05 - mean_absolute_error: 0.0046 - mean_squared_error: 6.2068e-05 - root_mean_squared_error: 0.0079 - val_loss: 6.6670e-05 - val_mean_absolute_error: 0.0044 - val_mean_squared_error: 6.6670e-05 - val_root_mean_squared_error: 0.0082\n",
            "Epoch 15/300\n",
            "9643/9643 [==============================] - 28s 3ms/step - loss: 6.1824e-05 - mean_absolute_error: 0.0046 - mean_squared_error: 6.1824e-05 - root_mean_squared_error: 0.0079 - val_loss: 6.4262e-05 - val_mean_absolute_error: 0.0042 - val_mean_squared_error: 6.4262e-05 - val_root_mean_squared_error: 0.0080\n",
            "Epoch 16/300\n",
            "9643/9643 [==============================] - 27s 3ms/step - loss: 6.1853e-05 - mean_absolute_error: 0.0046 - mean_squared_error: 6.1853e-05 - root_mean_squared_error: 0.0079 - val_loss: 6.3988e-05 - val_mean_absolute_error: 0.0043 - val_mean_squared_error: 6.3988e-05 - val_root_mean_squared_error: 0.0080\n",
            "Epoch 17/300\n",
            "9643/9643 [==============================] - 31s 3ms/step - loss: 6.1894e-05 - mean_absolute_error: 0.0046 - mean_squared_error: 6.1894e-05 - root_mean_squared_error: 0.0079 - val_loss: 7.2186e-05 - val_mean_absolute_error: 0.0049 - val_mean_squared_error: 7.2186e-05 - val_root_mean_squared_error: 0.0085\n",
            "Epoch 18/300\n",
            "9643/9643 [==============================] - 29s 3ms/step - loss: 6.1795e-05 - mean_absolute_error: 0.0046 - mean_squared_error: 6.1795e-05 - root_mean_squared_error: 0.0079 - val_loss: 7.3703e-05 - val_mean_absolute_error: 0.0049 - val_mean_squared_error: 7.3703e-05 - val_root_mean_squared_error: 0.0086\n",
            "Epoch 19/300\n",
            "9643/9643 [==============================] - 30s 3ms/step - loss: 6.1555e-05 - mean_absolute_error: 0.0046 - mean_squared_error: 6.1555e-05 - root_mean_squared_error: 0.0078 - val_loss: 6.8443e-05 - val_mean_absolute_error: 0.0047 - val_mean_squared_error: 6.8443e-05 - val_root_mean_squared_error: 0.0083\n",
            "Epoch 20/300\n",
            "9643/9643 [==============================] - 30s 3ms/step - loss: 6.1646e-05 - mean_absolute_error: 0.0046 - mean_squared_error: 6.1646e-05 - root_mean_squared_error: 0.0079 - val_loss: 6.2073e-05 - val_mean_absolute_error: 0.0042 - val_mean_squared_error: 6.2073e-05 - val_root_mean_squared_error: 0.0079\n",
            "Epoch 21/300\n",
            "9643/9643 [==============================] - 30s 3ms/step - loss: 6.1472e-05 - mean_absolute_error: 0.0046 - mean_squared_error: 6.1472e-05 - root_mean_squared_error: 0.0078 - val_loss: 6.5237e-05 - val_mean_absolute_error: 0.0045 - val_mean_squared_error: 6.5237e-05 - val_root_mean_squared_error: 0.0081\n",
            "Epoch 22/300\n",
            "9643/9643 [==============================] - 30s 3ms/step - loss: 6.1653e-05 - mean_absolute_error: 0.0046 - mean_squared_error: 6.1653e-05 - root_mean_squared_error: 0.0079 - val_loss: 7.0560e-05 - val_mean_absolute_error: 0.0045 - val_mean_squared_error: 7.0560e-05 - val_root_mean_squared_error: 0.0084\n",
            "Epoch 23/300\n",
            "9643/9643 [==============================] - 30s 3ms/step - loss: 6.1811e-05 - mean_absolute_error: 0.0046 - mean_squared_error: 6.1811e-05 - root_mean_squared_error: 0.0079 - val_loss: 6.4411e-05 - val_mean_absolute_error: 0.0043 - val_mean_squared_error: 6.4411e-05 - val_root_mean_squared_error: 0.0080\n",
            "Epoch 24/300\n",
            "9643/9643 [==============================] - 29s 3ms/step - loss: 6.1492e-05 - mean_absolute_error: 0.0046 - mean_squared_error: 6.1492e-05 - root_mean_squared_error: 0.0078 - val_loss: 6.2272e-05 - val_mean_absolute_error: 0.0042 - val_mean_squared_error: 6.2272e-05 - val_root_mean_squared_error: 0.0079\n",
            "Epoch 25/300\n",
            "9643/9643 [==============================] - 29s 3ms/step - loss: 6.1359e-05 - mean_absolute_error: 0.0046 - mean_squared_error: 6.1359e-05 - root_mean_squared_error: 0.0078 - val_loss: 6.3113e-05 - val_mean_absolute_error: 0.0043 - val_mean_squared_error: 6.3113e-05 - val_root_mean_squared_error: 0.0079\n",
            "Epoch 26/300\n",
            "9643/9643 [==============================] - 27s 3ms/step - loss: 6.1606e-05 - mean_absolute_error: 0.0046 - mean_squared_error: 6.1606e-05 - root_mean_squared_error: 0.0078 - val_loss: 6.5631e-05 - val_mean_absolute_error: 0.0044 - val_mean_squared_error: 6.5631e-05 - val_root_mean_squared_error: 0.0081\n",
            "Epoch 27/300\n",
            "9643/9643 [==============================] - 29s 3ms/step - loss: 6.1239e-05 - mean_absolute_error: 0.0046 - mean_squared_error: 6.1239e-05 - root_mean_squared_error: 0.0078 - val_loss: 7.8831e-05 - val_mean_absolute_error: 0.0055 - val_mean_squared_error: 7.8831e-05 - val_root_mean_squared_error: 0.0089\n",
            "Epoch 28/300\n",
            "9643/9643 [==============================] - 27s 3ms/step - loss: 6.1272e-05 - mean_absolute_error: 0.0046 - mean_squared_error: 6.1272e-05 - root_mean_squared_error: 0.0078 - val_loss: 6.6016e-05 - val_mean_absolute_error: 0.0043 - val_mean_squared_error: 6.6016e-05 - val_root_mean_squared_error: 0.0081\n",
            "Epoch 29/300\n",
            "9643/9643 [==============================] - 28s 3ms/step - loss: 6.1432e-05 - mean_absolute_error: 0.0046 - mean_squared_error: 6.1432e-05 - root_mean_squared_error: 0.0078 - val_loss: 6.3034e-05 - val_mean_absolute_error: 0.0043 - val_mean_squared_error: 6.3034e-05 - val_root_mean_squared_error: 0.0079\n",
            "Epoch 30/300\n",
            "9643/9643 [==============================] - 31s 3ms/step - loss: 6.1558e-05 - mean_absolute_error: 0.0046 - mean_squared_error: 6.1558e-05 - root_mean_squared_error: 0.0078 - val_loss: 6.8511e-05 - val_mean_absolute_error: 0.0049 - val_mean_squared_error: 6.8511e-05 - val_root_mean_squared_error: 0.0083\n",
            "Epoch 31/300\n",
            "9643/9643 [==============================] - 30s 3ms/step - loss: 6.1481e-05 - mean_absolute_error: 0.0046 - mean_squared_error: 6.1481e-05 - root_mean_squared_error: 0.0078 - val_loss: 6.4687e-05 - val_mean_absolute_error: 0.0045 - val_mean_squared_error: 6.4687e-05 - val_root_mean_squared_error: 0.0080\n",
            "Epoch 32/300\n",
            "9643/9643 [==============================] - 32s 3ms/step - loss: 6.1062e-05 - mean_absolute_error: 0.0046 - mean_squared_error: 6.1062e-05 - root_mean_squared_error: 0.0078 - val_loss: 6.7321e-05 - val_mean_absolute_error: 0.0044 - val_mean_squared_error: 6.7321e-05 - val_root_mean_squared_error: 0.0082\n",
            "Epoch 33/300\n",
            "9643/9643 [==============================] - 30s 3ms/step - loss: 6.1427e-05 - mean_absolute_error: 0.0046 - mean_squared_error: 6.1427e-05 - root_mean_squared_error: 0.0078 - val_loss: 6.2848e-05 - val_mean_absolute_error: 0.0042 - val_mean_squared_error: 6.2848e-05 - val_root_mean_squared_error: 0.0079\n",
            "Epoch 34/300\n",
            "9643/9643 [==============================] - 29s 3ms/step - loss: 6.0909e-05 - mean_absolute_error: 0.0046 - mean_squared_error: 6.0909e-05 - root_mean_squared_error: 0.0078 - val_loss: 6.5014e-05 - val_mean_absolute_error: 0.0042 - val_mean_squared_error: 6.5014e-05 - val_root_mean_squared_error: 0.0081\n",
            "Epoch 35/300\n",
            "9643/9643 [==============================] - 29s 3ms/step - loss: 6.0727e-05 - mean_absolute_error: 0.0046 - mean_squared_error: 6.0727e-05 - root_mean_squared_error: 0.0078 - val_loss: 6.3781e-05 - val_mean_absolute_error: 0.0044 - val_mean_squared_error: 6.3781e-05 - val_root_mean_squared_error: 0.0080\n",
            "Epoch 36/300\n",
            "9643/9643 [==============================] - 30s 3ms/step - loss: 6.1320e-05 - mean_absolute_error: 0.0046 - mean_squared_error: 6.1320e-05 - root_mean_squared_error: 0.0078 - val_loss: 6.2887e-05 - val_mean_absolute_error: 0.0042 - val_mean_squared_error: 6.2887e-05 - val_root_mean_squared_error: 0.0079\n",
            "Epoch 37/300\n",
            "9643/9643 [==============================] - 28s 3ms/step - loss: 6.1451e-05 - mean_absolute_error: 0.0046 - mean_squared_error: 6.1451e-05 - root_mean_squared_error: 0.0078 - val_loss: 6.1898e-05 - val_mean_absolute_error: 0.0042 - val_mean_squared_error: 6.1898e-05 - val_root_mean_squared_error: 0.0079\n",
            "Epoch 38/300\n",
            "9643/9643 [==============================] - 28s 3ms/step - loss: 6.1039e-05 - mean_absolute_error: 0.0046 - mean_squared_error: 6.1039e-05 - root_mean_squared_error: 0.0078 - val_loss: 8.1872e-05 - val_mean_absolute_error: 0.0053 - val_mean_squared_error: 8.1872e-05 - val_root_mean_squared_error: 0.0090\n",
            "Epoch 39/300\n",
            "9643/9643 [==============================] - 30s 3ms/step - loss: 6.0945e-05 - mean_absolute_error: 0.0046 - mean_squared_error: 6.0945e-05 - root_mean_squared_error: 0.0078 - val_loss: 6.3302e-05 - val_mean_absolute_error: 0.0042 - val_mean_squared_error: 6.3302e-05 - val_root_mean_squared_error: 0.0080\n",
            "Epoch 40/300\n",
            "9643/9643 [==============================] - 31s 3ms/step - loss: 6.0940e-05 - mean_absolute_error: 0.0046 - mean_squared_error: 6.0940e-05 - root_mean_squared_error: 0.0078 - val_loss: 6.8701e-05 - val_mean_absolute_error: 0.0048 - val_mean_squared_error: 6.8701e-05 - val_root_mean_squared_error: 0.0083\n",
            "Epoch 41/300\n",
            "9643/9643 [==============================] - 30s 3ms/step - loss: 6.0954e-05 - mean_absolute_error: 0.0046 - mean_squared_error: 6.0954e-05 - root_mean_squared_error: 0.0078 - val_loss: 6.4606e-05 - val_mean_absolute_error: 0.0044 - val_mean_squared_error: 6.4606e-05 - val_root_mean_squared_error: 0.0080\n",
            "Epoch 42/300\n",
            "9643/9643 [==============================] - 31s 3ms/step - loss: 6.0860e-05 - mean_absolute_error: 0.0046 - mean_squared_error: 6.0860e-05 - root_mean_squared_error: 0.0078 - val_loss: 6.4206e-05 - val_mean_absolute_error: 0.0046 - val_mean_squared_error: 6.4206e-05 - val_root_mean_squared_error: 0.0080\n",
            "Epoch 43/300\n",
            "9643/9643 [==============================] - 27s 3ms/step - loss: 6.1630e-05 - mean_absolute_error: 0.0046 - mean_squared_error: 6.1630e-05 - root_mean_squared_error: 0.0079 - val_loss: 6.7240e-05 - val_mean_absolute_error: 0.0045 - val_mean_squared_error: 6.7240e-05 - val_root_mean_squared_error: 0.0082\n",
            "Epoch 44/300\n",
            "9643/9643 [==============================] - 29s 3ms/step - loss: 6.1022e-05 - mean_absolute_error: 0.0046 - mean_squared_error: 6.1022e-05 - root_mean_squared_error: 0.0078 - val_loss: 6.8739e-05 - val_mean_absolute_error: 0.0048 - val_mean_squared_error: 6.8739e-05 - val_root_mean_squared_error: 0.0083\n",
            "Epoch 45/300\n",
            "9643/9643 [==============================] - 29s 3ms/step - loss: 6.0764e-05 - mean_absolute_error: 0.0046 - mean_squared_error: 6.0764e-05 - root_mean_squared_error: 0.0078 - val_loss: 7.4744e-05 - val_mean_absolute_error: 0.0050 - val_mean_squared_error: 7.4744e-05 - val_root_mean_squared_error: 0.0086\n",
            "Epoch 46/300\n",
            "9643/9643 [==============================] - 30s 3ms/step - loss: 6.0801e-05 - mean_absolute_error: 0.0046 - mean_squared_error: 6.0801e-05 - root_mean_squared_error: 0.0078 - val_loss: 7.6715e-05 - val_mean_absolute_error: 0.0056 - val_mean_squared_error: 7.6715e-05 - val_root_mean_squared_error: 0.0088\n",
            "Epoch 47/300\n",
            "9643/9643 [==============================] - 28s 3ms/step - loss: 6.0625e-05 - mean_absolute_error: 0.0046 - mean_squared_error: 6.0625e-05 - root_mean_squared_error: 0.0078 - val_loss: 6.7992e-05 - val_mean_absolute_error: 0.0044 - val_mean_squared_error: 6.7992e-05 - val_root_mean_squared_error: 0.0082\n",
            "Epoch 48/300\n",
            "9643/9643 [==============================] - 28s 3ms/step - loss: 6.0883e-05 - mean_absolute_error: 0.0046 - mean_squared_error: 6.0883e-05 - root_mean_squared_error: 0.0078 - val_loss: 6.8082e-05 - val_mean_absolute_error: 0.0047 - val_mean_squared_error: 6.8082e-05 - val_root_mean_squared_error: 0.0083\n",
            "Epoch 49/300\n",
            "9643/9643 [==============================] - 28s 3ms/step - loss: 6.0790e-05 - mean_absolute_error: 0.0045 - mean_squared_error: 6.0790e-05 - root_mean_squared_error: 0.0078 - val_loss: 6.2789e-05 - val_mean_absolute_error: 0.0043 - val_mean_squared_error: 6.2789e-05 - val_root_mean_squared_error: 0.0079\n",
            "Epoch 50/300\n",
            "9643/9643 [==============================] - 29s 3ms/step - loss: 6.0399e-05 - mean_absolute_error: 0.0046 - mean_squared_error: 6.0399e-05 - root_mean_squared_error: 0.0078 - val_loss: 6.3312e-05 - val_mean_absolute_error: 0.0043 - val_mean_squared_error: 6.3312e-05 - val_root_mean_squared_error: 0.0080\n",
            "Epoch 51/300\n",
            "9643/9643 [==============================] - 30s 3ms/step - loss: 6.0400e-05 - mean_absolute_error: 0.0045 - mean_squared_error: 6.0400e-05 - root_mean_squared_error: 0.0078 - val_loss: 7.1415e-05 - val_mean_absolute_error: 0.0051 - val_mean_squared_error: 7.1415e-05 - val_root_mean_squared_error: 0.0085\n",
            "Epoch 52/300\n",
            "9643/9643 [==============================] - 29s 3ms/step - loss: 6.0370e-05 - mean_absolute_error: 0.0045 - mean_squared_error: 6.0370e-05 - root_mean_squared_error: 0.0078 - val_loss: 6.3840e-05 - val_mean_absolute_error: 0.0042 - val_mean_squared_error: 6.3840e-05 - val_root_mean_squared_error: 0.0080\n",
            "Epoch 53/300\n",
            "9643/9643 [==============================] - 27s 3ms/step - loss: 6.0393e-05 - mean_absolute_error: 0.0045 - mean_squared_error: 6.0393e-05 - root_mean_squared_error: 0.0078 - val_loss: 6.7188e-05 - val_mean_absolute_error: 0.0048 - val_mean_squared_error: 6.7188e-05 - val_root_mean_squared_error: 0.0082\n",
            "Epoch 54/300\n",
            "9643/9643 [==============================] - 28s 3ms/step - loss: 6.0201e-05 - mean_absolute_error: 0.0045 - mean_squared_error: 6.0201e-05 - root_mean_squared_error: 0.0078 - val_loss: 6.2865e-05 - val_mean_absolute_error: 0.0043 - val_mean_squared_error: 6.2865e-05 - val_root_mean_squared_error: 0.0079\n",
            "Epoch 55/300\n",
            "9643/9643 [==============================] - 28s 3ms/step - loss: 6.0732e-05 - mean_absolute_error: 0.0046 - mean_squared_error: 6.0732e-05 - root_mean_squared_error: 0.0078 - val_loss: 6.3513e-05 - val_mean_absolute_error: 0.0043 - val_mean_squared_error: 6.3513e-05 - val_root_mean_squared_error: 0.0080\n",
            "Epoch 56/300\n",
            "9643/9643 [==============================] - 30s 3ms/step - loss: 6.0222e-05 - mean_absolute_error: 0.0045 - mean_squared_error: 6.0222e-05 - root_mean_squared_error: 0.0078 - val_loss: 7.4618e-05 - val_mean_absolute_error: 0.0056 - val_mean_squared_error: 7.4618e-05 - val_root_mean_squared_error: 0.0086\n",
            "Epoch 57/300\n",
            "9643/9643 [==============================] - 29s 3ms/step - loss: 6.0402e-05 - mean_absolute_error: 0.0045 - mean_squared_error: 6.0402e-05 - root_mean_squared_error: 0.0078 - val_loss: 7.2408e-05 - val_mean_absolute_error: 0.0053 - val_mean_squared_error: 7.2408e-05 - val_root_mean_squared_error: 0.0085\n",
            "Epoch 58/300\n",
            "9643/9643 [==============================] - 31s 3ms/step - loss: 6.0287e-05 - mean_absolute_error: 0.0045 - mean_squared_error: 6.0287e-05 - root_mean_squared_error: 0.0078 - val_loss: 6.2551e-05 - val_mean_absolute_error: 0.0043 - val_mean_squared_error: 6.2551e-05 - val_root_mean_squared_error: 0.0079\n",
            "Epoch 59/300\n",
            "9643/9643 [==============================] - 27s 3ms/step - loss: 6.0701e-05 - mean_absolute_error: 0.0045 - mean_squared_error: 6.0701e-05 - root_mean_squared_error: 0.0078 - val_loss: 6.1475e-05 - val_mean_absolute_error: 0.0042 - val_mean_squared_error: 6.1475e-05 - val_root_mean_squared_error: 0.0078\n",
            "Epoch 60/300\n",
            "9643/9643 [==============================] - 31s 3ms/step - loss: 6.0204e-05 - mean_absolute_error: 0.0045 - mean_squared_error: 6.0204e-05 - root_mean_squared_error: 0.0078 - val_loss: 6.2282e-05 - val_mean_absolute_error: 0.0043 - val_mean_squared_error: 6.2282e-05 - val_root_mean_squared_error: 0.0079\n",
            "Epoch 61/300\n",
            "9643/9643 [==============================] - 30s 3ms/step - loss: 6.0349e-05 - mean_absolute_error: 0.0045 - mean_squared_error: 6.0349e-05 - root_mean_squared_error: 0.0078 - val_loss: 6.5330e-05 - val_mean_absolute_error: 0.0045 - val_mean_squared_error: 6.5330e-05 - val_root_mean_squared_error: 0.0081\n",
            "Epoch 62/300\n",
            "9643/9643 [==============================] - 31s 3ms/step - loss: 6.0253e-05 - mean_absolute_error: 0.0045 - mean_squared_error: 6.0253e-05 - root_mean_squared_error: 0.0078 - val_loss: 6.6249e-05 - val_mean_absolute_error: 0.0045 - val_mean_squared_error: 6.6249e-05 - val_root_mean_squared_error: 0.0081\n",
            "Epoch 63/300\n",
            "9643/9643 [==============================] - 30s 3ms/step - loss: 6.0375e-05 - mean_absolute_error: 0.0045 - mean_squared_error: 6.0375e-05 - root_mean_squared_error: 0.0078 - val_loss: 6.8582e-05 - val_mean_absolute_error: 0.0048 - val_mean_squared_error: 6.8582e-05 - val_root_mean_squared_error: 0.0083\n",
            "Epoch 64/300\n",
            "9643/9643 [==============================] - 29s 3ms/step - loss: 6.0430e-05 - mean_absolute_error: 0.0046 - mean_squared_error: 6.0430e-05 - root_mean_squared_error: 0.0078 - val_loss: 6.5400e-05 - val_mean_absolute_error: 0.0046 - val_mean_squared_error: 6.5400e-05 - val_root_mean_squared_error: 0.0081\n",
            "Epoch 65/300\n",
            "9643/9643 [==============================] - 28s 3ms/step - loss: 6.0120e-05 - mean_absolute_error: 0.0045 - mean_squared_error: 6.0120e-05 - root_mean_squared_error: 0.0078 - val_loss: 6.2101e-05 - val_mean_absolute_error: 0.0042 - val_mean_squared_error: 6.2101e-05 - val_root_mean_squared_error: 0.0079\n",
            "Epoch 66/300\n",
            "9643/9643 [==============================] - 28s 3ms/step - loss: 6.0424e-05 - mean_absolute_error: 0.0045 - mean_squared_error: 6.0424e-05 - root_mean_squared_error: 0.0078 - val_loss: 6.1686e-05 - val_mean_absolute_error: 0.0043 - val_mean_squared_error: 6.1686e-05 - val_root_mean_squared_error: 0.0079\n",
            "Epoch 67/300\n",
            "9643/9643 [==============================] - 29s 3ms/step - loss: 6.0168e-05 - mean_absolute_error: 0.0045 - mean_squared_error: 6.0168e-05 - root_mean_squared_error: 0.0078 - val_loss: 7.5667e-05 - val_mean_absolute_error: 0.0054 - val_mean_squared_error: 7.5667e-05 - val_root_mean_squared_error: 0.0087\n",
            "Epoch 68/300\n",
            "9643/9643 [==============================] - 29s 3ms/step - loss: 5.9834e-05 - mean_absolute_error: 0.0045 - mean_squared_error: 5.9834e-05 - root_mean_squared_error: 0.0077 - val_loss: 6.2362e-05 - val_mean_absolute_error: 0.0042 - val_mean_squared_error: 6.2362e-05 - val_root_mean_squared_error: 0.0079\n",
            "Epoch 69/300\n",
            "9643/9643 [==============================] - 30s 3ms/step - loss: 5.9646e-05 - mean_absolute_error: 0.0045 - mean_squared_error: 5.9646e-05 - root_mean_squared_error: 0.0077 - val_loss: 6.9632e-05 - val_mean_absolute_error: 0.0048 - val_mean_squared_error: 6.9632e-05 - val_root_mean_squared_error: 0.0083\n",
            "Epoch 70/300\n",
            "9643/9643 [==============================] - 31s 3ms/step - loss: 6.0295e-05 - mean_absolute_error: 0.0045 - mean_squared_error: 6.0295e-05 - root_mean_squared_error: 0.0078 - val_loss: 6.2681e-05 - val_mean_absolute_error: 0.0042 - val_mean_squared_error: 6.2681e-05 - val_root_mean_squared_error: 0.0079\n",
            "Epoch 71/300\n",
            "9643/9643 [==============================] - 28s 3ms/step - loss: 5.9631e-05 - mean_absolute_error: 0.0045 - mean_squared_error: 5.9631e-05 - root_mean_squared_error: 0.0077 - val_loss: 7.2547e-05 - val_mean_absolute_error: 0.0052 - val_mean_squared_error: 7.2547e-05 - val_root_mean_squared_error: 0.0085\n",
            "Epoch 72/300\n",
            "9643/9643 [==============================] - 31s 3ms/step - loss: 5.9935e-05 - mean_absolute_error: 0.0045 - mean_squared_error: 5.9935e-05 - root_mean_squared_error: 0.0077 - val_loss: 6.3257e-05 - val_mean_absolute_error: 0.0043 - val_mean_squared_error: 6.3257e-05 - val_root_mean_squared_error: 0.0080\n",
            "Epoch 73/300\n",
            "9643/9643 [==============================] - 31s 3ms/step - loss: 5.9776e-05 - mean_absolute_error: 0.0045 - mean_squared_error: 5.9776e-05 - root_mean_squared_error: 0.0077 - val_loss: 6.4633e-05 - val_mean_absolute_error: 0.0043 - val_mean_squared_error: 6.4633e-05 - val_root_mean_squared_error: 0.0080\n",
            "Epoch 74/300\n",
            "9643/9643 [==============================] - 28s 3ms/step - loss: 5.9801e-05 - mean_absolute_error: 0.0045 - mean_squared_error: 5.9801e-05 - root_mean_squared_error: 0.0077 - val_loss: 6.3643e-05 - val_mean_absolute_error: 0.0044 - val_mean_squared_error: 6.3643e-05 - val_root_mean_squared_error: 0.0080\n",
            "Epoch 75/300\n",
            "9643/9643 [==============================] - 31s 3ms/step - loss: 5.9750e-05 - mean_absolute_error: 0.0045 - mean_squared_error: 5.9750e-05 - root_mean_squared_error: 0.0077 - val_loss: 6.1399e-05 - val_mean_absolute_error: 0.0042 - val_mean_squared_error: 6.1399e-05 - val_root_mean_squared_error: 0.0078\n",
            "Epoch 76/300\n",
            "9643/9643 [==============================] - 28s 3ms/step - loss: 5.9910e-05 - mean_absolute_error: 0.0045 - mean_squared_error: 5.9910e-05 - root_mean_squared_error: 0.0077 - val_loss: 9.0530e-05 - val_mean_absolute_error: 0.0065 - val_mean_squared_error: 9.0530e-05 - val_root_mean_squared_error: 0.0095\n",
            "Epoch 77/300\n",
            "9643/9643 [==============================] - 29s 3ms/step - loss: 5.9622e-05 - mean_absolute_error: 0.0045 - mean_squared_error: 5.9622e-05 - root_mean_squared_error: 0.0077 - val_loss: 6.0889e-05 - val_mean_absolute_error: 0.0041 - val_mean_squared_error: 6.0889e-05 - val_root_mean_squared_error: 0.0078\n",
            "Epoch 78/300\n",
            "9643/9643 [==============================] - 30s 3ms/step - loss: 6.0058e-05 - mean_absolute_error: 0.0045 - mean_squared_error: 6.0058e-05 - root_mean_squared_error: 0.0077 - val_loss: 6.5541e-05 - val_mean_absolute_error: 0.0045 - val_mean_squared_error: 6.5541e-05 - val_root_mean_squared_error: 0.0081\n",
            "Epoch 79/300\n",
            "9643/9643 [==============================] - 29s 3ms/step - loss: 5.9690e-05 - mean_absolute_error: 0.0045 - mean_squared_error: 5.9690e-05 - root_mean_squared_error: 0.0077 - val_loss: 6.1339e-05 - val_mean_absolute_error: 0.0041 - val_mean_squared_error: 6.1339e-05 - val_root_mean_squared_error: 0.0078\n",
            "Epoch 80/300\n",
            "9643/9643 [==============================] - 31s 3ms/step - loss: 5.9391e-05 - mean_absolute_error: 0.0045 - mean_squared_error: 5.9391e-05 - root_mean_squared_error: 0.0077 - val_loss: 1.0638e-04 - val_mean_absolute_error: 0.0078 - val_mean_squared_error: 1.0638e-04 - val_root_mean_squared_error: 0.0103\n",
            "Epoch 81/300\n",
            "9643/9643 [==============================] - 30s 3ms/step - loss: 5.9521e-05 - mean_absolute_error: 0.0045 - mean_squared_error: 5.9521e-05 - root_mean_squared_error: 0.0077 - val_loss: 6.4656e-05 - val_mean_absolute_error: 0.0044 - val_mean_squared_error: 6.4656e-05 - val_root_mean_squared_error: 0.0080\n",
            "Epoch 82/300\n",
            "9643/9643 [==============================] - 29s 3ms/step - loss: 6.0022e-05 - mean_absolute_error: 0.0045 - mean_squared_error: 6.0022e-05 - root_mean_squared_error: 0.0077 - val_loss: 6.4880e-05 - val_mean_absolute_error: 0.0045 - val_mean_squared_error: 6.4880e-05 - val_root_mean_squared_error: 0.0081\n",
            "Epoch 83/300\n",
            "9643/9643 [==============================] - 31s 3ms/step - loss: 5.9734e-05 - mean_absolute_error: 0.0045 - mean_squared_error: 5.9734e-05 - root_mean_squared_error: 0.0077 - val_loss: 6.6824e-05 - val_mean_absolute_error: 0.0046 - val_mean_squared_error: 6.6824e-05 - val_root_mean_squared_error: 0.0082\n",
            "Epoch 84/300\n",
            "9643/9643 [==============================] - 29s 3ms/step - loss: 5.9798e-05 - mean_absolute_error: 0.0045 - mean_squared_error: 5.9798e-05 - root_mean_squared_error: 0.0077 - val_loss: 6.2404e-05 - val_mean_absolute_error: 0.0043 - val_mean_squared_error: 6.2404e-05 - val_root_mean_squared_error: 0.0079\n",
            "Epoch 85/300\n",
            "9643/9643 [==============================] - 29s 3ms/step - loss: 5.9735e-05 - mean_absolute_error: 0.0045 - mean_squared_error: 5.9735e-05 - root_mean_squared_error: 0.0077 - val_loss: 7.1118e-05 - val_mean_absolute_error: 0.0050 - val_mean_squared_error: 7.1118e-05 - val_root_mean_squared_error: 0.0084\n",
            "Epoch 86/300\n",
            "9643/9643 [==============================] - 30s 3ms/step - loss: 5.9383e-05 - mean_absolute_error: 0.0045 - mean_squared_error: 5.9383e-05 - root_mean_squared_error: 0.0077 - val_loss: 6.0891e-05 - val_mean_absolute_error: 0.0041 - val_mean_squared_error: 6.0891e-05 - val_root_mean_squared_error: 0.0078\n",
            "Epoch 87/300\n",
            "9643/9643 [==============================] - 32s 3ms/step - loss: 5.9635e-05 - mean_absolute_error: 0.0045 - mean_squared_error: 5.9635e-05 - root_mean_squared_error: 0.0077 - val_loss: 6.4499e-05 - val_mean_absolute_error: 0.0043 - val_mean_squared_error: 6.4499e-05 - val_root_mean_squared_error: 0.0080\n",
            "Epoch 88/300\n",
            "9643/9643 [==============================] - 28s 3ms/step - loss: 5.9516e-05 - mean_absolute_error: 0.0045 - mean_squared_error: 5.9516e-05 - root_mean_squared_error: 0.0077 - val_loss: 6.5119e-05 - val_mean_absolute_error: 0.0047 - val_mean_squared_error: 6.5119e-05 - val_root_mean_squared_error: 0.0081\n",
            "Epoch 89/300\n",
            "9643/9643 [==============================] - 30s 3ms/step - loss: 5.9419e-05 - mean_absolute_error: 0.0045 - mean_squared_error: 5.9419e-05 - root_mean_squared_error: 0.0077 - val_loss: 6.2267e-05 - val_mean_absolute_error: 0.0043 - val_mean_squared_error: 6.2267e-05 - val_root_mean_squared_error: 0.0079\n",
            "Epoch 90/300\n",
            "9643/9643 [==============================] - 32s 3ms/step - loss: 5.9486e-05 - mean_absolute_error: 0.0045 - mean_squared_error: 5.9486e-05 - root_mean_squared_error: 0.0077 - val_loss: 6.5348e-05 - val_mean_absolute_error: 0.0044 - val_mean_squared_error: 6.5348e-05 - val_root_mean_squared_error: 0.0081\n",
            "Epoch 91/300\n",
            "9643/9643 [==============================] - 28s 3ms/step - loss: 5.9749e-05 - mean_absolute_error: 0.0045 - mean_squared_error: 5.9749e-05 - root_mean_squared_error: 0.0077 - val_loss: 6.6536e-05 - val_mean_absolute_error: 0.0045 - val_mean_squared_error: 6.6536e-05 - val_root_mean_squared_error: 0.0082\n",
            "Epoch 92/300\n",
            "9643/9643 [==============================] - 32s 3ms/step - loss: 5.9472e-05 - mean_absolute_error: 0.0045 - mean_squared_error: 5.9472e-05 - root_mean_squared_error: 0.0077 - val_loss: 6.2841e-05 - val_mean_absolute_error: 0.0043 - val_mean_squared_error: 6.2841e-05 - val_root_mean_squared_error: 0.0079\n",
            "Epoch 93/300\n",
            "9643/9643 [==============================] - 31s 3ms/step - loss: 5.9714e-05 - mean_absolute_error: 0.0045 - mean_squared_error: 5.9714e-05 - root_mean_squared_error: 0.0077 - val_loss: 6.2209e-05 - val_mean_absolute_error: 0.0043 - val_mean_squared_error: 6.2209e-05 - val_root_mean_squared_error: 0.0079\n",
            "Epoch 94/300\n",
            "9643/9643 [==============================] - 29s 3ms/step - loss: 5.9364e-05 - mean_absolute_error: 0.0045 - mean_squared_error: 5.9364e-05 - root_mean_squared_error: 0.0077 - val_loss: 6.2462e-05 - val_mean_absolute_error: 0.0042 - val_mean_squared_error: 6.2462e-05 - val_root_mean_squared_error: 0.0079\n",
            "Epoch 95/300\n",
            "9643/9643 [==============================] - 32s 3ms/step - loss: 5.9457e-05 - mean_absolute_error: 0.0045 - mean_squared_error: 5.9457e-05 - root_mean_squared_error: 0.0077 - val_loss: 6.8195e-05 - val_mean_absolute_error: 0.0046 - val_mean_squared_error: 6.8195e-05 - val_root_mean_squared_error: 0.0083\n",
            "Epoch 96/300\n",
            "9643/9643 [==============================] - 31s 3ms/step - loss: 5.9314e-05 - mean_absolute_error: 0.0045 - mean_squared_error: 5.9314e-05 - root_mean_squared_error: 0.0077 - val_loss: 6.4596e-05 - val_mean_absolute_error: 0.0042 - val_mean_squared_error: 6.4596e-05 - val_root_mean_squared_error: 0.0080\n",
            "Epoch 97/300\n",
            "9643/9643 [==============================] - 29s 3ms/step - loss: 5.9359e-05 - mean_absolute_error: 0.0045 - mean_squared_error: 5.9359e-05 - root_mean_squared_error: 0.0077 - val_loss: 6.4235e-05 - val_mean_absolute_error: 0.0044 - val_mean_squared_error: 6.4235e-05 - val_root_mean_squared_error: 0.0080\n",
            "Epoch 98/300\n",
            "9643/9643 [==============================] - 30s 3ms/step - loss: 5.9260e-05 - mean_absolute_error: 0.0045 - mean_squared_error: 5.9260e-05 - root_mean_squared_error: 0.0077 - val_loss: 6.7825e-05 - val_mean_absolute_error: 0.0048 - val_mean_squared_error: 6.7825e-05 - val_root_mean_squared_error: 0.0082\n",
            "Epoch 99/300\n",
            "9643/9643 [==============================] - 29s 3ms/step - loss: 5.9165e-05 - mean_absolute_error: 0.0045 - mean_squared_error: 5.9165e-05 - root_mean_squared_error: 0.0077 - val_loss: 6.4522e-05 - val_mean_absolute_error: 0.0044 - val_mean_squared_error: 6.4522e-05 - val_root_mean_squared_error: 0.0080\n",
            "Epoch 100/300\n",
            "9643/9643 [==============================] - 30s 3ms/step - loss: 5.9448e-05 - mean_absolute_error: 0.0045 - mean_squared_error: 5.9448e-05 - root_mean_squared_error: 0.0077 - val_loss: 6.2291e-05 - val_mean_absolute_error: 0.0042 - val_mean_squared_error: 6.2291e-05 - val_root_mean_squared_error: 0.0079\n",
            "Epoch 101/300\n",
            "9643/9643 [==============================] - 32s 3ms/step - loss: 5.9179e-05 - mean_absolute_error: 0.0045 - mean_squared_error: 5.9179e-05 - root_mean_squared_error: 0.0077 - val_loss: 6.7479e-05 - val_mean_absolute_error: 0.0048 - val_mean_squared_error: 6.7479e-05 - val_root_mean_squared_error: 0.0082\n",
            "Epoch 102/300\n",
            "9643/9643 [==============================] - 30s 3ms/step - loss: 5.8951e-05 - mean_absolute_error: 0.0045 - mean_squared_error: 5.8951e-05 - root_mean_squared_error: 0.0077 - val_loss: 6.8950e-05 - val_mean_absolute_error: 0.0050 - val_mean_squared_error: 6.8950e-05 - val_root_mean_squared_error: 0.0083\n",
            "Epoch 103/300\n",
            "9643/9643 [==============================] - 30s 3ms/step - loss: 5.9230e-05 - mean_absolute_error: 0.0045 - mean_squared_error: 5.9230e-05 - root_mean_squared_error: 0.0077 - val_loss: 6.7690e-05 - val_mean_absolute_error: 0.0046 - val_mean_squared_error: 6.7690e-05 - val_root_mean_squared_error: 0.0082\n",
            "Epoch 104/300\n",
            "9643/9643 [==============================] - 29s 3ms/step - loss: 5.8923e-05 - mean_absolute_error: 0.0045 - mean_squared_error: 5.8923e-05 - root_mean_squared_error: 0.0077 - val_loss: 6.2245e-05 - val_mean_absolute_error: 0.0042 - val_mean_squared_error: 6.2245e-05 - val_root_mean_squared_error: 0.0079\n",
            "Epoch 105/300\n",
            "9643/9643 [==============================] - 29s 3ms/step - loss: 5.9280e-05 - mean_absolute_error: 0.0045 - mean_squared_error: 5.9280e-05 - root_mean_squared_error: 0.0077 - val_loss: 6.4079e-05 - val_mean_absolute_error: 0.0043 - val_mean_squared_error: 6.4079e-05 - val_root_mean_squared_error: 0.0080\n",
            "Epoch 106/300\n",
            "9643/9643 [==============================] - 31s 3ms/step - loss: 5.9038e-05 - mean_absolute_error: 0.0044 - mean_squared_error: 5.9038e-05 - root_mean_squared_error: 0.0077 - val_loss: 6.2219e-05 - val_mean_absolute_error: 0.0043 - val_mean_squared_error: 6.2219e-05 - val_root_mean_squared_error: 0.0079\n",
            "Epoch 107/300\n",
            "9643/9643 [==============================] - 29s 3ms/step - loss: 5.9312e-05 - mean_absolute_error: 0.0045 - mean_squared_error: 5.9312e-05 - root_mean_squared_error: 0.0077 - val_loss: 6.3301e-05 - val_mean_absolute_error: 0.0042 - val_mean_squared_error: 6.3301e-05 - val_root_mean_squared_error: 0.0080\n",
            "Epoch 108/300\n",
            "9643/9643 [==============================] - 29s 3ms/step - loss: 5.8985e-05 - mean_absolute_error: 0.0045 - mean_squared_error: 5.8985e-05 - root_mean_squared_error: 0.0077 - val_loss: 6.8190e-05 - val_mean_absolute_error: 0.0046 - val_mean_squared_error: 6.8190e-05 - val_root_mean_squared_error: 0.0083\n",
            "Epoch 109/300\n",
            "9643/9643 [==============================] - 32s 3ms/step - loss: 5.9157e-05 - mean_absolute_error: 0.0045 - mean_squared_error: 5.9157e-05 - root_mean_squared_error: 0.0077 - val_loss: 6.1477e-05 - val_mean_absolute_error: 0.0042 - val_mean_squared_error: 6.1477e-05 - val_root_mean_squared_error: 0.0078\n",
            "Epoch 110/300\n",
            "9643/9643 [==============================] - 30s 3ms/step - loss: 5.8805e-05 - mean_absolute_error: 0.0044 - mean_squared_error: 5.8805e-05 - root_mean_squared_error: 0.0077 - val_loss: 6.6322e-05 - val_mean_absolute_error: 0.0046 - val_mean_squared_error: 6.6322e-05 - val_root_mean_squared_error: 0.0081\n",
            "Epoch 111/300\n",
            "9643/9643 [==============================] - 29s 3ms/step - loss: 5.8708e-05 - mean_absolute_error: 0.0044 - mean_squared_error: 5.8708e-05 - root_mean_squared_error: 0.0077 - val_loss: 6.3762e-05 - val_mean_absolute_error: 0.0043 - val_mean_squared_error: 6.3762e-05 - val_root_mean_squared_error: 0.0080\n",
            "Epoch 112/300\n",
            "9643/9643 [==============================] - 30s 3ms/step - loss: 5.9393e-05 - mean_absolute_error: 0.0045 - mean_squared_error: 5.9393e-05 - root_mean_squared_error: 0.0077 - val_loss: 6.1682e-05 - val_mean_absolute_error: 0.0041 - val_mean_squared_error: 6.1682e-05 - val_root_mean_squared_error: 0.0079\n",
            "Epoch 113/300\n",
            "9643/9643 [==============================] - 38s 4ms/step - loss: 5.8557e-05 - mean_absolute_error: 0.0044 - mean_squared_error: 5.8557e-05 - root_mean_squared_error: 0.0077 - val_loss: 6.0449e-05 - val_mean_absolute_error: 0.0041 - val_mean_squared_error: 6.0449e-05 - val_root_mean_squared_error: 0.0078\n",
            "Epoch 114/300\n",
            "9643/9643 [==============================] - 32s 3ms/step - loss: 5.8771e-05 - mean_absolute_error: 0.0044 - mean_squared_error: 5.8771e-05 - root_mean_squared_error: 0.0077 - val_loss: 6.4676e-05 - val_mean_absolute_error: 0.0045 - val_mean_squared_error: 6.4676e-05 - val_root_mean_squared_error: 0.0080\n",
            "Epoch 115/300\n",
            "9643/9643 [==============================] - 30s 3ms/step - loss: 5.8788e-05 - mean_absolute_error: 0.0044 - mean_squared_error: 5.8788e-05 - root_mean_squared_error: 0.0077 - val_loss: 6.3854e-05 - val_mean_absolute_error: 0.0044 - val_mean_squared_error: 6.3854e-05 - val_root_mean_squared_error: 0.0080\n",
            "Epoch 116/300\n",
            "9643/9643 [==============================] - 33s 3ms/step - loss: 5.8941e-05 - mean_absolute_error: 0.0045 - mean_squared_error: 5.8941e-05 - root_mean_squared_error: 0.0077 - val_loss: 6.2151e-05 - val_mean_absolute_error: 0.0042 - val_mean_squared_error: 6.2151e-05 - val_root_mean_squared_error: 0.0079\n",
            "Epoch 117/300\n",
            "9643/9643 [==============================] - 31s 3ms/step - loss: 5.8733e-05 - mean_absolute_error: 0.0044 - mean_squared_error: 5.8733e-05 - root_mean_squared_error: 0.0077 - val_loss: 6.2927e-05 - val_mean_absolute_error: 0.0044 - val_mean_squared_error: 6.2927e-05 - val_root_mean_squared_error: 0.0079\n",
            "Epoch 118/300\n",
            "9643/9643 [==============================] - 32s 3ms/step - loss: 5.9090e-05 - mean_absolute_error: 0.0045 - mean_squared_error: 5.9090e-05 - root_mean_squared_error: 0.0077 - val_loss: 6.2494e-05 - val_mean_absolute_error: 0.0042 - val_mean_squared_error: 6.2494e-05 - val_root_mean_squared_error: 0.0079\n",
            "Epoch 119/300\n",
            "9643/9643 [==============================] - 30s 3ms/step - loss: 5.8550e-05 - mean_absolute_error: 0.0044 - mean_squared_error: 5.8550e-05 - root_mean_squared_error: 0.0077 - val_loss: 6.2636e-05 - val_mean_absolute_error: 0.0042 - val_mean_squared_error: 6.2636e-05 - val_root_mean_squared_error: 0.0079\n",
            "Epoch 120/300\n",
            "9643/9643 [==============================] - 31s 3ms/step - loss: 5.8769e-05 - mean_absolute_error: 0.0044 - mean_squared_error: 5.8769e-05 - root_mean_squared_error: 0.0077 - val_loss: 8.3640e-05 - val_mean_absolute_error: 0.0062 - val_mean_squared_error: 8.3640e-05 - val_root_mean_squared_error: 0.0091\n",
            "Epoch 121/300\n",
            "9643/9643 [==============================] - 31s 3ms/step - loss: 5.8737e-05 - mean_absolute_error: 0.0044 - mean_squared_error: 5.8737e-05 - root_mean_squared_error: 0.0077 - val_loss: 6.0634e-05 - val_mean_absolute_error: 0.0041 - val_mean_squared_error: 6.0634e-05 - val_root_mean_squared_error: 0.0078\n",
            "Epoch 122/300\n",
            "9643/9643 [==============================] - 30s 3ms/step - loss: 5.8818e-05 - mean_absolute_error: 0.0044 - mean_squared_error: 5.8818e-05 - root_mean_squared_error: 0.0077 - val_loss: 6.0451e-05 - val_mean_absolute_error: 0.0041 - val_mean_squared_error: 6.0451e-05 - val_root_mean_squared_error: 0.0078\n",
            "Epoch 123/300\n",
            "9643/9643 [==============================] - 32s 3ms/step - loss: 5.8514e-05 - mean_absolute_error: 0.0044 - mean_squared_error: 5.8514e-05 - root_mean_squared_error: 0.0076 - val_loss: 7.0388e-05 - val_mean_absolute_error: 0.0051 - val_mean_squared_error: 7.0388e-05 - val_root_mean_squared_error: 0.0084\n",
            "Epoch 124/300\n",
            "9643/9643 [==============================] - 31s 3ms/step - loss: 5.9130e-05 - mean_absolute_error: 0.0045 - mean_squared_error: 5.9130e-05 - root_mean_squared_error: 0.0077 - val_loss: 9.0269e-05 - val_mean_absolute_error: 0.0066 - val_mean_squared_error: 9.0269e-05 - val_root_mean_squared_error: 0.0095\n",
            "Epoch 125/300\n",
            "9643/9643 [==============================] - 30s 3ms/step - loss: 5.8844e-05 - mean_absolute_error: 0.0044 - mean_squared_error: 5.8844e-05 - root_mean_squared_error: 0.0077 - val_loss: 6.5987e-05 - val_mean_absolute_error: 0.0045 - val_mean_squared_error: 6.5987e-05 - val_root_mean_squared_error: 0.0081\n",
            "Epoch 126/300\n",
            "9643/9643 [==============================] - 32s 3ms/step - loss: 5.8782e-05 - mean_absolute_error: 0.0044 - mean_squared_error: 5.8782e-05 - root_mean_squared_error: 0.0077 - val_loss: 6.1593e-05 - val_mean_absolute_error: 0.0042 - val_mean_squared_error: 6.1593e-05 - val_root_mean_squared_error: 0.0078\n",
            "Epoch 127/300\n",
            "9643/9643 [==============================] - 31s 3ms/step - loss: 5.9230e-05 - mean_absolute_error: 0.0044 - mean_squared_error: 5.9230e-05 - root_mean_squared_error: 0.0077 - val_loss: 6.5375e-05 - val_mean_absolute_error: 0.0045 - val_mean_squared_error: 6.5375e-05 - val_root_mean_squared_error: 0.0081\n",
            "Epoch 128/300\n",
            "9643/9643 [==============================] - 30s 3ms/step - loss: 5.8663e-05 - mean_absolute_error: 0.0044 - mean_squared_error: 5.8663e-05 - root_mean_squared_error: 0.0077 - val_loss: 6.5513e-05 - val_mean_absolute_error: 0.0046 - val_mean_squared_error: 6.5513e-05 - val_root_mean_squared_error: 0.0081\n",
            "Epoch 129/300\n",
            "9643/9643 [==============================] - 28s 3ms/step - loss: 5.8598e-05 - mean_absolute_error: 0.0044 - mean_squared_error: 5.8598e-05 - root_mean_squared_error: 0.0077 - val_loss: 5.9297e-05 - val_mean_absolute_error: 0.0040 - val_mean_squared_error: 5.9297e-05 - val_root_mean_squared_error: 0.0077\n",
            "Epoch 130/300\n",
            "9643/9643 [==============================] - 33s 3ms/step - loss: 5.8432e-05 - mean_absolute_error: 0.0044 - mean_squared_error: 5.8432e-05 - root_mean_squared_error: 0.0076 - val_loss: 7.1430e-05 - val_mean_absolute_error: 0.0051 - val_mean_squared_error: 7.1430e-05 - val_root_mean_squared_error: 0.0085\n",
            "Epoch 131/300\n",
            "9643/9643 [==============================] - 28s 3ms/step - loss: 5.8662e-05 - mean_absolute_error: 0.0044 - mean_squared_error: 5.8662e-05 - root_mean_squared_error: 0.0077 - val_loss: 6.3777e-05 - val_mean_absolute_error: 0.0043 - val_mean_squared_error: 6.3777e-05 - val_root_mean_squared_error: 0.0080\n",
            "Epoch 132/300\n",
            "9643/9643 [==============================] - 30s 3ms/step - loss: 5.8951e-05 - mean_absolute_error: 0.0044 - mean_squared_error: 5.8951e-05 - root_mean_squared_error: 0.0077 - val_loss: 6.0253e-05 - val_mean_absolute_error: 0.0041 - val_mean_squared_error: 6.0253e-05 - val_root_mean_squared_error: 0.0078\n",
            "Epoch 133/300\n",
            "9643/9643 [==============================] - 30s 3ms/step - loss: 5.8399e-05 - mean_absolute_error: 0.0044 - mean_squared_error: 5.8399e-05 - root_mean_squared_error: 0.0076 - val_loss: 6.0352e-05 - val_mean_absolute_error: 0.0041 - val_mean_squared_error: 6.0352e-05 - val_root_mean_squared_error: 0.0078\n",
            "Epoch 134/300\n",
            "9643/9643 [==============================] - 29s 3ms/step - loss: 5.8702e-05 - mean_absolute_error: 0.0044 - mean_squared_error: 5.8702e-05 - root_mean_squared_error: 0.0077 - val_loss: 6.5938e-05 - val_mean_absolute_error: 0.0045 - val_mean_squared_error: 6.5938e-05 - val_root_mean_squared_error: 0.0081\n",
            "Epoch 135/300\n",
            "9643/9643 [==============================] - 32s 3ms/step - loss: 5.8657e-05 - mean_absolute_error: 0.0044 - mean_squared_error: 5.8657e-05 - root_mean_squared_error: 0.0077 - val_loss: 6.0168e-05 - val_mean_absolute_error: 0.0041 - val_mean_squared_error: 6.0168e-05 - val_root_mean_squared_error: 0.0078\n",
            "Epoch 136/300\n",
            "9643/9643 [==============================] - 29s 3ms/step - loss: 5.8297e-05 - mean_absolute_error: 0.0044 - mean_squared_error: 5.8297e-05 - root_mean_squared_error: 0.0076 - val_loss: 6.5138e-05 - val_mean_absolute_error: 0.0047 - val_mean_squared_error: 6.5138e-05 - val_root_mean_squared_error: 0.0081\n",
            "Epoch 137/300\n",
            "9643/9643 [==============================] - 29s 3ms/step - loss: 5.8277e-05 - mean_absolute_error: 0.0044 - mean_squared_error: 5.8277e-05 - root_mean_squared_error: 0.0076 - val_loss: 6.1743e-05 - val_mean_absolute_error: 0.0042 - val_mean_squared_error: 6.1743e-05 - val_root_mean_squared_error: 0.0079\n",
            "Epoch 138/300\n",
            "9643/9643 [==============================] - 32s 3ms/step - loss: 5.8629e-05 - mean_absolute_error: 0.0044 - mean_squared_error: 5.8629e-05 - root_mean_squared_error: 0.0077 - val_loss: 5.9922e-05 - val_mean_absolute_error: 0.0041 - val_mean_squared_error: 5.9922e-05 - val_root_mean_squared_error: 0.0077\n",
            "Epoch 139/300\n",
            "9643/9643 [==============================] - 31s 3ms/step - loss: 5.8248e-05 - mean_absolute_error: 0.0044 - mean_squared_error: 5.8248e-05 - root_mean_squared_error: 0.0076 - val_loss: 6.5701e-05 - val_mean_absolute_error: 0.0047 - val_mean_squared_error: 6.5701e-05 - val_root_mean_squared_error: 0.0081\n",
            "Epoch 140/300\n",
            "9643/9643 [==============================] - 30s 3ms/step - loss: 5.8067e-05 - mean_absolute_error: 0.0044 - mean_squared_error: 5.8067e-05 - root_mean_squared_error: 0.0076 - val_loss: 6.0903e-05 - val_mean_absolute_error: 0.0042 - val_mean_squared_error: 6.0903e-05 - val_root_mean_squared_error: 0.0078\n",
            "Epoch 141/300\n",
            "9643/9643 [==============================] - 31s 3ms/step - loss: 5.8046e-05 - mean_absolute_error: 0.0044 - mean_squared_error: 5.8046e-05 - root_mean_squared_error: 0.0076 - val_loss: 6.3788e-05 - val_mean_absolute_error: 0.0042 - val_mean_squared_error: 6.3788e-05 - val_root_mean_squared_error: 0.0080\n",
            "Epoch 142/300\n",
            "9643/9643 [==============================] - 33s 3ms/step - loss: 5.8350e-05 - mean_absolute_error: 0.0044 - mean_squared_error: 5.8350e-05 - root_mean_squared_error: 0.0076 - val_loss: 6.4895e-05 - val_mean_absolute_error: 0.0042 - val_mean_squared_error: 6.4895e-05 - val_root_mean_squared_error: 0.0081\n",
            "Epoch 143/300\n",
            "9643/9643 [==============================] - 31s 3ms/step - loss: 5.8277e-05 - mean_absolute_error: 0.0044 - mean_squared_error: 5.8277e-05 - root_mean_squared_error: 0.0076 - val_loss: 6.7937e-05 - val_mean_absolute_error: 0.0048 - val_mean_squared_error: 6.7937e-05 - val_root_mean_squared_error: 0.0082\n",
            "Epoch 144/300\n",
            "9643/9643 [==============================] - 30s 3ms/step - loss: 5.8519e-05 - mean_absolute_error: 0.0044 - mean_squared_error: 5.8519e-05 - root_mean_squared_error: 0.0076 - val_loss: 5.9578e-05 - val_mean_absolute_error: 0.0041 - val_mean_squared_error: 5.9578e-05 - val_root_mean_squared_error: 0.0077\n",
            "Epoch 145/300\n",
            "9643/9643 [==============================] - 32s 3ms/step - loss: 5.8148e-05 - mean_absolute_error: 0.0044 - mean_squared_error: 5.8148e-05 - root_mean_squared_error: 0.0076 - val_loss: 6.2645e-05 - val_mean_absolute_error: 0.0042 - val_mean_squared_error: 6.2645e-05 - val_root_mean_squared_error: 0.0079\n",
            "Epoch 146/300\n",
            "9643/9643 [==============================] - 31s 3ms/step - loss: 5.8255e-05 - mean_absolute_error: 0.0044 - mean_squared_error: 5.8255e-05 - root_mean_squared_error: 0.0076 - val_loss: 6.2145e-05 - val_mean_absolute_error: 0.0043 - val_mean_squared_error: 6.2145e-05 - val_root_mean_squared_error: 0.0079\n",
            "Epoch 147/300\n",
            "9643/9643 [==============================] - 32s 3ms/step - loss: 5.8334e-05 - mean_absolute_error: 0.0044 - mean_squared_error: 5.8334e-05 - root_mean_squared_error: 0.0076 - val_loss: 6.1348e-05 - val_mean_absolute_error: 0.0042 - val_mean_squared_error: 6.1348e-05 - val_root_mean_squared_error: 0.0078\n",
            "Epoch 148/300\n",
            "9643/9643 [==============================] - 31s 3ms/step - loss: 5.8660e-05 - mean_absolute_error: 0.0044 - mean_squared_error: 5.8660e-05 - root_mean_squared_error: 0.0077 - val_loss: 6.1124e-05 - val_mean_absolute_error: 0.0041 - val_mean_squared_error: 6.1124e-05 - val_root_mean_squared_error: 0.0078\n",
            "Epoch 149/300\n",
            "9643/9643 [==============================] - 30s 3ms/step - loss: 5.7920e-05 - mean_absolute_error: 0.0044 - mean_squared_error: 5.7920e-05 - root_mean_squared_error: 0.0076 - val_loss: 6.0486e-05 - val_mean_absolute_error: 0.0042 - val_mean_squared_error: 6.0486e-05 - val_root_mean_squared_error: 0.0078\n",
            "Epoch 150/300\n",
            "9643/9643 [==============================] - 29s 3ms/step - loss: 5.8027e-05 - mean_absolute_error: 0.0044 - mean_squared_error: 5.8027e-05 - root_mean_squared_error: 0.0076 - val_loss: 6.1541e-05 - val_mean_absolute_error: 0.0041 - val_mean_squared_error: 6.1541e-05 - val_root_mean_squared_error: 0.0078\n",
            "Epoch 151/300\n",
            "9643/9643 [==============================] - 32s 3ms/step - loss: 5.7781e-05 - mean_absolute_error: 0.0044 - mean_squared_error: 5.7781e-05 - root_mean_squared_error: 0.0076 - val_loss: 6.6899e-05 - val_mean_absolute_error: 0.0045 - val_mean_squared_error: 6.6899e-05 - val_root_mean_squared_error: 0.0082\n",
            "Epoch 152/300\n",
            "9643/9643 [==============================] - 29s 3ms/step - loss: 5.8527e-05 - mean_absolute_error: 0.0044 - mean_squared_error: 5.8527e-05 - root_mean_squared_error: 0.0077 - val_loss: 6.3046e-05 - val_mean_absolute_error: 0.0041 - val_mean_squared_error: 6.3046e-05 - val_root_mean_squared_error: 0.0079\n",
            "Epoch 153/300\n",
            "9643/9643 [==============================] - 29s 3ms/step - loss: 5.8136e-05 - mean_absolute_error: 0.0044 - mean_squared_error: 5.8136e-05 - root_mean_squared_error: 0.0076 - val_loss: 6.0542e-05 - val_mean_absolute_error: 0.0042 - val_mean_squared_error: 6.0542e-05 - val_root_mean_squared_error: 0.0078\n",
            "Epoch 154/300\n",
            "9643/9643 [==============================] - 33s 3ms/step - loss: 5.8058e-05 - mean_absolute_error: 0.0044 - mean_squared_error: 5.8058e-05 - root_mean_squared_error: 0.0076 - val_loss: 7.0063e-05 - val_mean_absolute_error: 0.0046 - val_mean_squared_error: 7.0063e-05 - val_root_mean_squared_error: 0.0084\n",
            "Epoch 155/300\n",
            "9643/9643 [==============================] - 33s 3ms/step - loss: 5.8065e-05 - mean_absolute_error: 0.0044 - mean_squared_error: 5.8065e-05 - root_mean_squared_error: 0.0076 - val_loss: 7.1323e-05 - val_mean_absolute_error: 0.0052 - val_mean_squared_error: 7.1323e-05 - val_root_mean_squared_error: 0.0084\n",
            "Epoch 156/300\n",
            "9643/9643 [==============================] - 29s 3ms/step - loss: 5.8222e-05 - mean_absolute_error: 0.0044 - mean_squared_error: 5.8222e-05 - root_mean_squared_error: 0.0076 - val_loss: 7.5845e-05 - val_mean_absolute_error: 0.0053 - val_mean_squared_error: 7.5845e-05 - val_root_mean_squared_error: 0.0087\n",
            "Epoch 157/300\n",
            "9643/9643 [==============================] - 30s 3ms/step - loss: 5.8045e-05 - mean_absolute_error: 0.0044 - mean_squared_error: 5.8045e-05 - root_mean_squared_error: 0.0076 - val_loss: 6.9004e-05 - val_mean_absolute_error: 0.0048 - val_mean_squared_error: 6.9004e-05 - val_root_mean_squared_error: 0.0083\n",
            "Epoch 158/300\n",
            "9643/9643 [==============================] - 31s 3ms/step - loss: 5.8009e-05 - mean_absolute_error: 0.0044 - mean_squared_error: 5.8009e-05 - root_mean_squared_error: 0.0076 - val_loss: 6.6463e-05 - val_mean_absolute_error: 0.0046 - val_mean_squared_error: 6.6463e-05 - val_root_mean_squared_error: 0.0082\n",
            "Epoch 159/300\n",
            "9643/9643 [==============================] - 30s 3ms/step - loss: 5.8136e-05 - mean_absolute_error: 0.0044 - mean_squared_error: 5.8136e-05 - root_mean_squared_error: 0.0076 - val_loss: 6.3104e-05 - val_mean_absolute_error: 0.0044 - val_mean_squared_error: 6.3104e-05 - val_root_mean_squared_error: 0.0079\n",
            "Epoch 160/300\n",
            "9643/9643 [==============================] - 29s 3ms/step - loss: 5.7853e-05 - mean_absolute_error: 0.0044 - mean_squared_error: 5.7853e-05 - root_mean_squared_error: 0.0076 - val_loss: 6.0450e-05 - val_mean_absolute_error: 0.0041 - val_mean_squared_error: 6.0450e-05 - val_root_mean_squared_error: 0.0078\n",
            "Epoch 161/300\n",
            "9643/9643 [==============================] - 30s 3ms/step - loss: 5.7803e-05 - mean_absolute_error: 0.0044 - mean_squared_error: 5.7803e-05 - root_mean_squared_error: 0.0076 - val_loss: 6.2517e-05 - val_mean_absolute_error: 0.0042 - val_mean_squared_error: 6.2517e-05 - val_root_mean_squared_error: 0.0079\n",
            "Epoch 162/300\n",
            "9643/9643 [==============================] - 29s 3ms/step - loss: 5.8220e-05 - mean_absolute_error: 0.0044 - mean_squared_error: 5.8220e-05 - root_mean_squared_error: 0.0076 - val_loss: 6.0196e-05 - val_mean_absolute_error: 0.0041 - val_mean_squared_error: 6.0196e-05 - val_root_mean_squared_error: 0.0078\n",
            "Epoch 163/300\n",
            "9643/9643 [==============================] - 32s 3ms/step - loss: 5.7654e-05 - mean_absolute_error: 0.0044 - mean_squared_error: 5.7654e-05 - root_mean_squared_error: 0.0076 - val_loss: 6.1038e-05 - val_mean_absolute_error: 0.0042 - val_mean_squared_error: 6.1038e-05 - val_root_mean_squared_error: 0.0078\n",
            "Epoch 164/300\n",
            "9643/9643 [==============================] - 32s 3ms/step - loss: 5.7892e-05 - mean_absolute_error: 0.0044 - mean_squared_error: 5.7892e-05 - root_mean_squared_error: 0.0076 - val_loss: 6.2169e-05 - val_mean_absolute_error: 0.0042 - val_mean_squared_error: 6.2169e-05 - val_root_mean_squared_error: 0.0079\n",
            "Epoch 165/300\n",
            "9643/9643 [==============================] - 32s 3ms/step - loss: 5.8284e-05 - mean_absolute_error: 0.0044 - mean_squared_error: 5.8284e-05 - root_mean_squared_error: 0.0076 - val_loss: 6.1770e-05 - val_mean_absolute_error: 0.0042 - val_mean_squared_error: 6.1770e-05 - val_root_mean_squared_error: 0.0079\n",
            "Epoch 166/300\n",
            "9643/9643 [==============================] - 33s 3ms/step - loss: 5.7680e-05 - mean_absolute_error: 0.0044 - mean_squared_error: 5.7680e-05 - root_mean_squared_error: 0.0076 - val_loss: 6.0303e-05 - val_mean_absolute_error: 0.0041 - val_mean_squared_error: 6.0303e-05 - val_root_mean_squared_error: 0.0078\n",
            "Epoch 167/300\n",
            "9643/9643 [==============================] - 30s 3ms/step - loss: 5.7502e-05 - mean_absolute_error: 0.0044 - mean_squared_error: 5.7502e-05 - root_mean_squared_error: 0.0076 - val_loss: 7.2681e-05 - val_mean_absolute_error: 0.0049 - val_mean_squared_error: 7.2681e-05 - val_root_mean_squared_error: 0.0085\n",
            "Epoch 168/300\n",
            "9643/9643 [==============================] - 29s 3ms/step - loss: 5.7831e-05 - mean_absolute_error: 0.0044 - mean_squared_error: 5.7831e-05 - root_mean_squared_error: 0.0076 - val_loss: 6.4202e-05 - val_mean_absolute_error: 0.0042 - val_mean_squared_error: 6.4202e-05 - val_root_mean_squared_error: 0.0080\n",
            "Epoch 169/300\n",
            "9643/9643 [==============================] - 30s 3ms/step - loss: 5.7623e-05 - mean_absolute_error: 0.0044 - mean_squared_error: 5.7623e-05 - root_mean_squared_error: 0.0076 - val_loss: 6.0406e-05 - val_mean_absolute_error: 0.0040 - val_mean_squared_error: 6.0406e-05 - val_root_mean_squared_error: 0.0078\n",
            "Epoch 170/300\n",
            "9643/9643 [==============================] - 31s 3ms/step - loss: 5.7733e-05 - mean_absolute_error: 0.0044 - mean_squared_error: 5.7733e-05 - root_mean_squared_error: 0.0076 - val_loss: 6.6157e-05 - val_mean_absolute_error: 0.0042 - val_mean_squared_error: 6.6157e-05 - val_root_mean_squared_error: 0.0081\n",
            "Epoch 171/300\n",
            "9643/9643 [==============================] - 33s 3ms/step - loss: 5.7668e-05 - mean_absolute_error: 0.0044 - mean_squared_error: 5.7668e-05 - root_mean_squared_error: 0.0076 - val_loss: 6.1390e-05 - val_mean_absolute_error: 0.0041 - val_mean_squared_error: 6.1390e-05 - val_root_mean_squared_error: 0.0078\n",
            "Epoch 172/300\n",
            "9643/9643 [==============================] - 29s 3ms/step - loss: 5.7535e-05 - mean_absolute_error: 0.0044 - mean_squared_error: 5.7535e-05 - root_mean_squared_error: 0.0076 - val_loss: 6.6114e-05 - val_mean_absolute_error: 0.0044 - val_mean_squared_error: 6.6114e-05 - val_root_mean_squared_error: 0.0081\n",
            "Epoch 173/300\n",
            "9643/9643 [==============================] - 33s 3ms/step - loss: 5.7721e-05 - mean_absolute_error: 0.0044 - mean_squared_error: 5.7721e-05 - root_mean_squared_error: 0.0076 - val_loss: 6.2505e-05 - val_mean_absolute_error: 0.0042 - val_mean_squared_error: 6.2505e-05 - val_root_mean_squared_error: 0.0079\n",
            "Epoch 174/300\n",
            "9643/9643 [==============================] - 31s 3ms/step - loss: 5.7716e-05 - mean_absolute_error: 0.0044 - mean_squared_error: 5.7716e-05 - root_mean_squared_error: 0.0076 - val_loss: 6.4246e-05 - val_mean_absolute_error: 0.0046 - val_mean_squared_error: 6.4246e-05 - val_root_mean_squared_error: 0.0080\n",
            "Epoch 175/300\n",
            "9643/9643 [==============================] - 33s 3ms/step - loss: 5.7764e-05 - mean_absolute_error: 0.0044 - mean_squared_error: 5.7764e-05 - root_mean_squared_error: 0.0076 - val_loss: 6.0832e-05 - val_mean_absolute_error: 0.0041 - val_mean_squared_error: 6.0832e-05 - val_root_mean_squared_error: 0.0078\n",
            "Epoch 176/300\n",
            "9643/9643 [==============================] - 31s 3ms/step - loss: 5.7759e-05 - mean_absolute_error: 0.0044 - mean_squared_error: 5.7759e-05 - root_mean_squared_error: 0.0076 - val_loss: 5.9854e-05 - val_mean_absolute_error: 0.0041 - val_mean_squared_error: 5.9854e-05 - val_root_mean_squared_error: 0.0077\n",
            "Epoch 177/300\n",
            "9643/9643 [==============================] - 31s 3ms/step - loss: 5.7389e-05 - mean_absolute_error: 0.0044 - mean_squared_error: 5.7389e-05 - root_mean_squared_error: 0.0076 - val_loss: 6.6344e-05 - val_mean_absolute_error: 0.0046 - val_mean_squared_error: 6.6344e-05 - val_root_mean_squared_error: 0.0081\n",
            "Epoch 178/300\n",
            "9643/9643 [==============================] - 33s 3ms/step - loss: 5.7570e-05 - mean_absolute_error: 0.0044 - mean_squared_error: 5.7570e-05 - root_mean_squared_error: 0.0076 - val_loss: 5.9872e-05 - val_mean_absolute_error: 0.0041 - val_mean_squared_error: 5.9872e-05 - val_root_mean_squared_error: 0.0077\n",
            "Epoch 179/300\n",
            "9643/9643 [==============================] - 32s 3ms/step - loss: 5.7592e-05 - mean_absolute_error: 0.0043 - mean_squared_error: 5.7592e-05 - root_mean_squared_error: 0.0076 - val_loss: 5.8835e-05 - val_mean_absolute_error: 0.0040 - val_mean_squared_error: 5.8835e-05 - val_root_mean_squared_error: 0.0077\n",
            "Epoch 180/300\n",
            "9643/9643 [==============================] - 30s 3ms/step - loss: 5.7837e-05 - mean_absolute_error: 0.0044 - mean_squared_error: 5.7837e-05 - root_mean_squared_error: 0.0076 - val_loss: 6.3267e-05 - val_mean_absolute_error: 0.0041 - val_mean_squared_error: 6.3267e-05 - val_root_mean_squared_error: 0.0080\n",
            "Epoch 181/300\n",
            "9643/9643 [==============================] - 30s 3ms/step - loss: 5.7652e-05 - mean_absolute_error: 0.0044 - mean_squared_error: 5.7652e-05 - root_mean_squared_error: 0.0076 - val_loss: 6.0455e-05 - val_mean_absolute_error: 0.0042 - val_mean_squared_error: 6.0455e-05 - val_root_mean_squared_error: 0.0078\n",
            "Epoch 182/300\n",
            "9643/9643 [==============================] - 32s 3ms/step - loss: 5.7411e-05 - mean_absolute_error: 0.0044 - mean_squared_error: 5.7411e-05 - root_mean_squared_error: 0.0076 - val_loss: 6.2645e-05 - val_mean_absolute_error: 0.0045 - val_mean_squared_error: 6.2645e-05 - val_root_mean_squared_error: 0.0079\n",
            "Epoch 183/300\n",
            "9643/9643 [==============================] - 32s 3ms/step - loss: 5.7480e-05 - mean_absolute_error: 0.0044 - mean_squared_error: 5.7480e-05 - root_mean_squared_error: 0.0076 - val_loss: 6.3796e-05 - val_mean_absolute_error: 0.0046 - val_mean_squared_error: 6.3796e-05 - val_root_mean_squared_error: 0.0080\n",
            "Epoch 184/300\n",
            "9643/9643 [==============================] - 31s 3ms/step - loss: 5.7490e-05 - mean_absolute_error: 0.0044 - mean_squared_error: 5.7490e-05 - root_mean_squared_error: 0.0076 - val_loss: 6.6893e-05 - val_mean_absolute_error: 0.0046 - val_mean_squared_error: 6.6893e-05 - val_root_mean_squared_error: 0.0082\n",
            "Epoch 185/300\n",
            "9643/9643 [==============================] - 32s 3ms/step - loss: 5.7258e-05 - mean_absolute_error: 0.0044 - mean_squared_error: 5.7258e-05 - root_mean_squared_error: 0.0076 - val_loss: 6.1894e-05 - val_mean_absolute_error: 0.0043 - val_mean_squared_error: 6.1894e-05 - val_root_mean_squared_error: 0.0079\n",
            "Epoch 186/300\n",
            "9643/9643 [==============================] - 30s 3ms/step - loss: 5.7221e-05 - mean_absolute_error: 0.0043 - mean_squared_error: 5.7221e-05 - root_mean_squared_error: 0.0076 - val_loss: 6.1429e-05 - val_mean_absolute_error: 0.0043 - val_mean_squared_error: 6.1429e-05 - val_root_mean_squared_error: 0.0078\n",
            "Epoch 187/300\n",
            "9643/9643 [==============================] - 30s 3ms/step - loss: 5.7250e-05 - mean_absolute_error: 0.0043 - mean_squared_error: 5.7250e-05 - root_mean_squared_error: 0.0076 - val_loss: 5.9181e-05 - val_mean_absolute_error: 0.0041 - val_mean_squared_error: 5.9181e-05 - val_root_mean_squared_error: 0.0077\n",
            "Epoch 188/300\n",
            "9643/9643 [==============================] - 33s 3ms/step - loss: 5.7403e-05 - mean_absolute_error: 0.0044 - mean_squared_error: 5.7403e-05 - root_mean_squared_error: 0.0076 - val_loss: 6.0653e-05 - val_mean_absolute_error: 0.0040 - val_mean_squared_error: 6.0653e-05 - val_root_mean_squared_error: 0.0078\n",
            "Epoch 189/300\n",
            "9643/9643 [==============================] - 32s 3ms/step - loss: 5.7145e-05 - mean_absolute_error: 0.0044 - mean_squared_error: 5.7145e-05 - root_mean_squared_error: 0.0076 - val_loss: 6.1325e-05 - val_mean_absolute_error: 0.0043 - val_mean_squared_error: 6.1325e-05 - val_root_mean_squared_error: 0.0078\n",
            "Epoch 190/300\n",
            "9643/9643 [==============================] - 33s 3ms/step - loss: 5.7510e-05 - mean_absolute_error: 0.0044 - mean_squared_error: 5.7510e-05 - root_mean_squared_error: 0.0076 - val_loss: 6.2812e-05 - val_mean_absolute_error: 0.0043 - val_mean_squared_error: 6.2812e-05 - val_root_mean_squared_error: 0.0079\n",
            "Epoch 191/300\n",
            "9643/9643 [==============================] - 30s 3ms/step - loss: 5.6938e-05 - mean_absolute_error: 0.0043 - mean_squared_error: 5.6938e-05 - root_mean_squared_error: 0.0075 - val_loss: 5.9188e-05 - val_mean_absolute_error: 0.0040 - val_mean_squared_error: 5.9188e-05 - val_root_mean_squared_error: 0.0077\n",
            "Epoch 192/300\n",
            "9643/9643 [==============================] - 31s 3ms/step - loss: 5.7359e-05 - mean_absolute_error: 0.0044 - mean_squared_error: 5.7359e-05 - root_mean_squared_error: 0.0076 - val_loss: 5.9297e-05 - val_mean_absolute_error: 0.0041 - val_mean_squared_error: 5.9297e-05 - val_root_mean_squared_error: 0.0077\n",
            "Epoch 193/300\n",
            "9643/9643 [==============================] - 30s 3ms/step - loss: 5.7172e-05 - mean_absolute_error: 0.0044 - mean_squared_error: 5.7172e-05 - root_mean_squared_error: 0.0076 - val_loss: 6.5060e-05 - val_mean_absolute_error: 0.0047 - val_mean_squared_error: 6.5060e-05 - val_root_mean_squared_error: 0.0081\n",
            "Epoch 194/300\n",
            "9643/9643 [==============================] - 31s 3ms/step - loss: 5.7279e-05 - mean_absolute_error: 0.0044 - mean_squared_error: 5.7279e-05 - root_mean_squared_error: 0.0076 - val_loss: 6.5304e-05 - val_mean_absolute_error: 0.0045 - val_mean_squared_error: 6.5304e-05 - val_root_mean_squared_error: 0.0081\n",
            "Epoch 195/300\n",
            "9643/9643 [==============================] - 32s 3ms/step - loss: 5.7178e-05 - mean_absolute_error: 0.0043 - mean_squared_error: 5.7178e-05 - root_mean_squared_error: 0.0076 - val_loss: 7.1312e-05 - val_mean_absolute_error: 0.0054 - val_mean_squared_error: 7.1312e-05 - val_root_mean_squared_error: 0.0084\n",
            "Epoch 196/300\n",
            "9643/9643 [==============================] - 31s 3ms/step - loss: 5.7155e-05 - mean_absolute_error: 0.0043 - mean_squared_error: 5.7155e-05 - root_mean_squared_error: 0.0076 - val_loss: 5.9978e-05 - val_mean_absolute_error: 0.0041 - val_mean_squared_error: 5.9978e-05 - val_root_mean_squared_error: 0.0077\n",
            "Epoch 197/300\n",
            "9643/9643 [==============================] - 33s 3ms/step - loss: 5.7272e-05 - mean_absolute_error: 0.0044 - mean_squared_error: 5.7272e-05 - root_mean_squared_error: 0.0076 - val_loss: 6.0113e-05 - val_mean_absolute_error: 0.0041 - val_mean_squared_error: 6.0113e-05 - val_root_mean_squared_error: 0.0078\n",
            "Epoch 198/300\n",
            "9643/9643 [==============================] - 32s 3ms/step - loss: 5.7137e-05 - mean_absolute_error: 0.0043 - mean_squared_error: 5.7137e-05 - root_mean_squared_error: 0.0076 - val_loss: 8.4666e-05 - val_mean_absolute_error: 0.0060 - val_mean_squared_error: 8.4666e-05 - val_root_mean_squared_error: 0.0092\n",
            "Epoch 199/300\n",
            "9643/9643 [==============================] - 33s 3ms/step - loss: 5.7265e-05 - mean_absolute_error: 0.0043 - mean_squared_error: 5.7265e-05 - root_mean_squared_error: 0.0076 - val_loss: 6.1384e-05 - val_mean_absolute_error: 0.0043 - val_mean_squared_error: 6.1384e-05 - val_root_mean_squared_error: 0.0078\n",
            "Epoch 200/300\n",
            "9643/9643 [==============================] - 29s 3ms/step - loss: 5.7156e-05 - mean_absolute_error: 0.0043 - mean_squared_error: 5.7156e-05 - root_mean_squared_error: 0.0076 - val_loss: 5.8567e-05 - val_mean_absolute_error: 0.0040 - val_mean_squared_error: 5.8567e-05 - val_root_mean_squared_error: 0.0077\n",
            "Epoch 201/300\n",
            "9643/9643 [==============================] - 32s 3ms/step - loss: 5.7092e-05 - mean_absolute_error: 0.0043 - mean_squared_error: 5.7092e-05 - root_mean_squared_error: 0.0076 - val_loss: 6.2287e-05 - val_mean_absolute_error: 0.0042 - val_mean_squared_error: 6.2287e-05 - val_root_mean_squared_error: 0.0079\n",
            "Epoch 202/300\n",
            "9643/9643 [==============================] - 30s 3ms/step - loss: 5.7283e-05 - mean_absolute_error: 0.0043 - mean_squared_error: 5.7283e-05 - root_mean_squared_error: 0.0076 - val_loss: 6.2680e-05 - val_mean_absolute_error: 0.0041 - val_mean_squared_error: 6.2680e-05 - val_root_mean_squared_error: 0.0079\n",
            "Epoch 203/300\n",
            "9643/9643 [==============================] - 30s 3ms/step - loss: 5.7369e-05 - mean_absolute_error: 0.0043 - mean_squared_error: 5.7369e-05 - root_mean_squared_error: 0.0076 - val_loss: 6.0333e-05 - val_mean_absolute_error: 0.0041 - val_mean_squared_error: 6.0333e-05 - val_root_mean_squared_error: 0.0078\n",
            "Epoch 204/300\n",
            "9643/9643 [==============================] - 31s 3ms/step - loss: 5.7130e-05 - mean_absolute_error: 0.0043 - mean_squared_error: 5.7130e-05 - root_mean_squared_error: 0.0076 - val_loss: 6.0574e-05 - val_mean_absolute_error: 0.0042 - val_mean_squared_error: 6.0574e-05 - val_root_mean_squared_error: 0.0078\n",
            "Epoch 205/300\n",
            "9643/9643 [==============================] - 32s 3ms/step - loss: 5.7496e-05 - mean_absolute_error: 0.0043 - mean_squared_error: 5.7496e-05 - root_mean_squared_error: 0.0076 - val_loss: 5.8778e-05 - val_mean_absolute_error: 0.0041 - val_mean_squared_error: 5.8778e-05 - val_root_mean_squared_error: 0.0077\n",
            "Epoch 206/300\n",
            "9643/9643 [==============================] - 33s 3ms/step - loss: 5.6832e-05 - mean_absolute_error: 0.0043 - mean_squared_error: 5.6832e-05 - root_mean_squared_error: 0.0075 - val_loss: 6.2161e-05 - val_mean_absolute_error: 0.0043 - val_mean_squared_error: 6.2161e-05 - val_root_mean_squared_error: 0.0079\n",
            "Epoch 207/300\n",
            "9643/9643 [==============================] - 30s 3ms/step - loss: 5.6599e-05 - mean_absolute_error: 0.0043 - mean_squared_error: 5.6599e-05 - root_mean_squared_error: 0.0075 - val_loss: 6.2132e-05 - val_mean_absolute_error: 0.0041 - val_mean_squared_error: 6.2132e-05 - val_root_mean_squared_error: 0.0079\n",
            "Epoch 208/300\n",
            "9643/9643 [==============================] - 30s 3ms/step - loss: 5.7255e-05 - mean_absolute_error: 0.0043 - mean_squared_error: 5.7255e-05 - root_mean_squared_error: 0.0076 - val_loss: 6.9283e-05 - val_mean_absolute_error: 0.0048 - val_mean_squared_error: 6.9283e-05 - val_root_mean_squared_error: 0.0083\n",
            "Epoch 209/300\n",
            "9643/9643 [==============================] - 31s 3ms/step - loss: 5.6975e-05 - mean_absolute_error: 0.0043 - mean_squared_error: 5.6975e-05 - root_mean_squared_error: 0.0075 - val_loss: 7.4562e-05 - val_mean_absolute_error: 0.0056 - val_mean_squared_error: 7.4562e-05 - val_root_mean_squared_error: 0.0086\n",
            "Epoch 210/300\n",
            "9643/9643 [==============================] - 32s 3ms/step - loss: 5.6854e-05 - mean_absolute_error: 0.0043 - mean_squared_error: 5.6854e-05 - root_mean_squared_error: 0.0075 - val_loss: 5.9782e-05 - val_mean_absolute_error: 0.0041 - val_mean_squared_error: 5.9782e-05 - val_root_mean_squared_error: 0.0077\n",
            "Epoch 211/300\n",
            "9643/9643 [==============================] - 31s 3ms/step - loss: 5.7112e-05 - mean_absolute_error: 0.0043 - mean_squared_error: 5.7112e-05 - root_mean_squared_error: 0.0076 - val_loss: 6.3891e-05 - val_mean_absolute_error: 0.0047 - val_mean_squared_error: 6.3891e-05 - val_root_mean_squared_error: 0.0080\n",
            "Epoch 212/300\n",
            "9643/9643 [==============================] - 30s 3ms/step - loss: 5.7115e-05 - mean_absolute_error: 0.0043 - mean_squared_error: 5.7115e-05 - root_mean_squared_error: 0.0076 - val_loss: 5.8967e-05 - val_mean_absolute_error: 0.0040 - val_mean_squared_error: 5.8967e-05 - val_root_mean_squared_error: 0.0077\n",
            "Epoch 213/300\n",
            "9643/9643 [==============================] - 32s 3ms/step - loss: 5.7060e-05 - mean_absolute_error: 0.0043 - mean_squared_error: 5.7060e-05 - root_mean_squared_error: 0.0076 - val_loss: 6.1986e-05 - val_mean_absolute_error: 0.0044 - val_mean_squared_error: 6.1986e-05 - val_root_mean_squared_error: 0.0079\n",
            "Epoch 214/300\n",
            "9643/9643 [==============================] - 30s 3ms/step - loss: 5.7165e-05 - mean_absolute_error: 0.0043 - mean_squared_error: 5.7165e-05 - root_mean_squared_error: 0.0076 - val_loss: 5.9773e-05 - val_mean_absolute_error: 0.0041 - val_mean_squared_error: 5.9773e-05 - val_root_mean_squared_error: 0.0077\n",
            "Epoch 215/300\n",
            "9643/9643 [==============================] - 34s 3ms/step - loss: 5.7144e-05 - mean_absolute_error: 0.0044 - mean_squared_error: 5.7144e-05 - root_mean_squared_error: 0.0076 - val_loss: 6.0977e-05 - val_mean_absolute_error: 0.0043 - val_mean_squared_error: 6.0977e-05 - val_root_mean_squared_error: 0.0078\n",
            "Epoch 216/300\n",
            "9643/9643 [==============================] - 30s 3ms/step - loss: 5.6997e-05 - mean_absolute_error: 0.0043 - mean_squared_error: 5.6997e-05 - root_mean_squared_error: 0.0075 - val_loss: 5.8897e-05 - val_mean_absolute_error: 0.0040 - val_mean_squared_error: 5.8897e-05 - val_root_mean_squared_error: 0.0077\n",
            "Epoch 217/300\n",
            "9643/9643 [==============================] - 31s 3ms/step - loss: 5.6813e-05 - mean_absolute_error: 0.0043 - mean_squared_error: 5.6813e-05 - root_mean_squared_error: 0.0075 - val_loss: 6.9239e-05 - val_mean_absolute_error: 0.0047 - val_mean_squared_error: 6.9239e-05 - val_root_mean_squared_error: 0.0083\n",
            "Epoch 218/300\n",
            "9643/9643 [==============================] - 31s 3ms/step - loss: 5.6656e-05 - mean_absolute_error: 0.0043 - mean_squared_error: 5.6656e-05 - root_mean_squared_error: 0.0075 - val_loss: 6.0106e-05 - val_mean_absolute_error: 0.0042 - val_mean_squared_error: 6.0106e-05 - val_root_mean_squared_error: 0.0078\n",
            "Epoch 219/300\n",
            "9643/9643 [==============================] - 30s 3ms/step - loss: 5.6734e-05 - mean_absolute_error: 0.0043 - mean_squared_error: 5.6734e-05 - root_mean_squared_error: 0.0075 - val_loss: 6.4914e-05 - val_mean_absolute_error: 0.0046 - val_mean_squared_error: 6.4914e-05 - val_root_mean_squared_error: 0.0081\n",
            "Epoch 220/300\n",
            "9643/9643 [==============================] - 30s 3ms/step - loss: 5.7073e-05 - mean_absolute_error: 0.0043 - mean_squared_error: 5.7073e-05 - root_mean_squared_error: 0.0076 - val_loss: 6.1025e-05 - val_mean_absolute_error: 0.0041 - val_mean_squared_error: 6.1025e-05 - val_root_mean_squared_error: 0.0078\n",
            "Epoch 221/300\n",
            "9643/9643 [==============================] - 31s 3ms/step - loss: 5.6503e-05 - mean_absolute_error: 0.0043 - mean_squared_error: 5.6503e-05 - root_mean_squared_error: 0.0075 - val_loss: 5.9105e-05 - val_mean_absolute_error: 0.0040 - val_mean_squared_error: 5.9105e-05 - val_root_mean_squared_error: 0.0077\n",
            "Epoch 222/300\n",
            "9643/9643 [==============================] - 30s 3ms/step - loss: 5.6742e-05 - mean_absolute_error: 0.0043 - mean_squared_error: 5.6742e-05 - root_mean_squared_error: 0.0075 - val_loss: 5.8764e-05 - val_mean_absolute_error: 0.0039 - val_mean_squared_error: 5.8764e-05 - val_root_mean_squared_error: 0.0077\n",
            "Epoch 223/300\n",
            "9643/9643 [==============================] - 32s 3ms/step - loss: 5.6610e-05 - mean_absolute_error: 0.0043 - mean_squared_error: 5.6610e-05 - root_mean_squared_error: 0.0075 - val_loss: 5.8988e-05 - val_mean_absolute_error: 0.0041 - val_mean_squared_error: 5.8988e-05 - val_root_mean_squared_error: 0.0077\n",
            "Epoch 224/300\n",
            "9643/9643 [==============================] - 32s 3ms/step - loss: 5.7025e-05 - mean_absolute_error: 0.0043 - mean_squared_error: 5.7025e-05 - root_mean_squared_error: 0.0076 - val_loss: 5.9376e-05 - val_mean_absolute_error: 0.0040 - val_mean_squared_error: 5.9376e-05 - val_root_mean_squared_error: 0.0077\n",
            "Epoch 225/300\n",
            "9643/9643 [==============================] - 34s 4ms/step - loss: 5.6852e-05 - mean_absolute_error: 0.0043 - mean_squared_error: 5.6852e-05 - root_mean_squared_error: 0.0075 - val_loss: 6.0467e-05 - val_mean_absolute_error: 0.0041 - val_mean_squared_error: 6.0467e-05 - val_root_mean_squared_error: 0.0078\n",
            "Epoch 226/300\n",
            "9643/9643 [==============================] - 30s 3ms/step - loss: 5.6758e-05 - mean_absolute_error: 0.0043 - mean_squared_error: 5.6758e-05 - root_mean_squared_error: 0.0075 - val_loss: 6.1844e-05 - val_mean_absolute_error: 0.0044 - val_mean_squared_error: 6.1844e-05 - val_root_mean_squared_error: 0.0079\n",
            "Epoch 227/300\n",
            "9643/9643 [==============================] - 34s 3ms/step - loss: 5.6577e-05 - mean_absolute_error: 0.0043 - mean_squared_error: 5.6577e-05 - root_mean_squared_error: 0.0075 - val_loss: 6.5099e-05 - val_mean_absolute_error: 0.0048 - val_mean_squared_error: 6.5099e-05 - val_root_mean_squared_error: 0.0081\n",
            "Epoch 228/300\n",
            "9643/9643 [==============================] - 32s 3ms/step - loss: 5.7065e-05 - mean_absolute_error: 0.0043 - mean_squared_error: 5.7065e-05 - root_mean_squared_error: 0.0076 - val_loss: 6.0825e-05 - val_mean_absolute_error: 0.0040 - val_mean_squared_error: 6.0825e-05 - val_root_mean_squared_error: 0.0078\n",
            "Epoch 229/300\n",
            "9643/9643 [==============================] - 32s 3ms/step - loss: 5.6882e-05 - mean_absolute_error: 0.0043 - mean_squared_error: 5.6882e-05 - root_mean_squared_error: 0.0075 - val_loss: 6.0240e-05 - val_mean_absolute_error: 0.0041 - val_mean_squared_error: 6.0240e-05 - val_root_mean_squared_error: 0.0078\n",
            "Epoch 230/300\n",
            "9643/9643 [==============================] - 34s 4ms/step - loss: 5.6750e-05 - mean_absolute_error: 0.0043 - mean_squared_error: 5.6750e-05 - root_mean_squared_error: 0.0075 - val_loss: 5.8986e-05 - val_mean_absolute_error: 0.0041 - val_mean_squared_error: 5.8986e-05 - val_root_mean_squared_error: 0.0077\n",
            "Epoch 231/300\n",
            "9643/9643 [==============================] - 32s 3ms/step - loss: 5.6852e-05 - mean_absolute_error: 0.0043 - mean_squared_error: 5.6852e-05 - root_mean_squared_error: 0.0075 - val_loss: 5.9557e-05 - val_mean_absolute_error: 0.0042 - val_mean_squared_error: 5.9557e-05 - val_root_mean_squared_error: 0.0077\n",
            "Epoch 232/300\n",
            "9643/9643 [==============================] - 34s 4ms/step - loss: 5.6293e-05 - mean_absolute_error: 0.0043 - mean_squared_error: 5.6293e-05 - root_mean_squared_error: 0.0075 - val_loss: 7.2564e-05 - val_mean_absolute_error: 0.0053 - val_mean_squared_error: 7.2564e-05 - val_root_mean_squared_error: 0.0085\n",
            "Epoch 233/300\n",
            "9643/9643 [==============================] - 32s 3ms/step - loss: 5.6385e-05 - mean_absolute_error: 0.0043 - mean_squared_error: 5.6385e-05 - root_mean_squared_error: 0.0075 - val_loss: 7.6084e-05 - val_mean_absolute_error: 0.0057 - val_mean_squared_error: 7.6084e-05 - val_root_mean_squared_error: 0.0087\n",
            "Epoch 234/300\n",
            "9643/9643 [==============================] - 34s 4ms/step - loss: 5.6559e-05 - mean_absolute_error: 0.0043 - mean_squared_error: 5.6559e-05 - root_mean_squared_error: 0.0075 - val_loss: 5.8904e-05 - val_mean_absolute_error: 0.0040 - val_mean_squared_error: 5.8904e-05 - val_root_mean_squared_error: 0.0077\n",
            "Epoch 235/300\n",
            "9643/9643 [==============================] - 30s 3ms/step - loss: 5.6534e-05 - mean_absolute_error: 0.0043 - mean_squared_error: 5.6534e-05 - root_mean_squared_error: 0.0075 - val_loss: 5.8946e-05 - val_mean_absolute_error: 0.0040 - val_mean_squared_error: 5.8946e-05 - val_root_mean_squared_error: 0.0077\n",
            "Epoch 236/300\n",
            "9643/9643 [==============================] - 34s 4ms/step - loss: 5.6655e-05 - mean_absolute_error: 0.0043 - mean_squared_error: 5.6655e-05 - root_mean_squared_error: 0.0075 - val_loss: 7.9531e-05 - val_mean_absolute_error: 0.0059 - val_mean_squared_error: 7.9531e-05 - val_root_mean_squared_error: 0.0089\n",
            "Epoch 237/300\n",
            "9643/9643 [==============================] - 30s 3ms/step - loss: 5.6833e-05 - mean_absolute_error: 0.0043 - mean_squared_error: 5.6833e-05 - root_mean_squared_error: 0.0075 - val_loss: 7.7042e-05 - val_mean_absolute_error: 0.0059 - val_mean_squared_error: 7.7042e-05 - val_root_mean_squared_error: 0.0088\n",
            "Epoch 238/300\n",
            "9643/9643 [==============================] - 32s 3ms/step - loss: 5.6603e-05 - mean_absolute_error: 0.0043 - mean_squared_error: 5.6603e-05 - root_mean_squared_error: 0.0075 - val_loss: 5.9751e-05 - val_mean_absolute_error: 0.0041 - val_mean_squared_error: 5.9751e-05 - val_root_mean_squared_error: 0.0077\n",
            "Epoch 239/300\n",
            "9643/9643 [==============================] - 34s 4ms/step - loss: 5.6907e-05 - mean_absolute_error: 0.0043 - mean_squared_error: 5.6907e-05 - root_mean_squared_error: 0.0075 - val_loss: 6.0342e-05 - val_mean_absolute_error: 0.0042 - val_mean_squared_error: 6.0342e-05 - val_root_mean_squared_error: 0.0078\n",
            "Epoch 240/300\n",
            "9643/9643 [==============================] - 30s 3ms/step - loss: 5.6547e-05 - mean_absolute_error: 0.0043 - mean_squared_error: 5.6547e-05 - root_mean_squared_error: 0.0075 - val_loss: 5.8094e-05 - val_mean_absolute_error: 0.0040 - val_mean_squared_error: 5.8094e-05 - val_root_mean_squared_error: 0.0076\n",
            "Epoch 241/300\n",
            "9643/9643 [==============================] - 34s 4ms/step - loss: 5.6682e-05 - mean_absolute_error: 0.0043 - mean_squared_error: 5.6682e-05 - root_mean_squared_error: 0.0075 - val_loss: 6.1866e-05 - val_mean_absolute_error: 0.0044 - val_mean_squared_error: 6.1866e-05 - val_root_mean_squared_error: 0.0079\n",
            "Epoch 242/300\n",
            "9643/9643 [==============================] - 33s 3ms/step - loss: 5.6511e-05 - mean_absolute_error: 0.0043 - mean_squared_error: 5.6511e-05 - root_mean_squared_error: 0.0075 - val_loss: 6.4470e-05 - val_mean_absolute_error: 0.0046 - val_mean_squared_error: 6.4470e-05 - val_root_mean_squared_error: 0.0080\n",
            "Epoch 243/300\n",
            "9643/9643 [==============================] - 32s 3ms/step - loss: 5.6381e-05 - mean_absolute_error: 0.0043 - mean_squared_error: 5.6381e-05 - root_mean_squared_error: 0.0075 - val_loss: 6.3346e-05 - val_mean_absolute_error: 0.0045 - val_mean_squared_error: 6.3346e-05 - val_root_mean_squared_error: 0.0080\n",
            "Epoch 244/300\n",
            "9643/9643 [==============================] - 30s 3ms/step - loss: 5.6564e-05 - mean_absolute_error: 0.0043 - mean_squared_error: 5.6564e-05 - root_mean_squared_error: 0.0075 - val_loss: 5.9093e-05 - val_mean_absolute_error: 0.0040 - val_mean_squared_error: 5.9093e-05 - val_root_mean_squared_error: 0.0077\n",
            "Epoch 245/300\n",
            "9643/9643 [==============================] - 34s 4ms/step - loss: 5.6360e-05 - mean_absolute_error: 0.0043 - mean_squared_error: 5.6360e-05 - root_mean_squared_error: 0.0075 - val_loss: 6.5802e-05 - val_mean_absolute_error: 0.0047 - val_mean_squared_error: 6.5802e-05 - val_root_mean_squared_error: 0.0081\n",
            "Epoch 246/300\n",
            "9643/9643 [==============================] - 30s 3ms/step - loss: 5.6392e-05 - mean_absolute_error: 0.0043 - mean_squared_error: 5.6392e-05 - root_mean_squared_error: 0.0075 - val_loss: 6.0874e-05 - val_mean_absolute_error: 0.0042 - val_mean_squared_error: 6.0874e-05 - val_root_mean_squared_error: 0.0078\n",
            "Epoch 247/300\n",
            "9643/9643 [==============================] - 34s 4ms/step - loss: 5.6332e-05 - mean_absolute_error: 0.0043 - mean_squared_error: 5.6332e-05 - root_mean_squared_error: 0.0075 - val_loss: 5.9684e-05 - val_mean_absolute_error: 0.0040 - val_mean_squared_error: 5.9684e-05 - val_root_mean_squared_error: 0.0077\n",
            "Epoch 248/300\n",
            "9643/9643 [==============================] - 32s 3ms/step - loss: 5.6441e-05 - mean_absolute_error: 0.0043 - mean_squared_error: 5.6441e-05 - root_mean_squared_error: 0.0075 - val_loss: 5.8993e-05 - val_mean_absolute_error: 0.0040 - val_mean_squared_error: 5.8993e-05 - val_root_mean_squared_error: 0.0077\n",
            "Epoch 249/300\n",
            "9643/9643 [==============================] - 33s 3ms/step - loss: 5.6205e-05 - mean_absolute_error: 0.0043 - mean_squared_error: 5.6205e-05 - root_mean_squared_error: 0.0075 - val_loss: 5.9183e-05 - val_mean_absolute_error: 0.0040 - val_mean_squared_error: 5.9183e-05 - val_root_mean_squared_error: 0.0077\n",
            "Epoch 250/300\n",
            "9643/9643 [==============================] - 34s 4ms/step - loss: 5.6666e-05 - mean_absolute_error: 0.0043 - mean_squared_error: 5.6666e-05 - root_mean_squared_error: 0.0075 - val_loss: 6.1514e-05 - val_mean_absolute_error: 0.0044 - val_mean_squared_error: 6.1514e-05 - val_root_mean_squared_error: 0.0078\n",
            "Epoch 251/300\n",
            "9643/9643 [==============================] - 31s 3ms/step - loss: 5.6386e-05 - mean_absolute_error: 0.0043 - mean_squared_error: 5.6386e-05 - root_mean_squared_error: 0.0075 - val_loss: 6.4432e-05 - val_mean_absolute_error: 0.0046 - val_mean_squared_error: 6.4432e-05 - val_root_mean_squared_error: 0.0080\n",
            "Epoch 252/300\n",
            "9643/9643 [==============================] - 32s 3ms/step - loss: 5.6464e-05 - mean_absolute_error: 0.0043 - mean_squared_error: 5.6464e-05 - root_mean_squared_error: 0.0075 - val_loss: 6.1050e-05 - val_mean_absolute_error: 0.0041 - val_mean_squared_error: 6.1050e-05 - val_root_mean_squared_error: 0.0078\n",
            "Epoch 253/300\n",
            "9643/9643 [==============================] - 31s 3ms/step - loss: 5.6265e-05 - mean_absolute_error: 0.0043 - mean_squared_error: 5.6265e-05 - root_mean_squared_error: 0.0075 - val_loss: 6.5419e-05 - val_mean_absolute_error: 0.0048 - val_mean_squared_error: 6.5419e-05 - val_root_mean_squared_error: 0.0081\n",
            "Epoch 254/300\n",
            "9643/9643 [==============================] - 34s 4ms/step - loss: 5.6399e-05 - mean_absolute_error: 0.0043 - mean_squared_error: 5.6399e-05 - root_mean_squared_error: 0.0075 - val_loss: 6.0639e-05 - val_mean_absolute_error: 0.0041 - val_mean_squared_error: 6.0639e-05 - val_root_mean_squared_error: 0.0078\n",
            "Epoch 255/300\n",
            "9643/9643 [==============================] - 31s 3ms/step - loss: 5.6462e-05 - mean_absolute_error: 0.0043 - mean_squared_error: 5.6462e-05 - root_mean_squared_error: 0.0075 - val_loss: 6.0210e-05 - val_mean_absolute_error: 0.0042 - val_mean_squared_error: 6.0210e-05 - val_root_mean_squared_error: 0.0078\n",
            "Epoch 256/300\n",
            "9643/9643 [==============================] - 34s 4ms/step - loss: 5.6147e-05 - mean_absolute_error: 0.0043 - mean_squared_error: 5.6147e-05 - root_mean_squared_error: 0.0075 - val_loss: 5.8936e-05 - val_mean_absolute_error: 0.0040 - val_mean_squared_error: 5.8936e-05 - val_root_mean_squared_error: 0.0077\n",
            "Epoch 257/300\n",
            "9643/9643 [==============================] - 33s 3ms/step - loss: 5.6453e-05 - mean_absolute_error: 0.0043 - mean_squared_error: 5.6453e-05 - root_mean_squared_error: 0.0075 - val_loss: 6.3633e-05 - val_mean_absolute_error: 0.0045 - val_mean_squared_error: 6.3633e-05 - val_root_mean_squared_error: 0.0080\n",
            "Epoch 258/300\n",
            "9643/9643 [==============================] - 34s 4ms/step - loss: 5.6027e-05 - mean_absolute_error: 0.0043 - mean_squared_error: 5.6027e-05 - root_mean_squared_error: 0.0075 - val_loss: 5.9025e-05 - val_mean_absolute_error: 0.0041 - val_mean_squared_error: 5.9025e-05 - val_root_mean_squared_error: 0.0077\n",
            "Epoch 259/300\n",
            "9643/9643 [==============================] - 32s 3ms/step - loss: 5.6179e-05 - mean_absolute_error: 0.0043 - mean_squared_error: 5.6179e-05 - root_mean_squared_error: 0.0075 - val_loss: 6.8472e-05 - val_mean_absolute_error: 0.0050 - val_mean_squared_error: 6.8472e-05 - val_root_mean_squared_error: 0.0083\n",
            "Epoch 260/300\n",
            "9643/9643 [==============================] - 31s 3ms/step - loss: 5.6553e-05 - mean_absolute_error: 0.0043 - mean_squared_error: 5.6553e-05 - root_mean_squared_error: 0.0075 - val_loss: 6.2579e-05 - val_mean_absolute_error: 0.0044 - val_mean_squared_error: 6.2579e-05 - val_root_mean_squared_error: 0.0079\n",
            "Epoch 261/300\n",
            "9643/9643 [==============================] - 32s 3ms/step - loss: 5.6107e-05 - mean_absolute_error: 0.0043 - mean_squared_error: 5.6107e-05 - root_mean_squared_error: 0.0075 - val_loss: 5.9565e-05 - val_mean_absolute_error: 0.0040 - val_mean_squared_error: 5.9565e-05 - val_root_mean_squared_error: 0.0077\n",
            "Epoch 262/300\n",
            "9643/9643 [==============================] - 32s 3ms/step - loss: 5.6038e-05 - mean_absolute_error: 0.0043 - mean_squared_error: 5.6038e-05 - root_mean_squared_error: 0.0075 - val_loss: 6.1204e-05 - val_mean_absolute_error: 0.0040 - val_mean_squared_error: 6.1204e-05 - val_root_mean_squared_error: 0.0078\n",
            "Epoch 263/300\n",
            "9643/9643 [==============================] - 33s 3ms/step - loss: 5.6405e-05 - mean_absolute_error: 0.0043 - mean_squared_error: 5.6405e-05 - root_mean_squared_error: 0.0075 - val_loss: 6.1735e-05 - val_mean_absolute_error: 0.0044 - val_mean_squared_error: 6.1735e-05 - val_root_mean_squared_error: 0.0079\n",
            "Epoch 264/300\n",
            "9643/9643 [==============================] - 31s 3ms/step - loss: 5.6211e-05 - mean_absolute_error: 0.0043 - mean_squared_error: 5.6211e-05 - root_mean_squared_error: 0.0075 - val_loss: 6.4235e-05 - val_mean_absolute_error: 0.0045 - val_mean_squared_error: 6.4235e-05 - val_root_mean_squared_error: 0.0080\n",
            "Epoch 265/300\n",
            "9643/9643 [==============================] - 34s 3ms/step - loss: 5.6319e-05 - mean_absolute_error: 0.0043 - mean_squared_error: 5.6319e-05 - root_mean_squared_error: 0.0075 - val_loss: 5.9401e-05 - val_mean_absolute_error: 0.0040 - val_mean_squared_error: 5.9401e-05 - val_root_mean_squared_error: 0.0077\n",
            "Epoch 266/300\n",
            "9643/9643 [==============================] - 31s 3ms/step - loss: 5.6090e-05 - mean_absolute_error: 0.0043 - mean_squared_error: 5.6090e-05 - root_mean_squared_error: 0.0075 - val_loss: 5.7925e-05 - val_mean_absolute_error: 0.0039 - val_mean_squared_error: 5.7925e-05 - val_root_mean_squared_error: 0.0076\n",
            "Epoch 267/300\n",
            "9643/9643 [==============================] - 33s 3ms/step - loss: 5.6065e-05 - mean_absolute_error: 0.0043 - mean_squared_error: 5.6065e-05 - root_mean_squared_error: 0.0075 - val_loss: 6.3311e-05 - val_mean_absolute_error: 0.0044 - val_mean_squared_error: 6.3311e-05 - val_root_mean_squared_error: 0.0080\n",
            "Epoch 268/300\n",
            "9643/9643 [==============================] - 32s 3ms/step - loss: 5.6112e-05 - mean_absolute_error: 0.0043 - mean_squared_error: 5.6112e-05 - root_mean_squared_error: 0.0075 - val_loss: 5.8932e-05 - val_mean_absolute_error: 0.0041 - val_mean_squared_error: 5.8932e-05 - val_root_mean_squared_error: 0.0077\n",
            "Epoch 269/300\n",
            "9643/9643 [==============================] - 34s 4ms/step - loss: 5.6031e-05 - mean_absolute_error: 0.0043 - mean_squared_error: 5.6031e-05 - root_mean_squared_error: 0.0075 - val_loss: 6.4283e-05 - val_mean_absolute_error: 0.0047 - val_mean_squared_error: 6.4283e-05 - val_root_mean_squared_error: 0.0080\n",
            "Epoch 270/300\n",
            "9643/9643 [==============================] - 32s 3ms/step - loss: 5.6260e-05 - mean_absolute_error: 0.0043 - mean_squared_error: 5.6260e-05 - root_mean_squared_error: 0.0075 - val_loss: 5.9999e-05 - val_mean_absolute_error: 0.0041 - val_mean_squared_error: 5.9999e-05 - val_root_mean_squared_error: 0.0077\n",
            "Epoch 271/300\n",
            "9643/9643 [==============================] - 32s 3ms/step - loss: 5.6060e-05 - mean_absolute_error: 0.0043 - mean_squared_error: 5.6060e-05 - root_mean_squared_error: 0.0075 - val_loss: 5.8849e-05 - val_mean_absolute_error: 0.0042 - val_mean_squared_error: 5.8849e-05 - val_root_mean_squared_error: 0.0077\n",
            "Epoch 272/300\n",
            "9643/9643 [==============================] - 33s 3ms/step - loss: 5.5906e-05 - mean_absolute_error: 0.0043 - mean_squared_error: 5.5906e-05 - root_mean_squared_error: 0.0075 - val_loss: 6.2946e-05 - val_mean_absolute_error: 0.0044 - val_mean_squared_error: 6.2946e-05 - val_root_mean_squared_error: 0.0079\n",
            "Epoch 273/300\n",
            "9643/9643 [==============================] - 32s 3ms/step - loss: 5.6252e-05 - mean_absolute_error: 0.0043 - mean_squared_error: 5.6252e-05 - root_mean_squared_error: 0.0075 - val_loss: 6.5141e-05 - val_mean_absolute_error: 0.0048 - val_mean_squared_error: 6.5141e-05 - val_root_mean_squared_error: 0.0081\n",
            "Epoch 274/300\n",
            "9643/9643 [==============================] - 33s 3ms/step - loss: 5.5898e-05 - mean_absolute_error: 0.0043 - mean_squared_error: 5.5898e-05 - root_mean_squared_error: 0.0075 - val_loss: 6.3146e-05 - val_mean_absolute_error: 0.0046 - val_mean_squared_error: 6.3146e-05 - val_root_mean_squared_error: 0.0079\n",
            "Epoch 275/300\n",
            "9643/9643 [==============================] - 34s 4ms/step - loss: 5.5595e-05 - mean_absolute_error: 0.0042 - mean_squared_error: 5.5595e-05 - root_mean_squared_error: 0.0075 - val_loss: 6.7042e-05 - val_mean_absolute_error: 0.0049 - val_mean_squared_error: 6.7042e-05 - val_root_mean_squared_error: 0.0082\n",
            "Epoch 276/300\n",
            "9643/9643 [==============================] - 31s 3ms/step - loss: 5.6349e-05 - mean_absolute_error: 0.0043 - mean_squared_error: 5.6349e-05 - root_mean_squared_error: 0.0075 - val_loss: 5.8581e-05 - val_mean_absolute_error: 0.0040 - val_mean_squared_error: 5.8581e-05 - val_root_mean_squared_error: 0.0077\n",
            "Epoch 277/300\n",
            "9643/9643 [==============================] - 32s 3ms/step - loss: 5.6264e-05 - mean_absolute_error: 0.0043 - mean_squared_error: 5.6264e-05 - root_mean_squared_error: 0.0075 - val_loss: 5.9465e-05 - val_mean_absolute_error: 0.0041 - val_mean_squared_error: 5.9465e-05 - val_root_mean_squared_error: 0.0077\n",
            "Epoch 278/300\n",
            "9643/9643 [==============================] - 31s 3ms/step - loss: 5.5745e-05 - mean_absolute_error: 0.0043 - mean_squared_error: 5.5745e-05 - root_mean_squared_error: 0.0075 - val_loss: 5.7334e-05 - val_mean_absolute_error: 0.0039 - val_mean_squared_error: 5.7334e-05 - val_root_mean_squared_error: 0.0076\n",
            "Epoch 279/300\n",
            "9643/9643 [==============================] - 32s 3ms/step - loss: 5.5702e-05 - mean_absolute_error: 0.0042 - mean_squared_error: 5.5702e-05 - root_mean_squared_error: 0.0075 - val_loss: 6.5983e-05 - val_mean_absolute_error: 0.0046 - val_mean_squared_error: 6.5983e-05 - val_root_mean_squared_error: 0.0081\n",
            "Epoch 280/300\n",
            "9643/9643 [==============================] - 35s 4ms/step - loss: 5.6013e-05 - mean_absolute_error: 0.0043 - mean_squared_error: 5.6013e-05 - root_mean_squared_error: 0.0075 - val_loss: 6.0853e-05 - val_mean_absolute_error: 0.0040 - val_mean_squared_error: 6.0853e-05 - val_root_mean_squared_error: 0.0078\n",
            "Epoch 281/300\n",
            "9643/9643 [==============================] - 33s 3ms/step - loss: 5.5941e-05 - mean_absolute_error: 0.0043 - mean_squared_error: 5.5941e-05 - root_mean_squared_error: 0.0075 - val_loss: 5.8140e-05 - val_mean_absolute_error: 0.0040 - val_mean_squared_error: 5.8140e-05 - val_root_mean_squared_error: 0.0076\n",
            "Epoch 282/300\n",
            "9643/9643 [==============================] - 34s 4ms/step - loss: 5.5956e-05 - mean_absolute_error: 0.0043 - mean_squared_error: 5.5956e-05 - root_mean_squared_error: 0.0075 - val_loss: 6.1399e-05 - val_mean_absolute_error: 0.0045 - val_mean_squared_error: 6.1399e-05 - val_root_mean_squared_error: 0.0078\n",
            "Epoch 283/300\n",
            "9643/9643 [==============================] - 33s 3ms/step - loss: 5.5938e-05 - mean_absolute_error: 0.0043 - mean_squared_error: 5.5938e-05 - root_mean_squared_error: 0.0075 - val_loss: 5.7684e-05 - val_mean_absolute_error: 0.0039 - val_mean_squared_error: 5.7684e-05 - val_root_mean_squared_error: 0.0076\n",
            "Epoch 284/300\n",
            "9643/9643 [==============================] - 34s 4ms/step - loss: 5.5744e-05 - mean_absolute_error: 0.0043 - mean_squared_error: 5.5744e-05 - root_mean_squared_error: 0.0075 - val_loss: 7.0962e-05 - val_mean_absolute_error: 0.0050 - val_mean_squared_error: 7.0962e-05 - val_root_mean_squared_error: 0.0084\n",
            "Epoch 285/300\n",
            "9643/9643 [==============================] - 34s 3ms/step - loss: 5.5732e-05 - mean_absolute_error: 0.0043 - mean_squared_error: 5.5732e-05 - root_mean_squared_error: 0.0075 - val_loss: 7.3638e-05 - val_mean_absolute_error: 0.0050 - val_mean_squared_error: 7.3638e-05 - val_root_mean_squared_error: 0.0086\n",
            "Epoch 286/300\n",
            "9643/9643 [==============================] - 32s 3ms/step - loss: 5.6021e-05 - mean_absolute_error: 0.0043 - mean_squared_error: 5.6021e-05 - root_mean_squared_error: 0.0075 - val_loss: 5.9261e-05 - val_mean_absolute_error: 0.0041 - val_mean_squared_error: 5.9261e-05 - val_root_mean_squared_error: 0.0077\n",
            "Epoch 287/300\n",
            "9643/9643 [==============================] - 32s 3ms/step - loss: 5.5959e-05 - mean_absolute_error: 0.0043 - mean_squared_error: 5.5959e-05 - root_mean_squared_error: 0.0075 - val_loss: 5.9481e-05 - val_mean_absolute_error: 0.0040 - val_mean_squared_error: 5.9481e-05 - val_root_mean_squared_error: 0.0077\n",
            "Epoch 288/300\n",
            "9643/9643 [==============================] - 35s 4ms/step - loss: 5.5933e-05 - mean_absolute_error: 0.0043 - mean_squared_error: 5.5933e-05 - root_mean_squared_error: 0.0075 - val_loss: 6.1979e-05 - val_mean_absolute_error: 0.0044 - val_mean_squared_error: 6.1979e-05 - val_root_mean_squared_error: 0.0079\n",
            "Epoch 289/300\n",
            "9643/9643 [==============================] - 35s 4ms/step - loss: 5.6366e-05 - mean_absolute_error: 0.0043 - mean_squared_error: 5.6366e-05 - root_mean_squared_error: 0.0075 - val_loss: 5.9468e-05 - val_mean_absolute_error: 0.0039 - val_mean_squared_error: 5.9468e-05 - val_root_mean_squared_error: 0.0077\n",
            "Epoch 290/300\n",
            "9643/9643 [==============================] - 32s 3ms/step - loss: 5.5773e-05 - mean_absolute_error: 0.0043 - mean_squared_error: 5.5773e-05 - root_mean_squared_error: 0.0075 - val_loss: 6.7342e-05 - val_mean_absolute_error: 0.0048 - val_mean_squared_error: 6.7342e-05 - val_root_mean_squared_error: 0.0082\n",
            "Epoch 291/300\n",
            "9643/9643 [==============================] - 34s 4ms/step - loss: 5.5614e-05 - mean_absolute_error: 0.0042 - mean_squared_error: 5.5614e-05 - root_mean_squared_error: 0.0075 - val_loss: 5.9083e-05 - val_mean_absolute_error: 0.0039 - val_mean_squared_error: 5.9083e-05 - val_root_mean_squared_error: 0.0077\n",
            "Epoch 292/300\n",
            "9643/9643 [==============================] - 34s 4ms/step - loss: 5.5805e-05 - mean_absolute_error: 0.0043 - mean_squared_error: 5.5805e-05 - root_mean_squared_error: 0.0075 - val_loss: 5.6889e-05 - val_mean_absolute_error: 0.0039 - val_mean_squared_error: 5.6889e-05 - val_root_mean_squared_error: 0.0075\n",
            "Epoch 293/300\n",
            "9643/9643 [==============================] - 34s 4ms/step - loss: 5.5718e-05 - mean_absolute_error: 0.0042 - mean_squared_error: 5.5718e-05 - root_mean_squared_error: 0.0075 - val_loss: 7.0502e-05 - val_mean_absolute_error: 0.0052 - val_mean_squared_error: 7.0502e-05 - val_root_mean_squared_error: 0.0084\n",
            "Epoch 294/300\n",
            "9643/9643 [==============================] - 32s 3ms/step - loss: 5.5600e-05 - mean_absolute_error: 0.0042 - mean_squared_error: 5.5600e-05 - root_mean_squared_error: 0.0075 - val_loss: 5.8231e-05 - val_mean_absolute_error: 0.0040 - val_mean_squared_error: 5.8231e-05 - val_root_mean_squared_error: 0.0076\n",
            "Epoch 295/300\n",
            "9643/9643 [==============================] - 34s 4ms/step - loss: 5.5834e-05 - mean_absolute_error: 0.0043 - mean_squared_error: 5.5834e-05 - root_mean_squared_error: 0.0075 - val_loss: 6.0767e-05 - val_mean_absolute_error: 0.0043 - val_mean_squared_error: 6.0767e-05 - val_root_mean_squared_error: 0.0078\n",
            "Epoch 296/300\n",
            "9643/9643 [==============================] - 34s 4ms/step - loss: 5.5627e-05 - mean_absolute_error: 0.0042 - mean_squared_error: 5.5627e-05 - root_mean_squared_error: 0.0075 - val_loss: 5.8142e-05 - val_mean_absolute_error: 0.0040 - val_mean_squared_error: 5.8142e-05 - val_root_mean_squared_error: 0.0076\n",
            "Epoch 297/300\n",
            "9643/9643 [==============================] - 34s 4ms/step - loss: 5.5687e-05 - mean_absolute_error: 0.0042 - mean_squared_error: 5.5687e-05 - root_mean_squared_error: 0.0075 - val_loss: 6.1425e-05 - val_mean_absolute_error: 0.0043 - val_mean_squared_error: 6.1425e-05 - val_root_mean_squared_error: 0.0078\n",
            "Epoch 298/300\n",
            "9643/9643 [==============================] - 32s 3ms/step - loss: 5.5376e-05 - mean_absolute_error: 0.0042 - mean_squared_error: 5.5376e-05 - root_mean_squared_error: 0.0074 - val_loss: 6.7479e-05 - val_mean_absolute_error: 0.0049 - val_mean_squared_error: 6.7479e-05 - val_root_mean_squared_error: 0.0082\n",
            "Epoch 299/300\n",
            "9643/9643 [==============================] - 36s 4ms/step - loss: 5.5959e-05 - mean_absolute_error: 0.0043 - mean_squared_error: 5.5959e-05 - root_mean_squared_error: 0.0075 - val_loss: 6.4907e-05 - val_mean_absolute_error: 0.0044 - val_mean_squared_error: 6.4907e-05 - val_root_mean_squared_error: 0.0081\n",
            "Epoch 300/300\n",
            "9643/9643 [==============================] - 31s 3ms/step - loss: 5.5500e-05 - mean_absolute_error: 0.0042 - mean_squared_error: 5.5500e-05 - root_mean_squared_error: 0.0074 - val_loss: 6.9393e-05 - val_mean_absolute_error: 0.0049 - val_mean_squared_error: 6.9393e-05 - val_root_mean_squared_error: 0.0083\n",
            "CPU times: user 2h 46min 38s, sys: 14min 36s, total: 3h 1min 14s\n",
            "Wall time: 2h 35min 22s\n"
          ],
          "name": "stdout"
        }
      ]
    },
    {
      "cell_type": "code",
      "metadata": {
        "colab": {
          "base_uri": "https://localhost:8080/"
        },
        "id": "HHhURX-sGLrU",
        "outputId": "a1223073-4ae3-49f8-b049-cd77a3622094"
      },
      "source": [
        "test_results = {}\n",
        "test_results['(64,64)_train'] = dnn_model.evaluate(train_inputs, train_outputs)\n",
        "test_results['(64,64)_val'] = dnn_model.evaluate(val_inputs, val_outputs) \n",
        "test_results['(64,64)_val'] = dnn_model.evaluate(test_inputs, test_outputs) "
      ],
      "execution_count": 9,
      "outputs": [
        {
          "output_type": "stream",
          "text": [
            "12054/12054 [==============================] - 24s 2ms/step - loss: 6.4370e-05 - mean_absolute_error: 0.0049 - mean_squared_error: 6.4370e-05 - root_mean_squared_error: 0.0080\n",
            "4018/4018 [==============================] - 8s 2ms/step - loss: 6.6216e-05 - mean_absolute_error: 0.0049 - mean_squared_error: 6.6216e-05 - root_mean_squared_error: 0.0081\n",
            "4018/4018 [==============================] - 8s 2ms/step - loss: 6.9039e-05 - mean_absolute_error: 0.0050 - mean_squared_error: 6.9039e-05 - root_mean_squared_error: 0.0083\n"
          ],
          "name": "stdout"
        }
      ]
    },
    {
      "cell_type": "code",
      "metadata": {
        "colab": {
          "base_uri": "https://localhost:8080/",
          "height": 279
        },
        "id": "uA14OS1gJzOF",
        "outputId": "185da4e2-a97c-47bd-f8d4-1698b71df5c0"
      },
      "source": [
        "def plot_loss(history):\n",
        "  plt.plot(history.history['loss'], label='loss')\n",
        "  plt.plot(history.history['val_loss'], label='val_loss')\n",
        "  plt.ylim(0,0.001)\n",
        "  plt.xlabel('Epoch')\n",
        "  plt.ylabel('Error')\n",
        "  plt.legend()\n",
        "  plt.grid(True)\n",
        "  \n",
        "plot_loss(history)"
      ],
      "execution_count": 9,
      "outputs": [
        {
          "output_type": "display_data",
          "data": {
            "image/png": "[encoded data removed]",
            "text/plain": [
              "<Figure size 432x288 with 1 Axes>"
            ]
          },
          "metadata": {
            "tags": [],
            "needs_background": "light"
          }
        }
      ]
    },
    {
      "cell_type": "code",
      "metadata": {
        "colab": {
          "base_uri": "https://localhost:8080/",
          "height": 330
        },
        "id": "aJeaKuAQSGT4",
        "outputId": "768313cc-4def-4b19-c6d4-74cf336554fc"
      },
      "source": [
        "test_predictions = dnn_model.predict(test_inputs).flatten()\n",
        "\n",
        "count = 0\n",
        "ind = 0\n",
        "for o in test_predictions:\n",
        "  if float(o) < 7.3 or float(o) > 8.5:\n",
        "    count += 1\n",
        "    print(ind)\n",
        "  ind += 1\n",
        "display(count)\n",
        "\n",
        "\n",
        "ax = plt.axes(aspect='equal')\n",
        "\n",
        "plt.scatter(test_outputs, test_predictions)\n",
        "\n",
        "lims = [\n",
        "    np.min([ax.get_xlim(), ax.get_ylim()]),  # min of both axes\n",
        "    np.max([ax.get_xlim(), ax.get_ylim()]),  # max of both axes\n",
        "]\n",
        "plt.ylim(lims)\n",
        "plt.xlim(lims)\n",
        "plt.plot(lims,lims, color='black')\n",
        "\n",
        "plt.title('pH Predictions vs Observations')\n",
        "plt.xlabel('True Values pH')\n",
        "plt.ylabel('Predictions pH')\n",
        "\n",
        "plt.show()"
      ],
      "execution_count": 10,
      "outputs": [
        {
          "output_type": "stream",
          "text": [
            "120699\n"
          ],
          "name": "stdout"
        },
        {
          "output_type": "display_data",
          "data": {
            "text/plain": [
              "1"
            ]
          },
          "metadata": {
            "tags": []
          }
        },
        {
          "output_type": "display_data",
          "data": {
            "image/png": "[encoded data removed]",
            "text/plain": [
              "<Figure size 432x288 with 1 Axes>"
            ]
          },
          "metadata": {
            "tags": [],
            "needs_background": "light"
          }
        }
      ]
    },
    {
      "cell_type": "code",
      "metadata": {
        "colab": {
          "base_uri": "https://localhost:8080/"
        },
        "id": "FD7mfQzzvf7i",
        "outputId": "b5a1b399-8664-4799-dce2-d477b3ab9eba"
      },
      "source": [
        "dnn_model.save(model_dir+'DNN(64,64,64,64)mse')"
      ],
      "execution_count": 12,
      "outputs": [
        {
          "output_type": "stream",
          "text": [
            "INFO:tensorflow:Assets written to: /content/drive/MyDrive/Adam Gibbs/data/models/DNN(64,64,64,64)mse/assets\n"
          ],
          "name": "stdout"
        }
      ]
    }
  ]
}