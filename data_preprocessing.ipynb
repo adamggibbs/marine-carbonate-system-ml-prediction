{
  "nbformat": 4,
  "nbformat_minor": 0,
  "metadata": {
    "colab": {
      "name": "data_preprocessing.ipynb",
      "provenance": [],
      "include_colab_link": true
    },
    "kernelspec": {
      "name": "python3",
      "display_name": "Python 3"
    },
    "language_info": {
      "name": "python"
    }
  },
  "cells": [
    {
      "cell_type": "markdown",
      "metadata": {
        "id": "view-in-github",
        "colab_type": "text"
      },
      "source": [
        "<a href=\"https://colab.research.google.com/github/adamggibbs/marine-carbonate-system-ml-prediction/blob/master/data_preprocessing.ipynb\" target=\"_parent\"><img src=\"https://colab.research.google.com/assets/colab-badge.svg\" alt=\"Open In Colab\"/></a>"
      ]
    },
    {
      "cell_type": "code",
      "metadata": {
        "colab": {
          "base_uri": "https://localhost:8080/"
        },
        "id": "eeMV7Gxp4mCu",
        "outputId": "312583a1-5aeb-483d-ac73-3710935c9e0a"
      },
      "source": [
        "from google.colab import drive\n",
        "\n",
        "drive.mount('/content/drive', force_remount=True)"
      ],
      "execution_count": null,
      "outputs": [
        {
          "output_type": "stream",
          "text": [
            "Mounted at /content/drive\n"
          ],
          "name": "stdout"
        }
      ]
    },
    {
      "cell_type": "code",
      "metadata": {
        "id": "gDzyo-r943RF"
      },
      "source": [
        "# IMPORTS\n",
        "\n",
        "import os\n",
        "import math\n",
        "\n",
        "import numpy as np\n",
        "import pandas as pd\n",
        "import matplotlib.pyplot as plt\n",
        "\n",
        "# data dirs\n",
        "data_dir = '/content/drive/MyDrive/Adam Gibbs/data/'\n",
        "training_dir=data_dir + 'training/'\n",
        "\n",
        "dyear = True\n",
        "w_pres = True"
      ],
      "execution_count": null,
      "outputs": []
    },
    {
      "cell_type": "code",
      "metadata": {
        "colab": {
          "base_uri": "https://localhost:8080/",
          "height": 791
        },
        "id": "LEBdrOQg5aPl",
        "outputId": "db28460c-9b22-4ee5-9c5c-a1eec8836724"
      },
      "source": [
        "# load in txt data\n",
        "\n",
        "ship_input = np.loadtxt(data_dir+'ship_tpso_input.csv', \n",
        "                        delimiter=\",\", \n",
        "                        dtype='str')\n",
        "ship_output = np.loadtxt(data_dir+'ship_ph_output.csv', \n",
        "                        delimiter=\",\", \n",
        "                        dtype='str')\n",
        "\n",
        "glider_input = np.loadtxt(data_dir+'glider_tpso_input.csv', \n",
        "                        delimiter=\",\", \n",
        "                        dtype='str')\n",
        "glider_output = np.loadtxt(data_dir+'glider_ph_output.csv', \n",
        "                        delimiter=\",\", \n",
        "                        dtype='str')\n",
        "\n",
        "wcoa_input = np.loadtxt(data_dir+'wcoa_tpso_input.csv', \n",
        "                        delimiter=\",\", \n",
        "                        dtype='str')\n",
        "wcoa_output = np.loadtxt(data_dir+'wcoa_ph_output.csv', \n",
        "                        delimiter=\",\", \n",
        "                        dtype='str')\n",
        "\n",
        "display(ship_input[:6])\n",
        "display(ship_output[:6])\n",
        "\n",
        "display(glider_input[:6])\n",
        "display(glider_output[:6])\n",
        "\n",
        "display(wcoa_input[:6])\n",
        "display(wcoa_output[:6])\n"
      ],
      "execution_count": null,
      "outputs": [
        {
          "output_type": "display_data",
          "data": {
            "text/plain": [
              "array([['20190511', '36.798', '-121.8462', '202.6', '8.6075', '33.9971',\n",
              "        '94.2'],\n",
              "       ['20190511', '36.798', '-121.8462', '202.8', '8.581', '34.001',\n",
              "        '93.3'],\n",
              "       ['20190511', '36.798', '-121.8462', '152.1', '9.1717', '33.9202',\n",
              "        '112.5'],\n",
              "       ['20190511', '36.798', '-121.8462', '101.3', '9.5935', '33.8561',\n",
              "        '129.6'],\n",
              "       ['20190511', '36.798', '-121.8462', '61.0', '10.6014', '33.6941',\n",
              "        '191.1'],\n",
              "       ['20190511', '36.798', '-121.8462', '40.6', '11.0791', '33.6917',\n",
              "        '196.9']], dtype='<U18')"
            ]
          },
          "metadata": {
            "tags": []
          }
        },
        {
          "output_type": "display_data",
          "data": {
            "text/plain": [
              "array(['7.730970739061131', '7.727680727079802', '7.762957925077376',\n",
              "       '7.796313545797834', '7.894515063962825', '7.922467194824854'],\n",
              "      dtype='<U18')"
            ]
          },
          "metadata": {
            "tags": []
          }
        },
        {
          "output_type": "display_data",
          "data": {
            "text/plain": [
              "array([['20190529', '36.747', '-122.061', '500.84', '5.947', '34.222',\n",
              "        '20.52'],\n",
              "       ['20190529', '36.747', '-122.061', '500.28', '5.952999999999999',\n",
              "        '34.218', '20.28'],\n",
              "       ['20190529', '36.747', '-122.061', '499.68', '5.97', '34.216',\n",
              "        '20.03'],\n",
              "       ['20190529', '36.747', '-122.061', '499.0', '5.971', '34.216',\n",
              "        '19.92'],\n",
              "       ['20190529', '36.747', '-122.061', '498.36', '5.973', '34.216',\n",
              "        '19.81'],\n",
              "       ['20190529', '36.747', '-122.061', '497.64', '5.975', '34.216',\n",
              "        '19.7']], dtype='<U18')"
            ]
          },
          "metadata": {
            "tags": []
          }
        },
        {
          "output_type": "display_data",
          "data": {
            "text/plain": [
              "array(['7.537999999999999', '7.5375', '7.5363', '7.5365', '7.5363',\n",
              "       '7.5366'], dtype='<U18')"
            ]
          },
          "metadata": {
            "tags": []
          }
        },
        {
          "output_type": "display_data",
          "data": {
            "text/plain": [
              "array([['20160518', '36.81', '-121.818', '15.0', '13.34', '33.143',\n",
              "        '272.8'],\n",
              "       ['20160518', '36.81', '-121.818', '5.1', '13.96',\n",
              "        '33.138000000000005', '273.9'],\n",
              "       ['20160518', '36.81', '-121.818', '3.4', '14.0', '33.139',\n",
              "        '274.0'],\n",
              "       ['20160518', '36.795', '-121.848', '251.2', '7.89', '34.05',\n",
              "        '67.8'],\n",
              "       ['20160518', '36.795', '-121.848', '151.0', '8.62', '33.954',\n",
              "        '92.6'],\n",
              "       ['20160518', '36.795', '-121.848', '100.5', '8.87', '33.908',\n",
              "        '104.4']], dtype='<U19')"
            ]
          },
          "metadata": {
            "tags": []
          }
        },
        {
          "output_type": "display_data",
          "data": {
            "text/plain": [
              "array(['8.034862400919026', '8.040221578006799', '8.042729240792925',\n",
              "       '7.614367250629397', '7.649846263031173', '7.666234175745569'],\n",
              "      dtype='<U18')"
            ]
          },
          "metadata": {
            "tags": []
          }
        }
      ]
    },
    {
      "cell_type": "code",
      "metadata": {
        "colab": {
          "base_uri": "https://localhost:8080/",
          "height": 70
        },
        "id": "e2lhGd4_6vIL",
        "outputId": "4bd16f64-c753-4c8c-adab-f1758cd7f941"
      },
      "source": [
        "# CONCATENATE INPUTS\n",
        "def concatenate_prep_data(input_arrays, output_arrays, \n",
        "                          save_csv=False, save_txt=False):\n",
        "\n",
        "  inputs = np.concatenate(input_arrays)\n",
        "  outputs = np.concatenate(output_arrays)\n",
        "\n",
        "  # TRANSFORM DATE AND PRESSURE INPUTS\n",
        "\n",
        "  # method to help transform date\n",
        "  def date_to_nth_day(the_date):\n",
        "    date = pd.to_datetime(the_date)\n",
        "    new_year_day = pd.Timestamp(year=date.year, month=1, day=1)\n",
        "    day_of_the_year = (date - new_year_day).days + 1\n",
        "    return day_of_the_year\n",
        "\n",
        "  # loop through inputs and perform transformations\n",
        "  for input in inputs:\n",
        "    # adjust date\n",
        "    date = input[0]\n",
        "    frac_year = date_to_nth_day(date) / 365\n",
        "    if dyear:\n",
        "      input[0] = int(date[0:4]) + frac_year\n",
        "    else:\n",
        "      input[0] = math.sin(2*math.pi*frac_year) \n",
        "    # adjust pressure\n",
        "    if w_pres:\n",
        "      pres = float(input[3])\n",
        "      input[3] = ( pres/20000 ) + ( 1 / ( 1 + math.exp(-1*pres / 300) )**3 ) \n",
        "    \n",
        "  # if desired save arrays as .txt files\n",
        "  if save_txt or save_csv: \n",
        "\n",
        "    file_modifier = ''\n",
        "    if w_pres:\n",
        "      file_modifier = 'pres_'\n",
        "    if not dyear:\n",
        "      file_modifier += 'sin_'\n",
        "\n",
        "    if save_txt:\n",
        "      input_header = 'DATE LATITUDE LONGITUDE CTDPRS CTDTMP CTDSAL OXYGEN'\n",
        "      np.savetxt(training_dir + file_modifier + 'training_tpso_input.txt', inputs, \n",
        "                 fmt='%s', header=input_header)\n",
        "      output_header = 'TOT_PH'\n",
        "      np.savetxt(training_dir + file_modifier + 'training_ph_output.txt', outputs, \n",
        "                 fmt='%s', header=output_header)\n",
        "    else:\n",
        "      input_header = 'DATE, LATITUDE, LONGITUDE, CTDPRS, CTDTMP, CTDSAL, OXYGEN'\n",
        "      np.savetxt(training_dir + file_modifier + 'training_tpso_input.csv', inputs, \n",
        "                 fmt='%s', delimiter=\",\", header=input_header)\n",
        "      output_header = 'TOT_PH'\n",
        "      np.savetxt(training_dir + file_modifier + 'training_ph_output.csv', outputs, \n",
        "                 fmt='%s', delimiter=\",\", header=output_header)\n",
        "      \n",
        "  return inputs, outputs\n",
        "\n",
        "# GET INPUT OUTPUT ARRAYS\n",
        "\n",
        "inputs, outputs = concatenate_prep_data((ship_input, glider_input, wcoa_input),\n",
        "                                        (ship_output, glider_output, wcoa_output),\n",
        "                                        save_csv=True)\n",
        "\n",
        "display(inputs[0])\n",
        "display(outputs[0])"
      ],
      "execution_count": null,
      "outputs": [
        {
          "output_type": "display_data",
          "data": {
            "text/plain": [
              "array(['0.7748840413670407', '36.798', '-121.8462', '0.30116400653352504',\n",
              "       '8.6075', '33.9971', '94.2'], dtype='<U19')"
            ]
          },
          "metadata": {
            "tags": []
          }
        },
        {
          "output_type": "display_data",
          "data": {
            "application/vnd.google.colaboratory.intrinsic+json": {
              "type": "string"
            },
            "text/plain": [
              "'7.730970739061131'"
            ]
          },
          "metadata": {
            "tags": []
          }
        }
      ]
    },
    {
      "cell_type": "code",
      "metadata": {
        "colab": {
          "base_uri": "https://localhost:8080/",
          "height": 35
        },
        "id": "KJddkhNCQZ2e",
        "outputId": "faca6dd9-c37e-4ee8-c83e-0b2fcc360880"
      },
      "source": [
        "display(inputs.shape)"
      ],
      "execution_count": null,
      "outputs": [
        {
          "output_type": "display_data",
          "data": {
            "text/plain": [
              "(1004534, 7)"
            ]
          },
          "metadata": {
            "tags": []
          }
        }
      ]
    },
    {
      "cell_type": "code",
      "metadata": {
        "id": "kLJVLqAonbej"
      },
      "source": [
        ""
      ],
      "execution_count": null,
      "outputs": []
    }
  ]
}