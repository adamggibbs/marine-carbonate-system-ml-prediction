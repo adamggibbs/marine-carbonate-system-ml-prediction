{
  "nbformat": 4,
  "nbformat_minor": 0,
  "metadata": {
    "accelerator": "TPU",
    "colab": {
      "name": "DNN_training_testing.ipynb",
      "provenance": [],
      "collapsed_sections": [],
      "include_colab_link": true
    },
    "kernelspec": {
      "display_name": "Python 3",
      "name": "python3"
    },
    "language_info": {
      "name": "python"
    }
  },
  "cells": [
    {
      "cell_type": "markdown",
      "metadata": {
        "id": "view-in-github",
        "colab_type": "text"
      },
      "source": [
        "<a href=\"https://colab.research.google.com/github/adamggibbs/marine-carbonate-system-ml-prediction/blob/master/DNN_training_testing.ipynb\" target=\"_parent\"><img src=\"https://colab.research.google.com/assets/colab-badge.svg\" alt=\"Open In Colab\"/></a>"
      ]
    },
    {
      "cell_type": "code",
      "metadata": {
        "colab": {
          "base_uri": "https://localhost:8080/"
        },
        "id": "DJABzQunoBQh",
        "outputId": "421bdaab-fb21-42e4-9f52-13ee5779aee2"
      },
      "source": [
        "from google.colab import drive\n",
        "\n",
        "drive.mount('/content/drive', force_remount=True)"
      ],
      "execution_count": null,
      "outputs": [
        {
          "name": "stdout",
          "output_type": "stream",
          "text": [
            "Mounted at /content/drive\n"
          ]
        }
      ]
    },
    {
      "cell_type": "code",
      "metadata": {
        "id": "ZK4h55FUoLfP"
      },
      "source": [
        "# IMPORTS\n",
        "\n",
        "import os\n",
        "import math\n",
        "\n",
        "import numpy as np\n",
        "import pandas as pd\n",
        "import matplotlib.pyplot as plt\n",
        "\n",
        "%tensorflow_version 2.x\n",
        "import tensorflow as tf\n",
        "from tensorflow import keras\n",
        "from tensorflow.keras import layers\n",
        "from tensorflow.keras import metrics\n",
        "from tensorflow.keras.layers.experimental import preprocessing\n",
        "\n",
        "# data dirs\n",
        "data_dir = '/content/drive/MyDrive/Adam Gibbs/data/'\n",
        "model_dir = data_dir + 'models/'\n",
        "training_dir=data_dir + 'training/'\n",
        "\n",
        "# model hyperparams\n",
        "layer1 = 48\n",
        "layer2 = 24\n",
        "dyear = True\n",
        "w_pres = False"
      ],
      "execution_count": null,
      "outputs": []
    },
    {
      "cell_type": "code",
      "metadata": {
        "colab": {
          "base_uri": "https://localhost:8080/",
          "height": 51
        },
        "id": "oBDz9QYmoTQV",
        "outputId": "bad1b631-ce32-47f9-8b24-a3aae6b67337"
      },
      "source": [
        "# load in txt data\n",
        "\n",
        "file_modifier = ''\n",
        "if w_pres:\n",
        "  file_modifier = 'pres_'\n",
        "if not dyear:\n",
        "  file_modifier += 'sin_'\n",
        "\n",
        "train_inputs = np.loadtxt(training_dir+file_modifier+'training_tpso_input.csv', \n",
        "                        delimiter=\",\", \n",
        "                        dtype='float')\n",
        "train_outputs = np.loadtxt(training_dir+file_modifier+'training_ph_output.csv', \n",
        "                        delimiter=\",\", \n",
        "                        dtype='float')\n",
        "\n",
        "display(train_inputs.shape)\n",
        "display(train_outputs.shape)\n"
      ],
      "execution_count": null,
      "outputs": [
        {
          "data": {
            "text/plain": [
              "(1003529, 7)"
            ]
          },
          "metadata": {},
          "output_type": "display_data"
        },
        {
          "data": {
            "text/plain": [
              "(1003529,)"
            ]
          },
          "metadata": {},
          "output_type": "display_data"
        }
      ]
    },
    {
      "cell_type": "code",
      "metadata": {
        "colab": {
          "base_uri": "https://localhost:8080/",
          "height": 69
        },
        "id": "S6PCoa6yPKNn",
        "outputId": "be7e503a-6f62-4772-fff6-0a6c859dc570"
      },
      "source": [
        "to_remove = ()\n",
        "\n",
        "train_inputs = np.delete(train_inputs, to_remove, axis=1)\n",
        "\n",
        "np.set_printoptions(precision=5, suppress=True)\n",
        "display(train_inputs.shape)\n",
        "display(train_inputs[0])"
      ],
      "execution_count": null,
      "outputs": [
        {
          "data": {
            "text/plain": [
              "(1003529, 7)"
            ]
          },
          "metadata": {},
          "output_type": "display_data"
        },
        {
          "data": {
            "text/plain": [
              "array([2019.77534,   36.725  , -122.219  ,  111.     ,    9.462  ,\n",
              "         33.943  ,  104.64   ])"
            ]
          },
          "metadata": {},
          "output_type": "display_data"
        }
      ]
    },
    {
      "cell_type": "code",
      "metadata": {
        "id": "2YUeVF-Lo8OS"
      },
      "source": [
        "# CREATE NORMALIZER\n",
        "\n",
        "normalizer = preprocessing.Normalization(axis=-1)\n",
        "normalizer.adapt(train_inputs)\n"
      ],
      "execution_count": null,
      "outputs": []
    },
    {
      "cell_type": "code",
      "metadata": {
        "colab": {
          "base_uri": "https://localhost:8080/",
          "height": 416
        },
        "id": "uF2bFgjjFIf-",
        "outputId": "c4024b1e-8b0c-471e-f988-24a92c6430f5"
      },
      "source": [
        "# METHOD TO BUILD AND COMPILE MODEL\n",
        "\n",
        "if dyear:\n",
        "  model_modifier = \"dyear\"\n",
        "else:\n",
        "  model_modifier = \"sin\"\n",
        "\n",
        "if w_pres:\n",
        "  model_modifier += \"_pres\"\n",
        "\n",
        "model_name = \"DNN({},{})\".format(layer1, layer2) + model_modifier\n",
        "\n",
        "def build_and_compile_model(norm):\n",
        "  model = keras.Sequential([\n",
        "      norm,\n",
        "      layers.Dropout(0.5, seed=101),\n",
        "      layers.Dense(layer1, activation='tanh'),\n",
        "      layers.Dropout(0.5, seed=101),\n",
        "      layers.Dense(layer2, activation='tanh'),\n",
        "      layers.Dense(1)\n",
        "  ])\n",
        "\n",
        "  model.compile(loss='mean_squared_error',\n",
        "                optimizer=tf.keras.optimizers.Adam(0.01),\n",
        "                metrics=[\n",
        "                         metrics.MeanAbsoluteError(),\n",
        "                         metrics.MeanSquaredError(),\n",
        "                         metrics.RootMeanSquaredError()\n",
        "                ])\n",
        "  return model\n",
        "\n",
        "display(model_name)\n",
        "dnn_model = build_and_compile_model(normalizer)\n",
        "dnn_model.summary()"
      ],
      "execution_count": null,
      "outputs": [
        {
          "data": {
            "application/vnd.google.colaboratory.intrinsic+json": {
              "type": "string"
            },
            "text/plain": [
              "'DNN(48,24)dyear'"
            ]
          },
          "metadata": {},
          "output_type": "display_data"
        },
        {
          "name": "stdout",
          "output_type": "stream",
          "text": [
            "Model: \"sequential\"\n",
            "_________________________________________________________________\n",
            " Layer (type)                Output Shape              Param #   \n",
            "=================================================================\n",
            " normalization (Normalizatio  (None, 7)                15        \n",
            " n)                                                              \n",
            "                                                                 \n",
            " dropout (Dropout)           (None, 7)                 0         \n",
            "                                                                 \n",
            " dense (Dense)               (None, 48)                384       \n",
            "                                                                 \n",
            " dropout_1 (Dropout)         (None, 48)                0         \n",
            "                                                                 \n",
            " dense_1 (Dense)             (None, 24)                1176      \n",
            "                                                                 \n",
            " dense_2 (Dense)             (None, 1)                 25        \n",
            "                                                                 \n",
            "=================================================================\n",
            "Total params: 1,600\n",
            "Trainable params: 1,585\n",
            "Non-trainable params: 15\n",
            "_________________________________________________________________\n"
          ]
        }
      ]
    },
    {
      "cell_type": "code",
      "metadata": {
        "colab": {
          "background_save": true,
          "base_uri": "https://localhost:8080/"
        },
        "id": "tl7PZsY_F4zO",
        "outputId": "f3ea90fe-9ac1-4cde-8e7c-7d556d243336"
      },
      "source": [
        "%%time\n",
        "history = dnn_model.fit(\n",
        "    train_inputs, train_outputs,\n",
        "    validation_split=0, epochs=100,\n",
        "    use_multiprocessing=True)"
      ],
      "execution_count": null,
      "outputs": [
        {
          "name": "stdout",
          "output_type": "stream",
          "text": [
            "Epoch 1/100\n",
            "31361/31361 [==============================] - 75s 2ms/step - loss: 0.0401 - mean_absolute_error: 0.0645 - mean_squared_error: 0.0401 - root_mean_squared_error: 0.2002\n",
            "Epoch 2/100\n",
            "31361/31361 [==============================] - 104s 3ms/step - loss: 0.0059 - mean_absolute_error: 0.0518 - mean_squared_error: 0.0059 - root_mean_squared_error: 0.0765\n",
            "Epoch 3/100\n",
            "31361/31361 [==============================] - 85s 3ms/step - loss: 0.0056 - mean_absolute_error: 0.0513 - mean_squared_error: 0.0056 - root_mean_squared_error: 0.0745\n",
            "Epoch 4/100\n",
            "31361/31361 [==============================] - 71s 2ms/step - loss: 0.0055 - mean_absolute_error: 0.0510 - mean_squared_error: 0.0055 - root_mean_squared_error: 0.0740\n",
            "Epoch 5/100\n",
            "31361/31361 [==============================] - 70s 2ms/step - loss: 0.0054 - mean_absolute_error: 0.0506 - mean_squared_error: 0.0054 - root_mean_squared_error: 0.0735\n",
            "Epoch 6/100\n",
            "31361/31361 [==============================] - 74s 2ms/step - loss: 0.0053 - mean_absolute_error: 0.0503 - mean_squared_error: 0.0053 - root_mean_squared_error: 0.0729\n",
            "Epoch 7/100\n",
            "31361/31361 [==============================] - 70s 2ms/step - loss: 0.0052 - mean_absolute_error: 0.0499 - mean_squared_error: 0.0052 - root_mean_squared_error: 0.0723\n",
            "Epoch 8/100\n",
            "31361/31361 [==============================] - 67s 2ms/step - loss: 0.0053 - mean_absolute_error: 0.0502 - mean_squared_error: 0.0053 - root_mean_squared_error: 0.0729\n",
            "Epoch 9/100\n",
            "31361/31361 [==============================] - 76s 2ms/step - loss: 0.0053 - mean_absolute_error: 0.0499 - mean_squared_error: 0.0053 - root_mean_squared_error: 0.0725\n",
            "Epoch 10/100\n",
            "31361/31361 [==============================] - 70s 2ms/step - loss: 0.0052 - mean_absolute_error: 0.0499 - mean_squared_error: 0.0052 - root_mean_squared_error: 0.0725\n",
            "Epoch 11/100\n",
            "31361/31361 [==============================] - 68s 2ms/step - loss: 0.0052 - mean_absolute_error: 0.0497 - mean_squared_error: 0.0052 - root_mean_squared_error: 0.0721\n",
            "Epoch 12/100\n",
            "31361/31361 [==============================] - 70s 2ms/step - loss: 0.0052 - mean_absolute_error: 0.0495 - mean_squared_error: 0.0052 - root_mean_squared_error: 0.0719\n",
            "Epoch 13/100\n",
            "31361/31361 [==============================] - 79s 3ms/step - loss: 0.0052 - mean_absolute_error: 0.0500 - mean_squared_error: 0.0052 - root_mean_squared_error: 0.0723\n",
            "Epoch 14/100\n",
            "31361/31361 [==============================] - 74s 2ms/step - loss: 0.0052 - mean_absolute_error: 0.0496 - mean_squared_error: 0.0052 - root_mean_squared_error: 0.0718\n",
            "Epoch 15/100\n",
            "31361/31361 [==============================] - 76s 2ms/step - loss: 0.0052 - mean_absolute_error: 0.0496 - mean_squared_error: 0.0052 - root_mean_squared_error: 0.0719\n",
            "Epoch 16/100\n",
            "31361/31361 [==============================] - 82s 3ms/step - loss: 0.0052 - mean_absolute_error: 0.0496 - mean_squared_error: 0.0052 - root_mean_squared_error: 0.0722\n",
            "Epoch 17/100\n",
            "31361/31361 [==============================] - 80s 3ms/step - loss: 0.0052 - mean_absolute_error: 0.0495 - mean_squared_error: 0.0052 - root_mean_squared_error: 0.0719\n",
            "Epoch 18/100\n",
            "31361/31361 [==============================] - 86s 3ms/step - loss: 0.0052 - mean_absolute_error: 0.0498 - mean_squared_error: 0.0052 - root_mean_squared_error: 0.0720\n",
            "Epoch 19/100\n",
            "31361/31361 [==============================] - 73s 2ms/step - loss: 0.0052 - mean_absolute_error: 0.0498 - mean_squared_error: 0.0052 - root_mean_squared_error: 0.0720\n",
            "Epoch 20/100\n",
            "31361/31361 [==============================] - 75s 2ms/step - loss: 0.0052 - mean_absolute_error: 0.0495 - mean_squared_error: 0.0052 - root_mean_squared_error: 0.0718\n",
            "Epoch 21/100\n",
            "31361/31361 [==============================] - 82s 3ms/step - loss: 0.0052 - mean_absolute_error: 0.0495 - mean_squared_error: 0.0052 - root_mean_squared_error: 0.0719\n",
            "Epoch 22/100\n",
            "31361/31361 [==============================] - 83s 3ms/step - loss: 0.0052 - mean_absolute_error: 0.0497 - mean_squared_error: 0.0052 - root_mean_squared_error: 0.0720\n",
            "Epoch 23/100\n",
            "31361/31361 [==============================] - 71s 2ms/step - loss: 0.0052 - mean_absolute_error: 0.0495 - mean_squared_error: 0.0052 - root_mean_squared_error: 0.0718\n",
            "Epoch 24/100\n",
            "31361/31361 [==============================] - 76s 2ms/step - loss: 0.0052 - mean_absolute_error: 0.0498 - mean_squared_error: 0.0052 - root_mean_squared_error: 0.0720\n",
            "Epoch 25/100\n",
            "31361/31361 [==============================] - 77s 2ms/step - loss: 0.0052 - mean_absolute_error: 0.0496 - mean_squared_error: 0.0052 - root_mean_squared_error: 0.0718\n",
            "Epoch 26/100\n",
            "31361/31361 [==============================] - 78s 2ms/step - loss: 0.0052 - mean_absolute_error: 0.0496 - mean_squared_error: 0.0052 - root_mean_squared_error: 0.0720\n",
            "Epoch 27/100\n",
            "31361/31361 [==============================] - 69s 2ms/step - loss: 0.0052 - mean_absolute_error: 0.0496 - mean_squared_error: 0.0052 - root_mean_squared_error: 0.0719\n",
            "Epoch 28/100\n",
            "31361/31361 [==============================] - 73s 2ms/step - loss: 0.0051 - mean_absolute_error: 0.0495 - mean_squared_error: 0.0051 - root_mean_squared_error: 0.0717\n",
            "Epoch 29/100\n",
            "31361/31361 [==============================] - 79s 3ms/step - loss: 0.0052 - mean_absolute_error: 0.0495 - mean_squared_error: 0.0052 - root_mean_squared_error: 0.0718\n",
            "Epoch 30/100\n",
            "31361/31361 [==============================] - 73s 2ms/step - loss: 0.0052 - mean_absolute_error: 0.0494 - mean_squared_error: 0.0052 - root_mean_squared_error: 0.0718\n",
            "Epoch 31/100\n",
            "31361/31361 [==============================] - 79s 3ms/step - loss: 0.0052 - mean_absolute_error: 0.0495 - mean_squared_error: 0.0052 - root_mean_squared_error: 0.0719\n",
            "Epoch 32/100\n",
            "31361/31361 [==============================] - 75s 2ms/step - loss: 0.0052 - mean_absolute_error: 0.0495 - mean_squared_error: 0.0052 - root_mean_squared_error: 0.0719\n",
            "Epoch 33/100\n",
            "31361/31361 [==============================] - 70s 2ms/step - loss: 0.0051 - mean_absolute_error: 0.0494 - mean_squared_error: 0.0051 - root_mean_squared_error: 0.0717\n",
            "Epoch 34/100\n",
            "31361/31361 [==============================] - 67s 2ms/step - loss: 0.0051 - mean_absolute_error: 0.0493 - mean_squared_error: 0.0051 - root_mean_squared_error: 0.0717\n",
            "Epoch 35/100\n",
            "31361/31361 [==============================] - 77s 2ms/step - loss: 0.0051 - mean_absolute_error: 0.0493 - mean_squared_error: 0.0051 - root_mean_squared_error: 0.0717\n",
            "Epoch 36/100\n",
            "31361/31361 [==============================] - 73s 2ms/step - loss: 0.0051 - mean_absolute_error: 0.0494 - mean_squared_error: 0.0051 - root_mean_squared_error: 0.0717\n",
            "Epoch 37/100\n",
            "31361/31361 [==============================] - 77s 2ms/step - loss: 0.0051 - mean_absolute_error: 0.0494 - mean_squared_error: 0.0051 - root_mean_squared_error: 0.0717\n",
            "Epoch 38/100\n",
            "31361/31361 [==============================] - 81s 3ms/step - loss: 0.0051 - mean_absolute_error: 0.0492 - mean_squared_error: 0.0051 - root_mean_squared_error: 0.0717\n",
            "Epoch 39/100\n",
            "31361/31361 [==============================] - 76s 2ms/step - loss: 0.0051 - mean_absolute_error: 0.0491 - mean_squared_error: 0.0051 - root_mean_squared_error: 0.0716\n",
            "Epoch 40/100\n",
            "31361/31361 [==============================] - 76s 2ms/step - loss: 0.0051 - mean_absolute_error: 0.0490 - mean_squared_error: 0.0051 - root_mean_squared_error: 0.0715\n",
            "Epoch 41/100\n",
            "31361/31361 [==============================] - 73s 2ms/step - loss: 0.0051 - mean_absolute_error: 0.0491 - mean_squared_error: 0.0051 - root_mean_squared_error: 0.0714\n",
            "Epoch 42/100\n",
            "31361/31361 [==============================] - 84s 3ms/step - loss: 0.0051 - mean_absolute_error: 0.0492 - mean_squared_error: 0.0051 - root_mean_squared_error: 0.0717\n",
            "Epoch 43/100\n",
            "31361/31361 [==============================] - 76s 2ms/step - loss: 0.0051 - mean_absolute_error: 0.0489 - mean_squared_error: 0.0051 - root_mean_squared_error: 0.0713\n",
            "Epoch 44/100\n",
            "31361/31361 [==============================] - 86s 3ms/step - loss: 0.0051 - mean_absolute_error: 0.0489 - mean_squared_error: 0.0051 - root_mean_squared_error: 0.0713\n",
            "Epoch 45/100\n",
            "31361/31361 [==============================] - 80s 3ms/step - loss: 0.0051 - mean_absolute_error: 0.0490 - mean_squared_error: 0.0051 - root_mean_squared_error: 0.0715\n",
            "Epoch 46/100\n",
            "31361/31361 [==============================] - 70s 2ms/step - loss: 0.0051 - mean_absolute_error: 0.0486 - mean_squared_error: 0.0051 - root_mean_squared_error: 0.0711\n",
            "Epoch 47/100\n",
            "31361/31361 [==============================] - 70s 2ms/step - loss: 0.0050 - mean_absolute_error: 0.0483 - mean_squared_error: 0.0050 - root_mean_squared_error: 0.0708\n",
            "Epoch 48/100\n",
            " 9119/31361 [=======>......................] - ETA: 55s - loss: 0.0050 - mean_absolute_error: 0.0484 - mean_squared_error: 0.0050 - root_mean_squared_error: 0.0708"
          ]
        }
      ]
    },
    {
      "cell_type": "code",
      "metadata": {
        "id": "HHhURX-sGLrU"
      },
      "source": [
        "# train_results = dnn_model.evaluate(train_inputs, train_outputs)\n",
        "# test_results = dnn_model.evaluate(test_inputs, test_outputs) "
      ],
      "execution_count": null,
      "outputs": []
    },
    {
      "cell_type": "code",
      "metadata": {
        "colab": {
          "base_uri": "https://localhost:8080/",
          "height": 283
        },
        "id": "uA14OS1gJzOF",
        "outputId": "d7c9964c-9711-4d88-adf7-0dfeb6eac605"
      },
      "source": [
        "def plot_loss(history):\n",
        "  plt.plot(history.history['loss'], label='loss')\n",
        "  # plt.plot(history.history['val_loss'], label='val_loss')\n",
        "  plt.ylim(0,0.001)\n",
        "  plt.xlabel('Epoch')\n",
        "  plt.ylabel('Error')\n",
        "  plt.legend()\n",
        "  plt.grid(True)\n",
        "  \n",
        "plot_loss(history)"
      ],
      "execution_count": null,
      "outputs": [
        {
          "data": {
            "image/png": "[encoded data removed]",
            "text/plain": [
              "<Figure size 432x288 with 1 Axes>"
            ]
          },
          "metadata": {
            "tags": []
          },
          "output_type": "display_data"
        }
      ]
    },
    {
      "cell_type": "code",
      "metadata": {
        "colab": {
          "base_uri": "https://localhost:8080/",
          "height": 312
        },
        "id": "aJeaKuAQSGT4",
        "outputId": "e31294aa-2811-44e5-e28f-b2d5c574e46c"
      },
      "source": [
        "test_predictions = dnn_model.predict(train_inputs).flatten()\n",
        "\n",
        "count = 0\n",
        "ind = 0\n",
        "for o in test_predictions:\n",
        "  if float(o) < 7.3 or float(o) > 8.5:\n",
        "    count += 1\n",
        "    print(ind)\n",
        "  ind += 1\n",
        "display(count)\n",
        "\n",
        "\n",
        "ax = plt.axes(aspect='equal')\n",
        "\n",
        "plt.scatter(train_outputs, test_predictions)\n",
        "\n",
        "lims = [\n",
        "    np.min([ax.get_xlim(), ax.get_ylim()]),  # min of both axes\n",
        "    np.max([ax.get_xlim(), ax.get_ylim()]),  # max of both axes\n",
        "]\n",
        "plt.ylim(lims)\n",
        "plt.xlim(lims)\n",
        "plt.plot(lims,lims, color='black')\n",
        "\n",
        "plt.title('pH Predictions vs Observations')\n",
        "plt.xlabel('True Values pH')\n",
        "plt.ylabel('Predictions pH')\n",
        "\n",
        "plt.show()"
      ],
      "execution_count": null,
      "outputs": [
        {
          "data": {
            "text/plain": [
              "0"
            ]
          },
          "metadata": {
            "tags": []
          },
          "output_type": "display_data"
        },
        {
          "data": {
            "image/png": "[encoded data removed]",
            "text/plain": [
              "<Figure size 432x288 with 1 Axes>"
            ]
          },
          "metadata": {
            "tags": []
          },
          "output_type": "display_data"
        }
      ]
    },
    {
      "cell_type": "code",
      "metadata": {
        "colab": {
          "base_uri": "https://localhost:8080/"
        },
        "id": "WKolOvBghxvg",
        "outputId": "78bb3e0f-f38e-4ef1-ec34-6db0beaf544a"
      },
      "source": [
        "dnn_model.save(model_dir+'tanh_'+model_name)"
      ],
      "execution_count": null,
      "outputs": [
        {
          "name": "stdout",
          "output_type": "stream",
          "text": [
            "INFO:tensorflow:Assets written to: /content/drive/MyDrive/Adam Gibbs/data/models/tanh_DNN(32,16)dyear/assets\n"
          ]
        }
      ]
    },
    {
      "cell_type": "code",
      "metadata": {
        "id": "8H-hPe6r7Vo7"
      },
      "source": [
        ""
      ],
      "execution_count": null,
      "outputs": []
    }
  ]
}
